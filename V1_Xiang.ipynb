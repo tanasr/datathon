{
 "cells": [
  {
   "cell_type": "code",
   "execution_count": 25,
   "metadata": {},
   "outputs": [],
   "source": [
    "import os\n",
    "\n",
    "import pandas as pd\n",
    "import matplotlib.pyplot as plt\n",
    "from sklearn.impute import SimpleImputer\n",
    "from sklearn.preprocessing import StandardScaler,MaxAbsScaler,OneHotEncoder\n",
    "from sklearn.model_selection import train_test_split,StratifiedShuffleSplit\n",
    "from sklearn.pipeline import Pipeline\n",
    "from sklearn.base import BaseEstimator, TransformerMixin\n",
    "from sklearn.compose import ColumnTransformer\n",
    "from sklearn.linear_model import LinearRegression\n",
    "from sklearn.ensemble import RandomForestRegressor\n",
    "import seaborn as sns\n",
    "from sklearn.metrics import mean_squared_error, mean_absolute_error,mean_squared_log_error\n",
    "import math\n",
    "from sklearn.preprocessing import StandardScaler,MaxAbsScaler,OneHotEncoder\n",
    "from sklearn.model_selection import train_test_split,StratifiedShuffleSplit, cross_val_score,cross_validate,GridSearchCV\n",
    "from sklearn.linear_model import LogisticRegression\n",
    "from sklearn.pipeline import Pipeline\n",
    "\n",
    "from sklearn.ensemble import RandomForestClassifier,RandomForestRegressor\n",
    "from sklearn.metrics import balanced_accuracy_score,precision_score,recall_score\n",
    "from sklearn.svm import SVC\n",
    "from pandas.plotting import scatter_matrix\n",
    "def print_info(variable_name):\n",
    "    print(\"---\", variable_name, \"     type = \", type(eval(variable_name)), \"     Value = \", eval(variable_name),\" --- \")\n",
    "\n",
    "def print_infos(*variable_names):\n",
    "    \"\"\"\n",
    "        Prints information about the variables\n",
    "\n",
    "        Example: print_infos('var1','var2')\n",
    "    \"\"\"\n",
    "    for variable_name in variable_names:\n",
    "        print(\"---\", variable_name, \"     type = \", type(eval(variable_name)), \"     Value = \", eval(variable_name),\" --- \")\n",
    "\n",
    "def print_types(*variable_names,print_shape=True):\n",
    "    \"\"\"\n",
    "        Prints types about the variables\n",
    "\n",
    "        :param print_shape(bool): Prints shape of variables (Needs them to be a np array, DataFrame or Series)\n",
    "\n",
    "        Example: print_types('var1','var2')\n",
    "    \"\"\"\n",
    "    for variable_name in variable_names:\n",
    "        if not print_shape:\n",
    "            print(\"---\", variable_name, \"     type = \", type(eval(variable_name)))\n",
    "        if print_shape:\n",
    "            print(\"---\", variable_name, \"     type = \", type(eval(variable_name)),end=\"\") #makes to to not have a new line\n",
    "            try:\n",
    "                print(\"     Shape = \", eval(variable_name).shape,\" --- \\n\")\n",
    "            except:\n",
    "                pass\n"
   ]
  },
  {
   "cell_type": "code",
   "execution_count": null,
   "metadata": {},
   "outputs": [],
   "source": [
    "data=pd.read_pickle(\"./data/trainset.pkl\")\n",
    "if False:\n",
    "    data.head(10000).to_excel(\"./data/trainset.xlsx\")\n",
    "data=data.drop([\"index\"],axis=1)\n",
    "\n",
    "data['error'] = (data['error_category'] != 'NO_ERROR').astype(int)"
   ]
  },
  {
   "cell_type": "code",
   "execution_count": null,
   "metadata": {},
   "outputs": [],
   "source": [
    "data2 = data.sample(frac = 1)"
   ]
  },
  {
   "cell_type": "markdown",
   "metadata": {},
   "source": [
    "Look at DataFrame"
   ]
  },
  {
   "cell_type": "code",
   "execution_count": null,
   "metadata": {},
   "outputs": [
    {
     "data": {
      "text/html": [
       "<div>\n",
       "<style scoped>\n",
       "    .dataframe tbody tr th:only-of-type {\n",
       "        vertical-align: middle;\n",
       "    }\n",
       "\n",
       "    .dataframe tbody tr th {\n",
       "        vertical-align: top;\n",
       "    }\n",
       "\n",
       "    .dataframe thead th {\n",
       "        text-align: right;\n",
       "    }\n",
       "</style>\n",
       "<table border=\"1\" class=\"dataframe\">\n",
       "  <thead>\n",
       "    <tr style=\"text-align: right;\">\n",
       "      <th></th>\n",
       "      <th>turbine_id</th>\n",
       "      <th>measured_at</th>\n",
       "      <th>wind_speed</th>\n",
       "      <th>power</th>\n",
       "      <th>nacelle_direction</th>\n",
       "      <th>wind_direction</th>\n",
       "      <th>rotor_speed</th>\n",
       "      <th>generator_speed</th>\n",
       "      <th>temp_environment</th>\n",
       "      <th>temp_hydraulic_oil</th>\n",
       "      <th>temp_gear_bearing</th>\n",
       "      <th>cosphi</th>\n",
       "      <th>blade_angle_avg</th>\n",
       "      <th>hydraulic_pressure</th>\n",
       "      <th>park_id</th>\n",
       "      <th>error_category</th>\n",
       "    </tr>\n",
       "  </thead>\n",
       "  <tbody>\n",
       "    <tr>\n",
       "      <th>0</th>\n",
       "      <td>11</td>\n",
       "      <td>2020-01-01 00:00:00+00:00</td>\n",
       "      <td>0.433333</td>\n",
       "      <td>0.12125</td>\n",
       "      <td>266.0</td>\n",
       "      <td>266.3</td>\n",
       "      <td>0.677852</td>\n",
       "      <td>0.569444</td>\n",
       "      <td>5</td>\n",
       "      <td>20</td>\n",
       "      <td>32</td>\n",
       "      <td>0.85</td>\n",
       "      <td>-1.9</td>\n",
       "      <td>189.2</td>\n",
       "      <td>1</td>\n",
       "      <td>NO_ERROR</td>\n",
       "    </tr>\n",
       "    <tr>\n",
       "      <th>1</th>\n",
       "      <td>11</td>\n",
       "      <td>2020-01-01 00:10:00+00:00</td>\n",
       "      <td>0.458333</td>\n",
       "      <td>0.13875</td>\n",
       "      <td>266.6</td>\n",
       "      <td>267.0</td>\n",
       "      <td>0.704698</td>\n",
       "      <td>0.591766</td>\n",
       "      <td>5</td>\n",
       "      <td>20</td>\n",
       "      <td>33</td>\n",
       "      <td>0.88</td>\n",
       "      <td>&lt;NA&gt;</td>\n",
       "      <td>189.5</td>\n",
       "      <td>1</td>\n",
       "      <td>NO_ERROR</td>\n",
       "    </tr>\n",
       "    <tr>\n",
       "      <th>2</th>\n",
       "      <td>11</td>\n",
       "      <td>2020-01-01 00:20:00+00:00</td>\n",
       "      <td>0.508333</td>\n",
       "      <td>0.18295</td>\n",
       "      <td>270.7</td>\n",
       "      <td>269.4</td>\n",
       "      <td>0.771812</td>\n",
       "      <td>0.647321</td>\n",
       "      <td>5</td>\n",
       "      <td>20</td>\n",
       "      <td>34</td>\n",
       "      <td>0.92</td>\n",
       "      <td>-2.0</td>\n",
       "      <td>190.1</td>\n",
       "      <td>1</td>\n",
       "      <td>NO_ERROR</td>\n",
       "    </tr>\n",
       "    <tr>\n",
       "      <th>3</th>\n",
       "      <td>11</td>\n",
       "      <td>2020-01-01 00:30:00+00:00</td>\n",
       "      <td>0.525</td>\n",
       "      <td>0.2181</td>\n",
       "      <td>272.1</td>\n",
       "      <td>272.7</td>\n",
       "      <td>0.805369</td>\n",
       "      <td>0.676091</td>\n",
       "      <td>5</td>\n",
       "      <td>20</td>\n",
       "      <td>38</td>\n",
       "      <td>0.94</td>\n",
       "      <td>-2.0</td>\n",
       "      <td>190.0</td>\n",
       "      <td>1</td>\n",
       "      <td>NO_ERROR</td>\n",
       "    </tr>\n",
       "    <tr>\n",
       "      <th>4</th>\n",
       "      <td>11</td>\n",
       "      <td>2020-01-01 00:40:00+00:00</td>\n",
       "      <td>0.541667</td>\n",
       "      <td>0.2343</td>\n",
       "      <td>279.5</td>\n",
       "      <td>281.1</td>\n",
       "      <td>0.832215</td>\n",
       "      <td>0.700397</td>\n",
       "      <td>5</td>\n",
       "      <td>20</td>\n",
       "      <td>41</td>\n",
       "      <td>0.95</td>\n",
       "      <td>-2.0</td>\n",
       "      <td>189.9</td>\n",
       "      <td>1</td>\n",
       "      <td>NO_ERROR</td>\n",
       "    </tr>\n",
       "  </tbody>\n",
       "</table>\n",
       "</div>"
      ],
      "text/plain": [
       "   turbine_id                measured_at  wind_speed    power  \\\n",
       "0          11  2020-01-01 00:00:00+00:00    0.433333  0.12125   \n",
       "1          11  2020-01-01 00:10:00+00:00    0.458333  0.13875   \n",
       "2          11  2020-01-01 00:20:00+00:00    0.508333  0.18295   \n",
       "3          11  2020-01-01 00:30:00+00:00       0.525   0.2181   \n",
       "4          11  2020-01-01 00:40:00+00:00    0.541667   0.2343   \n",
       "\n",
       "   nacelle_direction  wind_direction  rotor_speed  generator_speed  \\\n",
       "0              266.0           266.3     0.677852         0.569444   \n",
       "1              266.6           267.0     0.704698         0.591766   \n",
       "2              270.7           269.4     0.771812         0.647321   \n",
       "3              272.1           272.7     0.805369         0.676091   \n",
       "4              279.5           281.1     0.832215         0.700397   \n",
       "\n",
       "   temp_environment  temp_hydraulic_oil  temp_gear_bearing  cosphi  \\\n",
       "0                 5                  20                 32    0.85   \n",
       "1                 5                  20                 33    0.88   \n",
       "2                 5                  20                 34    0.92   \n",
       "3                 5                  20                 38    0.94   \n",
       "4                 5                  20                 41    0.95   \n",
       "\n",
       "   blade_angle_avg  hydraulic_pressure  park_id error_category  \n",
       "0             -1.9               189.2        1       NO_ERROR  \n",
       "1             <NA>               189.5        1       NO_ERROR  \n",
       "2             -2.0               190.1        1       NO_ERROR  \n",
       "3             -2.0               190.0        1       NO_ERROR  \n",
       "4             -2.0               189.9        1       NO_ERROR  "
      ]
     },
     "execution_count": 6,
     "metadata": {},
     "output_type": "execute_result"
    }
   ],
   "source": [
    "data.head()"
   ]
  },
  {
   "cell_type": "code",
   "execution_count": 7,
   "metadata": {},
   "outputs": [
    {
     "name": "stdout",
     "output_type": "stream",
     "text": [
      "(1367190, 16)\n",
      "<class 'pandas.core.frame.DataFrame'>\n",
      "RangeIndex: 1367190 entries, 0 to 1367189\n",
      "Data columns (total 16 columns):\n",
      " #   Column              Non-Null Count    Dtype  \n",
      "---  ------              --------------    -----  \n",
      " 0   turbine_id          1367190 non-null  Int64  \n",
      " 1   measured_at         1367190 non-null  string \n",
      " 2   wind_speed          1266014 non-null  Float64\n",
      " 3   power               1309054 non-null  Float64\n",
      " 4   nacelle_direction   1367190 non-null  Float64\n",
      " 5   wind_direction      1367190 non-null  Float64\n",
      " 6   rotor_speed         1270268 non-null  Float64\n",
      " 7   generator_speed     1268654 non-null  Float64\n",
      " 8   temp_environment    1295786 non-null  Int64  \n",
      " 9   temp_hydraulic_oil  1295632 non-null  Int64  \n",
      " 10  temp_gear_bearing   1296615 non-null  Int64  \n",
      " 11  cosphi              1367190 non-null  Float64\n",
      " 12  blade_angle_avg     1179701 non-null  Float64\n",
      " 13  hydraulic_pressure  1367190 non-null  Float64\n",
      " 14  park_id             1367190 non-null  Int64  \n",
      " 15  error_category      1367190 non-null  string \n",
      "dtypes: Float64(9), Int64(5), string(2)\n",
      "memory usage: 185.1 MB\n",
      "None\n"
     ]
    }
   ],
   "source": [
    "print(data.shape)\n",
    "print(data.info())\n"
   ]
  },
  {
   "cell_type": "code",
   "execution_count": 9,
   "metadata": {},
   "outputs": [],
   "source": [
    "if False:\n",
    "    data.describe()\n",
    "\n"
   ]
  },
  {
   "cell_type": "code",
   "execution_count": 10,
   "metadata": {},
   "outputs": [
    {
     "name": "stdout",
     "output_type": "stream",
     "text": [
      "NO_ERROR    1272609\n",
      "ERROR=12      47724\n",
      "ERROR=17      21651\n",
      "ERROR=3       10224\n",
      "ERROR=5        4893\n",
      "ERROR=19       3743\n",
      "ERROR=24       1771\n",
      "ERROR=28       1494\n",
      "ERROR=8        1081\n",
      "ERROR=20        787\n",
      "ERROR=31        495\n",
      "ERROR=30        409\n",
      "ERROR=22        141\n",
      "ERROR=25        108\n",
      "ERROR=7          32\n",
      "ERROR=27         22\n",
      "ERROR=29          4\n",
      "ERROR=23          2\n",
      "Name: error_category, dtype: Int64\n"
     ]
    }
   ],
   "source": [
    "\n",
    "action=2\n",
    "match action:\n",
    "    case 1:\n",
    "       #print(data[\"error_category\"].value_counts())\n",
    "       print(\"Numbers of different values \", len(data[\"measured_at\"].unique()))\n",
    "    case 2: \n",
    "        print(data[\"error_category\"].value_counts())\n",
    "    case 3:\n",
    "        print(\"---------\")\n",
    "        n=len(data[\"turbine_id\"].unique())\n",
    "        print(\"THere are\", n,\" turbine_id categories: \")\n",
    "        print(data[\"turbine_id\"].unique())\n",
    "        print(\"---------\")\n",
    "        n=len(data[\"error_category\"].unique())\n",
    "        print(\"THere are\", n,\" error categories: \")\n",
    "        print(data[\"error_category\"].unique())\n",
    "\n",
    "        print(\"---------\")\n",
    "        n=len(data[\"park_id\"].unique())\n",
    "        print(\"THere are\", n,\" park_id categories: \")\n",
    "        print(data[\"park_id\"].unique())\n",
    "\n",
    "        \n",
    "\n",
    "      "
   ]
  },
  {
   "cell_type": "code",
   "execution_count": 37,
   "metadata": {},
   "outputs": [
    {
     "name": "stdout",
     "output_type": "stream",
     "text": [
      "--- temp1      type =  <class 'pandas.core.series.Series'>      Value =  turbine_id                 0\n",
      "measured_at                0\n",
      "wind_speed            101176\n",
      "power                  58136\n",
      "nacelle_direction          0\n",
      "wind_direction             0\n",
      "rotor_speed            96922\n",
      "generator_speed        98536\n",
      "temp_environment       71404\n",
      "temp_hydraulic_oil     71558\n",
      "temp_gear_bearing      70575\n",
      "cosphi                     0\n",
      "blade_angle_avg       187489\n",
      "hydraulic_pressure         0\n",
      "park_id                    0\n",
      "error_category             0\n",
      "error                      0\n",
      "dtype: int64  --- \n",
      "--- features_with_nan      type =  <class 'list'>      Value =  ['wind_speed', 'power', 'rotor_speed', 'generator_speed', 'temp_environment', 'temp_hydraulic_oil', 'temp_gear_bearing', 'blade_angle_avg']  --- \n"
     ]
    }
   ],
   "source": [
    "temp1=data.isnull().sum()\n",
    "print_info('temp1')\n",
    "#print_info('temp1[temp1>0]')\n",
    "features_with_nan=list(temp1[temp1>0].keys())\n",
    "print_info('features_with_nan')"
   ]
  },
  {
   "cell_type": "markdown",
   "metadata": {},
   "source": [
    "First Exploration of individual features"
   ]
  },
  {
   "cell_type": "code",
   "execution_count": 12,
   "metadata": {},
   "outputs": [
    {
     "data": {
      "image/png": "[encoded data removed]",
      "text/plain": [
       "<Figure size 1080x720 with 16 Axes>"
      ]
     },
     "metadata": {
      "needs_background": "light"
     },
     "output_type": "display_data"
    }
   ],
   "source": [
    "col_num=data.select_dtypes(exclude=\"object\").columns\n",
    "\n",
    "data[col_num].hist(figsize=(15,10))\n",
    "plt.show()\n"
   ]
  },
  {
   "cell_type": "code",
   "execution_count": 23,
   "metadata": {},
   "outputs": [
    {
     "ename": "KeyError",
     "evalue": "\"['error'] not in index\"",
     "output_type": "error",
     "traceback": [
      "\u001b[1;31m---------------------------------------------------------------------------\u001b[0m",
      "\u001b[1;31mKeyError\u001b[0m                                  Traceback (most recent call last)",
      "\u001b[1;32md:\\OneDrive\\7Temporary\\Coding\\Github\\2022_05_14_Datathon_2022_V2\\datathon\\V1_Xiang.ipynb Cell 12'\u001b[0m in \u001b[0;36m<cell line: 1>\u001b[1;34m()\u001b[0m\n\u001b[1;32m----> <a href='vscode-notebook-cell:/d%3A/OneDrive/7Temporary/Coding/Github/2022_05_14_Datathon_2022_V2/datathon/V1_Xiang.ipynb#ch0000011?line=0'>1</a>\u001b[0m scatter_matrix( data2\u001b[39m.\u001b[39;49mhead(\u001b[39m1000\u001b[39;49m)[col_num],figsize\u001b[39m=\u001b[39m(\u001b[39m30\u001b[39m,\u001b[39m30\u001b[39m))\n\u001b[0;32m      <a href='vscode-notebook-cell:/d%3A/OneDrive/7Temporary/Coding/Github/2022_05_14_Datathon_2022_V2/datathon/V1_Xiang.ipynb#ch0000011?line=1'>2</a>\u001b[0m plt\u001b[39m.\u001b[39mshow()\n",
      "File \u001b[1;32md:\\OneDrive\\7Temporary\\Coding\\Github\\.venv_learning_python_April_2022_V2\\lib\\site-packages\\pandas\\core\\frame.py:3511\u001b[0m, in \u001b[0;36mDataFrame.__getitem__\u001b[1;34m(self, key)\u001b[0m\n\u001b[0;32m   <a href='file:///d%3A/OneDrive/7Temporary/Coding/Github/.venv_learning_python_April_2022_V2/lib/site-packages/pandas/core/frame.py?line=3508'>3509</a>\u001b[0m     \u001b[39mif\u001b[39;00m is_iterator(key):\n\u001b[0;32m   <a href='file:///d%3A/OneDrive/7Temporary/Coding/Github/.venv_learning_python_April_2022_V2/lib/site-packages/pandas/core/frame.py?line=3509'>3510</a>\u001b[0m         key \u001b[39m=\u001b[39m \u001b[39mlist\u001b[39m(key)\n\u001b[1;32m-> <a href='file:///d%3A/OneDrive/7Temporary/Coding/Github/.venv_learning_python_April_2022_V2/lib/site-packages/pandas/core/frame.py?line=3510'>3511</a>\u001b[0m     indexer \u001b[39m=\u001b[39m \u001b[39mself\u001b[39;49m\u001b[39m.\u001b[39;49mcolumns\u001b[39m.\u001b[39;49m_get_indexer_strict(key, \u001b[39m\"\u001b[39;49m\u001b[39mcolumns\u001b[39;49m\u001b[39m\"\u001b[39;49m)[\u001b[39m1\u001b[39m]\n\u001b[0;32m   <a href='file:///d%3A/OneDrive/7Temporary/Coding/Github/.venv_learning_python_April_2022_V2/lib/site-packages/pandas/core/frame.py?line=3512'>3513</a>\u001b[0m \u001b[39m# take() does not accept boolean indexers\u001b[39;00m\n\u001b[0;32m   <a href='file:///d%3A/OneDrive/7Temporary/Coding/Github/.venv_learning_python_April_2022_V2/lib/site-packages/pandas/core/frame.py?line=3513'>3514</a>\u001b[0m \u001b[39mif\u001b[39;00m \u001b[39mgetattr\u001b[39m(indexer, \u001b[39m\"\u001b[39m\u001b[39mdtype\u001b[39m\u001b[39m\"\u001b[39m, \u001b[39mNone\u001b[39;00m) \u001b[39m==\u001b[39m \u001b[39mbool\u001b[39m:\n",
      "File \u001b[1;32md:\\OneDrive\\7Temporary\\Coding\\Github\\.venv_learning_python_April_2022_V2\\lib\\site-packages\\pandas\\core\\indexes\\base.py:5782\u001b[0m, in \u001b[0;36mIndex._get_indexer_strict\u001b[1;34m(self, key, axis_name)\u001b[0m\n\u001b[0;32m   <a href='file:///d%3A/OneDrive/7Temporary/Coding/Github/.venv_learning_python_April_2022_V2/lib/site-packages/pandas/core/indexes/base.py?line=5778'>5779</a>\u001b[0m \u001b[39melse\u001b[39;00m:\n\u001b[0;32m   <a href='file:///d%3A/OneDrive/7Temporary/Coding/Github/.venv_learning_python_April_2022_V2/lib/site-packages/pandas/core/indexes/base.py?line=5779'>5780</a>\u001b[0m     keyarr, indexer, new_indexer \u001b[39m=\u001b[39m \u001b[39mself\u001b[39m\u001b[39m.\u001b[39m_reindex_non_unique(keyarr)\n\u001b[1;32m-> <a href='file:///d%3A/OneDrive/7Temporary/Coding/Github/.venv_learning_python_April_2022_V2/lib/site-packages/pandas/core/indexes/base.py?line=5781'>5782</a>\u001b[0m \u001b[39mself\u001b[39;49m\u001b[39m.\u001b[39;49m_raise_if_missing(keyarr, indexer, axis_name)\n\u001b[0;32m   <a href='file:///d%3A/OneDrive/7Temporary/Coding/Github/.venv_learning_python_April_2022_V2/lib/site-packages/pandas/core/indexes/base.py?line=5783'>5784</a>\u001b[0m keyarr \u001b[39m=\u001b[39m \u001b[39mself\u001b[39m\u001b[39m.\u001b[39mtake(indexer)\n\u001b[0;32m   <a href='file:///d%3A/OneDrive/7Temporary/Coding/Github/.venv_learning_python_April_2022_V2/lib/site-packages/pandas/core/indexes/base.py?line=5784'>5785</a>\u001b[0m \u001b[39mif\u001b[39;00m \u001b[39misinstance\u001b[39m(key, Index):\n\u001b[0;32m   <a href='file:///d%3A/OneDrive/7Temporary/Coding/Github/.venv_learning_python_April_2022_V2/lib/site-packages/pandas/core/indexes/base.py?line=5785'>5786</a>\u001b[0m     \u001b[39m# GH 42790 - Preserve name from an Index\u001b[39;00m\n",
      "File \u001b[1;32md:\\OneDrive\\7Temporary\\Coding\\Github\\.venv_learning_python_April_2022_V2\\lib\\site-packages\\pandas\\core\\indexes\\base.py:5845\u001b[0m, in \u001b[0;36mIndex._raise_if_missing\u001b[1;34m(self, key, indexer, axis_name)\u001b[0m\n\u001b[0;32m   <a href='file:///d%3A/OneDrive/7Temporary/Coding/Github/.venv_learning_python_April_2022_V2/lib/site-packages/pandas/core/indexes/base.py?line=5841'>5842</a>\u001b[0m     \u001b[39mraise\u001b[39;00m \u001b[39mKeyError\u001b[39;00m(\u001b[39mf\u001b[39m\u001b[39m\"\u001b[39m\u001b[39mNone of [\u001b[39m\u001b[39m{\u001b[39;00mkey\u001b[39m}\u001b[39;00m\u001b[39m] are in the [\u001b[39m\u001b[39m{\u001b[39;00maxis_name\u001b[39m}\u001b[39;00m\u001b[39m]\u001b[39m\u001b[39m\"\u001b[39m)\n\u001b[0;32m   <a href='file:///d%3A/OneDrive/7Temporary/Coding/Github/.venv_learning_python_April_2022_V2/lib/site-packages/pandas/core/indexes/base.py?line=5843'>5844</a>\u001b[0m not_found \u001b[39m=\u001b[39m \u001b[39mlist\u001b[39m(ensure_index(key)[missing_mask\u001b[39m.\u001b[39mnonzero()[\u001b[39m0\u001b[39m]]\u001b[39m.\u001b[39munique())\n\u001b[1;32m-> <a href='file:///d%3A/OneDrive/7Temporary/Coding/Github/.venv_learning_python_April_2022_V2/lib/site-packages/pandas/core/indexes/base.py?line=5844'>5845</a>\u001b[0m \u001b[39mraise\u001b[39;00m \u001b[39mKeyError\u001b[39;00m(\u001b[39mf\u001b[39m\u001b[39m\"\u001b[39m\u001b[39m{\u001b[39;00mnot_found\u001b[39m}\u001b[39;00m\u001b[39m not in index\u001b[39m\u001b[39m\"\u001b[39m)\n",
      "\u001b[1;31mKeyError\u001b[0m: \"['error'] not in index\""
     ]
    }
   ],
   "source": [
    "scatter_matrix( data2.head(1000)[col_num],figsize=(30,30))\n",
    "plt.show()"
   ]
  },
  {
   "cell_type": "code",
   "execution_count": 22,
   "metadata": {},
   "outputs": [
    {
     "data": {
      "image/png": "[encoded data removed]",
      "text/plain": [
       "<Figure size 432x288 with 2 Axes>"
      ]
     },
     "metadata": {
      "needs_background": "light"
     },
     "output_type": "display_data"
    }
   ],
   "source": [
    "col_num=list(data.select_dtypes(exclude=\"object\").columns)\n",
    "column=col_num[0]\n",
    "hist = data[[column,'error']].hist(by='error', bins=10, ec='black', sharey=True)"
   ]
  },
  {
   "cell_type": "code",
   "execution_count": 55,
   "metadata": {},
   "outputs": [
    {
     "data": {
      "text/plain": [
       "park_id  turbine_id\n",
       "1        13             69703\n",
       "         14             69691\n",
       "         11             69613\n",
       "         12             69605\n",
       "2        24            121509\n",
       "         23            121508\n",
       "         22            121495\n",
       "         25            121493\n",
       "         27            121454\n",
       "         21            121308\n",
       "         26            121146\n",
       "         29            120979\n",
       "         28            117686\n",
       "Name: turbine_id, dtype: int64"
      ]
     },
     "execution_count": 55,
     "metadata": {},
     "output_type": "execute_result"
    }
   ],
   "source": [
    "#data.groupby(\"park_id\").turbine_id.mean()\n",
    "data.groupby(\"park_id\").turbine_id.value_counts() #how much data for each turbine"
   ]
  }
 ],
 "metadata": {
  "interpreter": {
   "hash": "861923fff6305d604d1085b19099e6f5952c1552f209865ab9619fcbd81b2e79"
  },
  "kernelspec": {
   "display_name": "Python 3.10.4 64-bit",
   "language": "python",
   "name": "python3"
  },
  "language_info": {
   "codemirror_mode": {
    "name": "ipython",
    "version": 3
   },
   "file_extension": ".py",
   "mimetype": "text/x-python",
   "name": "python",
   "nbconvert_exporter": "python",
   "pygments_lexer": "ipython3",
   "version": "3.10.4"
  },
  "orig_nbformat": 4
 },
 "nbformat": 4,
 "nbformat_minor": 2
}
