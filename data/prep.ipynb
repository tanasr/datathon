{
 "cells": [
  {
   "cell_type": "code",
   "execution_count": 1,
   "metadata": {},
   "outputs": [],
   "source": [
    "import pandas as pd\n",
    "from preprocessing.features.feat_cat import *\n",
    "import numpy as np\n",
    "import os\n",
    "from load_data import *"
   ]
  },
  {
   "cell_type": "code",
   "execution_count": 127,
   "metadata": {},
   "outputs": [],
   "source": [
    "dateparse_ep =  lambda x: datetime.strptime(x, '%Y%m%d%H')\n",
    "def dateparse_fm(d):\n",
    "    return pd.to_datetime(d)\n",
    "#dateparse_fm = lambda x: datetime.strptime(x, '%d.%m.%Y %H:%M')"
   ]
  },
  {
   "cell_type": "code",
   "execution_count": 132,
   "metadata": {},
   "outputs": [],
   "source": [
    "# Read EP data\n",
    "EP17 = pd.read_csv(os.path.join(os.getcwd(), 'data_new/data', 'EP17.csv'),\n",
    "                        encoding= 'unicode_escape', low_memory=False, parse_dates=['ein_dat_hr'], date_parser=dateparse_ep)\n",
    "\n",
    "EP18 = pd.read_csv(os.path.join(os.getcwd(), 'data_new/data', 'EP18.csv'),\n",
    "                        encoding= 'unicode_escape', low_memory=False, parse_dates=['ein_dat_hr'], date_parser=dateparse_ep)\n",
    "\n",
    "EP19 = pd.read_csv(os.path.join(os.getcwd(), 'data_new/data', 'EP19.csv'),\n",
    "                        encoding= 'unicode_escape', low_memory=False, parse_dates=['ein_dat_hr'], date_parser=dateparse_ep)"
   ]
  },
  {
   "cell_type": "code",
   "execution_count": 128,
   "metadata": {},
   "outputs": [],
   "source": [
    "# Read FM data\n",
    "FM17 = pd.read_csv(os.path.join(os.getcwd(), 'data_new/data', 'FM17.csv'),\n",
    "                        low_memory=False, parse_dates=['datum_beg_fm_zeit_beg_fm'], date_parser=dateparse_fm)\n",
    "FM18 = pd.read_csv(os.path.join(os.getcwd(), 'data_new/data', 'FM18.csv'),\n",
    "                        low_memory=False, parse_dates=['datum_beg_fm_zeit_beg_fm'], date_parser=dateparse_fm)\n",
    "FM19 = pd.read_csv(os.path.join(os.getcwd(), 'data_new/data', 'FM19.csv'), \n",
    "                        low_memory=False, parse_dates=['datum_beg_fm_zeit_beg_fm'], date_parser=dateparse_fm)"
   ]
  },
  {
   "cell_type": "code",
   "execution_count": 133,
   "metadata": {},
   "outputs": [],
   "source": [
    "# Focus on adult patients < 65\n",
    "EP17 = EP17[(EP17['alter'] >= 18) & (EP17['alter'] < 65)]\n",
    "EP18 = EP18[(EP18['alter'] >= 18) & (EP18['alter'] < 65)]\n",
    "EP19 = EP19[(EP19['alter'] >= 18) & (EP19['alter'] < 65)]"
   ]
  },
  {
   "cell_type": "code",
   "execution_count": 5,
   "metadata": {},
   "outputs": [],
   "source": [
    "def store_back(df, name):\n",
    "    df.to_csv('data_new/' + name + '.csv', index=False)\n",
    "\n",
    "#grouped = EP17.groupby('bur_knr')['fm_betroffen'].sum()\n",
    "#ind = list(grouped.index[grouped.eq(0)])\n",
    "#EP17 = EP17[~EP17['bur_knr'].isin(ind)] #9857\n",
    "\n",
    "#grouped = EP18.groupby('bur_knr')['fm_betroffen'].sum()\n",
    "#ind = list(grouped.index[grouped.eq(0)])\n",
    "#EP18 = EP18[~EP18['bur_knr'].isin(ind)] #12425\n",
    "\n",
    "#grouped = EP19.groupby('anq_id')['fm_betroffen'].sum()\n",
    "#ind = list(grouped.index[grouped.eq(0)])\n",
    "#EP19 = EP19[~EP19['anq_id'].isin(ind)] #11258"
   ]
  },
  {
   "cell_type": "code",
   "execution_count": 134,
   "metadata": {},
   "outputs": [],
   "source": [
    "# Preselect EP features, focus on admission data \n",
    "#to_drop = zm + other + med_out + klin_out + bhdlg_out + beh + beh_out + bscl_diff + h_diff  + b_out + bscl_out + h_out + h_ges_ein + dropout_out + datum + datum_out + person_out + dummy + dummy_out + qual + qual_out + diagnose_out\n",
    "\n",
    "to_drop = zm + other + med + med_out + klin_out + bhdlg + bhdlg_out + beh + beh_out + bscl_diff + h_diff + b_ein + b_out + bscl_out + h_out + bscl_ein + h_ges_ein + dropout_out + datum + datum_out + person_out + dummy + dummy_out + qual + qual_out + diagnose_out\n",
    "EP17 = EP17.drop(columns = to_drop + ['klinik'])\n",
    "EP18 = EP18.drop(columns = to_drop)\n",
    "EP19 = EP19.drop(columns = to_drop)\n",
    "EP18 = EP18.drop(columns = [item for item in EP18.columns if item not in EP17.columns])\n",
    "#EP19 = EP19.drop(columns = [item for item in EP19.columns if item not in EP17.columns])"
   ]
  },
  {
   "cell_type": "code",
   "execution_count": 135,
   "metadata": {},
   "outputs": [],
   "source": [
    "#Preselect FM features, use 'difftime_fm_start_ein_dat' instead of manually computing delay from date features # ','datum_beg_fm_zeit_beg_fm'' kept\n",
    "FM17 = FM17.drop(columns=['fm','ein_dat_d','bur_fm','datenlieferung_fm','Filter_1','datum_ende_fm_jahr','datum_beg_fm_jahr','zeit_beg_fm','check_fid','dat_beg_fehlt','zeit_beg_fehlt','datum_ende_fehlt', 'zeit_ende_fehlt','aus_dat_d', 'aus_dat_d_year', 'ein_dat_d_year', 'subset_var_1', 'subset_var_2', 'fm_qual', 'erhebung_1','standort','datum_ende_fm_zeit_ende_fm','datum_ende_fm','zeit_ende_fm'])\n",
    "FM18 = FM18.drop(columns=['fm','ein_dat_d','bur_fm','datenlieferung_fm','check_fid','Filter_1','datum_ende_fm_jahr','datum_beg_fm_jahr','zeit_beg_fm','dat_beg_fehlt','zeit_beg_fehlt','datum_ende_fehlt', 'zeit_ende_fehlt','aus_dat_d', 'aus_dat_d_year', 'ein_dat_d_year', 'subset_var_1', 'subset_var_2', 'fm_qual', 'erhebung_1','standort','datum_ende_fm_zeit_ende_fm','datum_ende_fm','zeit_ende_fm'])\n",
    "FM19 = FM19.drop(columns=['fm','ein_dat_d','bur_fm','datenlieferung_fm','datum_ende_fm_jahr','datum_beg_fm_jahr','check_fid','zeit_beg_fm','dat_beg_fehlt','zeit_beg_fehlt','datum_ende_fehlt', 'zeit_ende_fehlt','aus_dat_d', 'aus_dat_d_year', 'ein_dat_d_year', 'subset_var_1', 'subset_var_2', 'fm_qual', 'erhebung_1','standort','datum_ende_fm_zeit_ende_fm','datum_ende_fm','zeit_ende_fm'])\n",
    "\n",
    "#For simplicity, drop the handful of missing data that remains \n",
    "FM17 = FM17.dropna()\n",
    "FM18 = FM18.dropna()\n",
    "FM19 = FM19.dropna()\n",
    "\n",
    "FM17 = FM17.rename(columns={'difftime_fm_start_ein_dat': 'delay'})\n",
    "FM18 = FM18.rename(columns={'difftime_fm_start_ein_dat': 'delay'})\n",
    "FM19 = FM19.rename(columns={'difftime_fm_start_ein_dat': 'delay'})\n",
    "\n",
    "#compute delay between admission and coercive measure in days\n",
    "FM17.delay = FM17.delay/-3600 #-86400.0\n",
    "FM18.delay = FM18.delay/-3600 #-86400.0\n",
    "FM19.delay = FM19.delay/-3600 #-86400.0\n"
   ]
  },
  {
   "cell_type": "code",
   "execution_count": 136,
   "metadata": {},
   "outputs": [],
   "source": [
    "# A few patients had wrong dates entered as start of coercive measure, chose to set them to 0\n",
    "FM17.delay = FM17.delay.apply(lambda x: 0 if x < 0 else x)\n",
    "FM18.delay = FM18.delay.apply(lambda x: 0 if x < 0 else x)\n",
    "FM19.delay = FM19.delay.apply(lambda x: 0 if x < 0 else x)\n",
    "\n",
    "FM17['year'] = 2017\n",
    "FM18['year'] = 2018\n",
    "FM19['year'] = 2019"
   ]
  },
  {
   "cell_type": "code",
   "execution_count": 137,
   "metadata": {},
   "outputs": [],
   "source": [
    "EP17['year'] = 2017\n",
    "EP18['year'] = 2018\n",
    "EP19['year'] = 2019\n",
    "\n",
    "# missed column elements to be dropped in EP data #'ein_dat_hr kept\n",
    "col = ['stat_fall', 'psych_ds', 'pat_ds', 'kant_ds','ph_ein_missing', 'ph_aus_missing', 'pb_ein_missing','pb_aus_missing', 'daten_ohne_fid_subset','festhalten']\n",
    "EP17 = EP17.drop(columns=col)\n",
    "EP18 = EP18.drop(columns=col)\n",
    "EP19 = EP19.drop(columns=col)"
   ]
  },
  {
   "cell_type": "code",
   "execution_count": 138,
   "metadata": {},
   "outputs": [],
   "source": [
    "# Replace 99 in occupational data by nan\n",
    "tmp1 = ['bildung','zivilstand','besch_teil','besch_voll','besch_nicht','besch_haus','besch_ausb','besch_reha','besch_iv_ahv','besch_gesch','besch_unbek','ffe']\n",
    "EP17[tmp1] = EP17[tmp1].replace(99,np.nan)\n",
    "EP18[tmp1] = EP18[tmp1].replace(99,np.nan)\n",
    "EP19[tmp1] = EP19[tmp1].replace(99,np.nan)\n",
    "\n",
    "# set \"occupation unknown\" to 1, if nan\n",
    "EP17['besch_unbek'] = EP17['besch_unbek'].fillna(1)\n",
    "EP18['besch_unbek'] = EP18['besch_unbek'].fillna(1)\n",
    "EP19['besch_unbek'] = EP19['besch_unbek'].fillna(1)\n",
    "\n",
    "# fill out missing data in number of coercive measures applied by 0\n",
    "tmp2 = ['anzahl_fm_fall_original','isolation_anzahl_original','fixierung_anzahl_original','medi_gesamt_anzahl_original']\n",
    "EP17[tmp2] = EP17[tmp2].fillna(0)\n",
    "EP18[tmp2] = EP18[tmp2].fillna(0)\n",
    "EP19[tmp2] = EP19[tmp2].fillna(0)\n",
    "EP19['geschl'] = EP19['geschl'].fillna(1)\n",
    "EP17['h8_art_ein_num'] = EP17['h8_art_ein_num'].fillna(99)\n",
    "EP18['h8_art_ein_num'] = EP18['h8_art_ein_num'].fillna(99)\n",
    "EP19['h8_art_ein_num'] = EP19['h8_art_ein_num'].fillna(99)\n",
    "\n",
    "# replace missing HoNOS data by 9\n",
    "tmp3 = ['dropout_ph_ein','h1_ein','h2_ein','h3_ein','h4_ein','h5_ein','h6_ein','h7_ein','h8_ein','h9_ein','h10_ein','h11_ein','h12_ein','dropout_pb_ein']\n",
    "EP17[tmp3] = EP17[tmp3].fillna(9)\n",
    "EP18[tmp3] = EP18[tmp3].fillna(9)\n",
    "EP19[tmp3] = EP19[tmp3].fillna(9)"
   ]
  },
  {
   "cell_type": "code",
   "execution_count": null,
   "metadata": {},
   "outputs": [],
   "source": [
    "# optional, to be ignored \n",
    "EP17.datum_ph_ein_d = pd.to_datetime(EP17.datum_ph_ein_d, infer_datetime_format=True)\n",
    "EP18.datum_ph_ein_d = pd.to_datetime(EP18.datum_ph_ein_d, infer_datetime_format=True)\n",
    "EP19.datum_ph_ein_d = pd.to_datetime(EP19.datum_ph_ein_d, infer_datetime_format=True)\n",
    "EP17.ein_dat_d = pd.to_datetime(EP17.ein_dat_d, infer_datetime_format=True)\n",
    "EP18.ein_dat_d = pd.to_datetime(EP18.ein_dat_d, infer_datetime_format=True)\n",
    "EP19.ein_dat_d = pd.to_datetime(EP19.ein_dat_d, infer_datetime_format=True)\n",
    "FM17.ein_dat_d = pd.to_datetime(FM17.ein_dat_d, infer_datetime_format=True)\n",
    "FM18.ein_dat_d = pd.to_datetime(FM18.ein_dat_d, infer_datetime_format=True)\n",
    "FM19.ein_dat_d = pd.to_datetime(FM19.ein_dat_d, infer_datetime_format=True)\n",
    "EP17['datum_ph_ein_d'] = EP17['datum_ph_ein_d'].fillna(EP17['ein_dat_d'])\n",
    "EP18['datum_ph_ein_d'] = EP18['datum_ph_ein_d'].fillna(EP18['ein_dat_d'])\n",
    "EP19['datum_ph_ein_d'] = EP19['datum_ph_ein_d'].fillna(EP19['ein_dat_d'])\n",
    "EP17 = EP17.dropna() #remove last nan"
   ]
  },
  {
   "cell_type": "code",
   "execution_count": 139,
   "metadata": {},
   "outputs": [],
   "source": [
    "# a few features in EP19 are not present in EP17 and EP18\n",
    "EP19 = EP19.drop(columns=['kliniktyp','klinik_typ','bb_unbek_fehlt','bb_FP','bb_abhPsyy','bb_kjp','bb_allgPsy','bb_altersPsy','bur_knr','bur_knr_2c','kurzaufenth_ph','kurzaufenth_pb'])"
   ]
  },
  {
   "cell_type": "code",
   "execution_count": 140,
   "metadata": {},
   "outputs": [],
   "source": [
    "# choose 9 to fill out missing data, 9 is already \"unknown\" category in \"Bildung\" and \"Zivilstand\"\n",
    "EP17.zivilstand = EP17.zivilstand.fillna(9)\n",
    "EP17.bildung = EP17.bildung.fillna(9)\n",
    "EP17.ffe = EP17.ffe.fillna(9)\n",
    "EP18.zivilstand = EP18.zivilstand.fillna(9)\n",
    "EP18.bildung = EP18.bildung.fillna(9)\n",
    "EP18.ffe = EP18.ffe.fillna(9)\n",
    "EP19.zivilstand = EP19.zivilstand.fillna(9)\n",
    "EP19.bildung = EP19.bildung.fillna(9)\n",
    "EP19.ffe = EP19.ffe.fillna(9)"
   ]
  },
  {
   "cell_type": "code",
   "execution_count": 141,
   "metadata": {},
   "outputs": [],
   "source": [
    "EP19 = EP19[EP19['anq_id'] < 100]"
   ]
  },
  {
   "cell_type": "code",
   "execution_count": 40,
   "metadata": {},
   "outputs": [],
   "source": [
    "# Build our full EP dataset by concatenating EP17, EP18 and EP19\n",
    "EP_prep = pd.concat([EP17, EP18, EP19])\n",
    "EP_prep = EP_prep.reset_index()\n",
    "EP_prep = EP_prep.drop(columns=['index','bur_knr','anq_id'])\n",
    "\n",
    "# Remove clinics that do not apply coercive measures from the resulting EP dataset\n",
    "grouped = EP_prep.groupby('klinik_anonym')['fm_betroffen'].sum()\n",
    "ind = list(grouped.index[grouped.eq(0)])\n",
    "EP_prep_final = EP_prep[~EP_prep['klinik_anonym'].isin(ind)]\n",
    "\n",
    "# drop some features that we forgot to eliminate\n",
    "EP_prep_final = EP_prep_final.drop(columns=['datum_ph_ein_d','behandlungsbereich','ein_dat_d'])\n",
    "\n",
    "# Replace the last missing data (occupational data) by 0 (false)\n",
    "EP_prep_final = EP_prep_final.fillna(0)"
   ]
  },
  {
   "cell_type": "code",
   "execution_count": 14,
   "metadata": {},
   "outputs": [],
   "source": [
    "store_back(EP_prep_final,'EP_d')"
   ]
  },
  {
   "cell_type": "markdown",
   "metadata": {},
   "source": [
    "_____________________________________________________________________________________________________________"
   ]
  },
  {
   "cell_type": "code",
   "execution_count": 142,
   "metadata": {},
   "outputs": [],
   "source": [
    "# Merge our EP and FM datasets, by doing a left join\n",
    "EM17 = pd.merge(EP17, FM17, left_on = ['year','bur_knr','FID'],\n",
    "        right_on=['year','bur_knr_fm','FID'], how='left')\n",
    "EM18 = pd.merge(EP18, FM18, left_on = ['year','bur_knr','FID'],\n",
    "        right_on=['year','bur_knr_fm','FID'], how='left')\n",
    "EM19 = pd.merge(EP19, FM19, left_on = ['year','anq_id','FID'],\n",
    "        right_on=['year','anq_id','FID'], how='left')"
   ]
  },
  {
   "cell_type": "code",
   "execution_count": 143,
   "metadata": {},
   "outputs": [],
   "source": [
    "# if no coercive measure applied, set \"art_fm\" to 0\n",
    "EM17.art_fm = EM17.art_fm.fillna(0)\n",
    "EM18.art_fm = EM18.art_fm.fillna(0)\n",
    "EM19.art_fm = EM19.art_fm.fillna(0)\n",
    "\n",
    "# if no coercive measure applied, set \"delay\" to -1\n",
    "EM17.delay = EM17.delay.fillna(-1)\n",
    "EM18.delay = EM18.delay.fillna(-1)\n",
    "EM19.delay = EM19.delay.fillna(-1)\n",
    "\n",
    "# drop merging features we won't use anymore\n",
    "EM17 = EM17.drop(columns = ['bur_knr_fm','bur_knr'])\n",
    "EM18 = EM18.drop(columns = ['bur_knr_fm','bur_knr'])\n",
    "EM19 = EM19.drop(columns = ['anq_id'])\n",
    "\n",
    "# Concatenate the merged datasets from the 3 years\n",
    "EM_prep = pd.concat([EM17, EM18, EM19])\n",
    "EM_prep = EM_prep.reset_index()\n",
    "EM_prep = EM_prep.drop(columns=['index'])\n",
    "\n",
    "# As above, remove clinics that do not perform coercive measures\n",
    "grouped = EM_prep.groupby('klinik_anonym')['fm_betroffen'].sum()\n",
    "ind = list(grouped.index[grouped.eq(0)])\n",
    "EM_prep = EM_prep[~EM_prep['klinik_anonym'].isin(ind)] "
   ]
  },
  {
   "cell_type": "code",
   "execution_count": 114,
   "metadata": {},
   "outputs": [],
   "source": [
    "## add process_time_delay\n",
    "load = Preprocessor()\n",
    "mask = (EM_prep.delay == 0)\n",
    "df_0 = EM_prep[mask]\n",
    "\n",
    "#EM_prep.datum_beg_fm_zeit_beg_fm = pd.to_datetime(EM_prep.ein_dat_d, infer_datetime_format=True)\n",
    "#EM_prep.ein_dat_hr= pd.to_datetime(EM_prep.ein_dat_d, infer_datetime_format=True)\n",
    "\n",
    "#EM_prep['period'] = EM_prep['delay']\n",
    "EM_prep['period'] = EM_prep['datum_beg_fm_zeit_beg_fm'].subtract(EM_prep['ein_dat_hr'])"
   ]
  },
  {
   "cell_type": "code",
   "execution_count": 149,
   "metadata": {},
   "outputs": [],
   "source": [
    "x = EM_prep['datum_beg_fm_zeit_beg_fm'].subtract(EM_prep['ein_dat_hr']) / pd.Timedelta('1 hour')"
   ]
  },
  {
   "cell_type": "code",
   "execution_count": 152,
   "metadata": {},
   "outputs": [],
   "source": [
    "EM_prep['period'] = x"
   ]
  },
  {
   "cell_type": "code",
   "execution_count": 158,
   "metadata": {},
   "outputs": [],
   "source": [
    "EM_prep.period = EM_prep.period.fillna(-1)"
   ]
  },
  {
   "cell_type": "code",
   "execution_count": 155,
   "metadata": {},
   "outputs": [
    {
     "data": {
      "text/plain": [
       "40897"
      ]
     },
     "execution_count": 155,
     "metadata": {},
     "output_type": "execute_result"
    }
   ],
   "source": [
    "(EM_prep.period >= 0).sum()"
   ]
  },
  {
   "cell_type": "code",
   "execution_count": 159,
   "metadata": {},
   "outputs": [],
   "source": [
    "EM_min = EM_prep.loc[EM_prep.groupby(['year','klinik_anonym','FID'])['period'].idxmin()]\n"
   ]
  },
  {
   "cell_type": "code",
   "execution_count": 162,
   "metadata": {},
   "outputs": [],
   "source": [
    "EM_max = EM_prep.loc[EM_prep.groupby(['year','klinik_anonym','FID'])['delay'].idxmax()]"
   ]
  },
  {
   "cell_type": "code",
   "execution_count": 168,
   "metadata": {},
   "outputs": [
    {
     "data": {
      "text/plain": [
       "4848"
      ]
     },
     "execution_count": 168,
     "metadata": {},
     "output_type": "execute_result"
    }
   ],
   "source": [
    "((EM_min.period >= 0) & (EM_min.period < 24)).sum()"
   ]
  },
  {
   "cell_type": "code",
   "execution_count": 169,
   "metadata": {},
   "outputs": [
    {
     "data": {
      "text/plain": [
       "5818"
      ]
     },
     "execution_count": 169,
     "metadata": {},
     "output_type": "execute_result"
    }
   ],
   "source": [
    "((EM_min.delay >= 0) & (EM_min.delay < 24)).sum()"
   ]
  },
  {
   "cell_type": "code",
   "execution_count": 171,
   "metadata": {},
   "outputs": [
    {
     "data": {
      "text/plain": [
       "6528"
      ]
     },
     "execution_count": 171,
     "metadata": {},
     "output_type": "execute_result"
    }
   ],
   "source": [
    "(EM_min.delay >= 24).sum()"
   ]
  },
  {
   "cell_type": "code",
   "execution_count": 160,
   "metadata": {},
   "outputs": [
    {
     "data": {
      "text/plain": [
       "12434"
      ]
     },
     "execution_count": 160,
     "metadata": {},
     "output_type": "execute_result"
    }
   ],
   "source": [
    "EM_min.fm_betroffen.sum()"
   ]
  },
  {
   "cell_type": "code",
   "execution_count": 165,
   "metadata": {},
   "outputs": [
    {
     "data": {
      "text/plain": [
       "7270"
      ]
     },
     "execution_count": 165,
     "metadata": {},
     "output_type": "execute_result"
    }
   ],
   "source": [
    "(EM_max.period >= 24).sum()"
   ]
  },
  {
   "cell_type": "code",
   "execution_count": 161,
   "metadata": {},
   "outputs": [
    {
     "data": {
      "text/plain": [
       "5119"
      ]
     },
     "execution_count": 161,
     "metadata": {},
     "output_type": "execute_result"
    }
   ],
   "source": [
    "(EM_min.period >= 24).sum()"
   ]
  },
  {
   "cell_type": "code",
   "execution_count": 96,
   "metadata": {},
   "outputs": [],
   "source": [
    "tmp = EM_min[(EM_min.delay >= 0) & (EM_min.delay < 1)]\n",
    "EM_min2 = EM_min.drop(tmp.index) # drop 6353"
   ]
  },
  {
   "cell_type": "markdown",
   "metadata": {},
   "source": [
    "_____________________________________________________________________________________________"
   ]
  },
  {
   "cell_type": "code",
   "execution_count": 1114,
   "metadata": {},
   "outputs": [],
   "source": [
    "# Build dataset for target: *first* coercive measure after at least 24h \n",
    "EM_min = EM_prep.loc[EM_prep.groupby(['year','klinik_anonym','FID'])['delay'].idxmin()]\n",
    "\n",
    "# Remove cases with *first* coercive measure before 24h\n",
    "tmp = EM_min[(EM_min.delay >= 0) & (EM_min.delay < 1)]\n",
    "EM_min = EM_min.drop(tmp.index) # drop 6353\n",
    "\n",
    "EM_min = EM_min.drop(columns=['datum_ph_ein_d','behandlungsbereich','ein_dat_d_x','ein_dat_d_y','datum_beg_fm'])\n",
    "EM_min = EM_min.fillna(0)"
   ]
  },
  {
   "cell_type": "code",
   "execution_count": 1116,
   "metadata": {},
   "outputs": [],
   "source": [
    "store_back(EM_min,'EM_min_d')"
   ]
  },
  {
   "cell_type": "markdown",
   "metadata": {},
   "source": [
    "________________________"
   ]
  },
  {
   "cell_type": "code",
   "execution_count": 1125,
   "metadata": {},
   "outputs": [],
   "source": [
    "# Build dataset for target: Case with coercive measure after at least 24h \n",
    "EM_max = EM_prep.loc[EM_prep.groupby(['year','klinik_anonym','FID'])['delay'].idxmax()]\n",
    "\n",
    "# Remove cases with coercive measures before 24h\n",
    "EM_max = EM_max[(EM_max.delay >= 1) | (EM_max.delay == -1)] # 4178\n",
    "\n",
    "EM_max = EM_max.drop(columns=['datum_ph_ein_d','behandlungsbereich','ein_dat_d_x','ein_dat_d_y','datum_beg_fm'])\n",
    "EM_max = EM_max.fillna(0)\n"
   ]
  },
  {
   "cell_type": "code",
   "execution_count": 1130,
   "metadata": {},
   "outputs": [],
   "source": [
    "store_back(EM_max, 'EM_max_d')"
   ]
  },
  {
   "cell_type": "markdown",
   "metadata": {},
   "source": [
    "___________________________________________________"
   ]
  },
  {
   "cell_type": "code",
   "execution_count": 1045,
   "metadata": {},
   "outputs": [],
   "source": [
    "# Optionally, we may merge all occupational dummy variables into one categorical variable - to ignore for now\n",
    "tmp = ['besch_teil','besch_voll','besch_nicht','besch_haus','besch_ausb','besch_reha','besch_iv_ahv','besch_gesch','besch_unbek']\n",
    "#EP_prep_final[tmp] = EPmin[tmp].replace(99,9)\n",
    "EM_max = EM_max.rename(columns={'besch_voll':1,'besch_teil':2,'besch_nicht':3,'besch_haus':4,'besch_ausb':5,'besch_reha':6,'besch_iv_ahv':7,'besch_gesch':8,'besch_unbek':9})\n",
    "\n",
    "tmp2 = [1,2,3,4,5,6,7,8,9]\n",
    "x = EM_max[tmp2].idxmax(axis=1)\n",
    "\n",
    "EM_max = EM_max.drop(columns=tmp2)\n",
    "EM_max['besch'] = x\n",
    "\n",
    "#EPmin = EPmin.drop(columns=['ein_dat_d_x','datum_ph_ein_d'])"
   ]
  },
  {
   "cell_type": "markdown",
   "metadata": {},
   "source": [
    "_________________________________________"
   ]
  },
  {
   "cell_type": "markdown",
   "metadata": {},
   "source": [
    "Perform the last data corrections "
   ]
  },
  {
   "cell_type": "code",
   "execution_count": 15,
   "metadata": {},
   "outputs": [],
   "source": [
    "EP = pd.read_csv('data_new/EP_d.csv', low_memory=False)\n",
    "#Emax = pd.read_csv('data_new/EM_max_d.csv', low_memory=False)\n",
    "#Emin = pd.read_csv('data_new/EM_min_d.csv', low_memory=False)"
   ]
  },
  {
   "cell_type": "code",
   "execution_count": 16,
   "metadata": {},
   "outputs": [
    {
     "data": {
      "text/plain": [
       "Index(['FID', 'klinik_anonym', 'dropout_ph_ein', 'h1_ein', 'h2_ein', 'h3_ein',\n",
       "       'h4_ein', 'h5_ein', 'h6_ein', 'h7_ein',\n",
       "       ...\n",
       "       'bscl_zwa_ein', 'bscl_soz_ein', 'bscl_dep_ein', 'bscl_ang_ein',\n",
       "       'bscl_agg_ein', 'bscl_pho_ein', 'bscl_par_ein', 'bscl_psy_ein',\n",
       "       'anz_nebendiagnosen', 'year'],\n",
       "      dtype='object', length=118)"
      ]
     },
     "execution_count": 16,
     "metadata": {},
     "output_type": "execute_result"
    }
   ],
   "source": [
    "EP.columns"
   ]
  },
  {
   "cell_type": "code",
   "execution_count": 17,
   "metadata": {},
   "outputs": [],
   "source": [
    "# Dropout pb, patients too young => andere (9 cases)\n",
    "EP.dropout_pb_ein = np.where(EP.dropout_pb_ein == 5.0, 8.0, EP.dropout_pb_ein)\n",
    "\n",
    "EP.ort_v_ein = np.where(EP.ort_v_ein == 99, 9, EP.ort_v_ein)\n",
    "\n",
    "EP.ein_art = np.where(EP.ein_art == 99, 9, EP.ein_art)\n",
    "\n",
    "# strange categories that do not appear on the codebook => unknown (25 cases)\n",
    "EP.einw_inst = np.where(EP.einw_inst.isin([99,84,7]), 9, EP.einw_inst)\n",
    "\n",
    "# 99 => nicht näher bezeichnete psy. störung (643 cases)\n",
    "EP.hpt_diagn_num = np.where(EP.hpt_diagn_num == 99, 10, EP.hpt_diagn_num)"
   ]
  },
  {
   "cell_type": "code",
   "execution_count": 18,
   "metadata": {},
   "outputs": [],
   "source": [
    "store_back(EP, 'EP_d')"
   ]
  },
  {
   "cell_type": "markdown",
   "metadata": {},
   "source": [
    "_________________________________________________________________________________________________________________________________________________"
   ]
  },
  {
   "cell_type": "markdown",
   "metadata": {},
   "source": [
    "Perform feature selection on HoNOS based on our logistic regression results"
   ]
  },
  {
   "cell_type": "code",
   "execution_count": 127,
   "metadata": {},
   "outputs": [],
   "source": [
    "EP = pd.read_csv('data_new/EP_d.csv', low_memory=False)\n",
    "#Emax = pd.read_csv('data_new/EM_max_d.csv', low_memory=False)\n",
    "#Emin = pd.read_csv('data_new/EM_min_d.csv', low_memory=False)"
   ]
  },
  {
   "cell_type": "code",
   "execution_count": 158,
   "metadata": {},
   "outputs": [],
   "source": [
    "EP_prep = EP.drop(columns=['bildung','h9_ein','h11_ein','h12_ein','zivilstand'])\n",
    "\n",
    "EP_prep = EP_prep[~EP_prep.h1_ein.eq(9)]\n",
    "EP_prep = EP_prep[~EP_prep.h2_ein.eq(9)]\n",
    "EP_prep = EP_prep[~EP_prep.h3_ein.eq(9)]\n",
    "EP_prep = EP_prep[~EP_prep.h4_ein.eq(9)]\n",
    "EP_prep = EP_prep[~EP_prep.h5_ein.eq(9)]\n",
    "EP_prep = EP_prep[~EP_prep.h6_ein.eq(9)]\n",
    "EP_prep = EP_prep[~EP_prep.h7_ein.eq(9)]\n",
    "EP_prep = EP_prep[~EP_prep.h7_ein.eq(9)]\n",
    "EP_prep = EP_prep[~EP_prep.h10_ein.eq(9)]"
   ]
  },
  {
   "cell_type": "code",
   "execution_count": 161,
   "metadata": {},
   "outputs": [
    {
     "data": {
      "text/plain": [
       "Index(['FID', 'klinik_anonym', 'dropout_ph_ein', 'h1_ein', 'h2_ein', 'h3_ein',\n",
       "       'h4_ein', 'h5_ein', 'h6_ein', 'h7_ein', 'h8_ein', 'h10_ein',\n",
       "       'dropout_pb_ein', 'geschl', 'alter', 'ort_v_ein', 'ein_art',\n",
       "       'einw_inst', 'PID', 'besch_teil', 'besch_voll', 'besch_nicht',\n",
       "       'besch_haus', 'besch_ausb', 'besch_reha', 'besch_iv_ahv', 'besch_gesch',\n",
       "       'besch_unbek', 'ffe', 'hpt_diagn_num', 'h8_art_ein_num', 'fm_betroffen',\n",
       "       'anzahl_fm_fall_original', 'isolation_anzahl_original',\n",
       "       'fixierung_anzahl_original', 'medi_gesamt_anzahl_original',\n",
       "       'anz_nebendiagnosen', 'year'],\n",
       "      dtype='object')"
      ]
     },
     "execution_count": 161,
     "metadata": {},
     "output_type": "execute_result"
    }
   ],
   "source": [
    "EP_prep.columns"
   ]
  },
  {
   "cell_type": "code",
   "execution_count": 160,
   "metadata": {},
   "outputs": [],
   "source": [
    "store_back(EP_prep,'EP_prep_d')"
   ]
  },
  {
   "cell_type": "code",
   "execution_count": 34,
   "metadata": {},
   "outputs": [
    {
     "data": {
      "text/plain": [
       "0    135260\n",
       "1     10376\n",
       "Name: fm_betroffen, dtype: int64"
      ]
     },
     "execution_count": 34,
     "metadata": {},
     "output_type": "execute_result"
    }
   ],
   "source": [
    "EP_prep.fm_betroffen.value_counts()"
   ]
  }
 ],
 "metadata": {
  "interpreter": {
   "hash": "369f2c481f4da34e4445cda3fffd2e751bd1c4d706f27375911949ba6bb62e1c"
  },
  "kernelspec": {
   "display_name": "Python 3.10.3 64-bit",
   "language": "python",
   "name": "python3"
  },
  "language_info": {
   "codemirror_mode": {
    "name": "ipython",
    "version": 3
   },
   "file_extension": ".py",
   "mimetype": "text/x-python",
   "name": "python",
   "nbconvert_exporter": "python",
   "pygments_lexer": "ipython3",
   "version": "3.10.3"
  },
  "orig_nbformat": 4
 },
 "nbformat": 4,
 "nbformat_minor": 2
}
