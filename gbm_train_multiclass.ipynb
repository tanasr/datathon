{
 "cells": [
  {
   "cell_type": "code",
   "execution_count": 82,
   "metadata": {},
   "outputs": [],
   "source": [
    "import pandas as pd\n",
    "import numpy as np\n",
    "import os\n",
    "import matplotlib.pyplot as plt                   # For charts and visualizations\n",
    "from IPython.display import Image                 # For displaying images in the notebook\n",
    "from IPython.display import display \n",
    "from sklearn.model_selection import train_test_split \n",
    "import lightgbm as lgb\n",
    "import seaborn as sns\n"
   ]
  },
  {
   "cell_type": "code",
   "execution_count": 2,
   "metadata": {},
   "outputs": [],
   "source": [
    "def dateparse(d):\n",
    "    return pd.to_datetime(d)"
   ]
  },
  {
   "cell_type": "code",
   "execution_count": 3,
   "metadata": {},
   "outputs": [],
   "source": [
    "df = pd.read_csv(os.path.join(os.getcwd(), 'data/', 'trainset.csv'),\n",
    "                        encoding= 'unicode_escape', low_memory=False, parse_dates=['measured_at'], date_parser=dateparse)\n",
    "df = df.drop(columns=['index','measured_at'])\n",
    "#df['error'] = (df['error_category'] != 'NO_ERROR').astype(int)\n"
   ]
  },
  {
   "cell_type": "code",
   "execution_count": 4,
   "metadata": {},
   "outputs": [],
   "source": [
    "df['error'] = (df['error_category'] != 'NO_ERROR').astype(int)"
   ]
  },
  {
   "cell_type": "code",
   "execution_count": 5,
   "metadata": {},
   "outputs": [],
   "source": [
    "#df['error'] = 0\n",
    "err = {'error_category': {'ERROR=12':0, 'ERROR=17':1, 'ERROR=3':2, 'ERROR=5': 3, 'ERROR=19': 4, 'ERROR=24':5, \n",
    "                          'ERROR=28':6, 'ERROR=8': 7, 'ERROR=20':8, 'ERROR=31':9, 'ERROR=30':10, 'ERROR=22':11,\n",
    "                          'ERROR=25':12, 'ERROR=7':13, 'ERROR=27':14, 'ERROR=29':15, 'ERROR=23':16, 'NO_ERROR':-1}}\n",
    "df = df.replace(err)\n",
    "\n",
    "\n"
   ]
  },
  {
   "cell_type": "code",
   "execution_count": 6,
   "metadata": {},
   "outputs": [
    {
     "data": {
      "text/plain": [
       "-1     1272609\n",
       " 0       47724\n",
       " 1       21651\n",
       " 2       10224\n",
       " 3        4893\n",
       " 4        3743\n",
       " 5        1771\n",
       " 6        1494\n",
       " 7        1081\n",
       " 8         787\n",
       " 9         495\n",
       " 10        409\n",
       " 11        141\n",
       " 12        108\n",
       " 13         32\n",
       " 14         22\n",
       " 15          4\n",
       " 16          2\n",
       "Name: error_category, dtype: int64"
      ]
     },
     "execution_count": 6,
     "metadata": {},
     "output_type": "execute_result"
    }
   ],
   "source": [
    "df.error_category.value_counts()"
   ]
  },
  {
   "cell_type": "code",
   "execution_count": 7,
   "metadata": {},
   "outputs": [],
   "source": [
    "params1 = {\n",
    "    'n_estimators': 1000,\n",
    "    'colsample_bytree':0.8,\n",
    "    #\"early_stopping_rounds\":[10], \n",
    "    'objective': 'binary',\n",
    "    'max_depth': 10,\n",
    "    'num_leaves': 100,\n",
    "    'metric' : 'logloss',\n",
    "    #'reg_alpha': [1.1, 1.2, 1.3],\n",
    "    #'reg_lambda': [1.1, 1.2, 1.3],\n",
    "    'learning_rate':0.1,\n",
    "    #'is_unbalance': ['True']\n",
    "    'scale_pos_weight':10,\n",
    "    #'min_split_gain': [0.3, 0.4],\n",
    "    'subsample': 0.9,\n",
    "    #'subsample_freq': [20]\n",
    "}"
   ]
  },
  {
   "cell_type": "code",
   "execution_count": 8,
   "metadata": {},
   "outputs": [],
   "source": [
    "y1 = df.error\n",
    "y2 = df.error_category\n",
    "X = df.drop(columns=['error','error_category'])"
   ]
  },
  {
   "cell_type": "code",
   "execution_count": 9,
   "metadata": {},
   "outputs": [
    {
     "data": {
      "text/html": [
       "<div>\n",
       "<style scoped>\n",
       "    .dataframe tbody tr th:only-of-type {\n",
       "        vertical-align: middle;\n",
       "    }\n",
       "\n",
       "    .dataframe tbody tr th {\n",
       "        vertical-align: top;\n",
       "    }\n",
       "\n",
       "    .dataframe thead th {\n",
       "        text-align: right;\n",
       "    }\n",
       "</style>\n",
       "<table border=\"1\" class=\"dataframe\">\n",
       "  <thead>\n",
       "    <tr style=\"text-align: right;\">\n",
       "      <th></th>\n",
       "      <th>turbine_id</th>\n",
       "      <th>wind_speed</th>\n",
       "      <th>power</th>\n",
       "      <th>nacelle_direction</th>\n",
       "      <th>wind_direction</th>\n",
       "      <th>rotor_speed</th>\n",
       "      <th>generator_speed</th>\n",
       "      <th>temp_environment</th>\n",
       "      <th>temp_hydraulic_oil</th>\n",
       "      <th>temp_gear_bearing</th>\n",
       "      <th>cosphi</th>\n",
       "      <th>blade_angle_avg</th>\n",
       "      <th>hydraulic_pressure</th>\n",
       "      <th>park_id</th>\n",
       "      <th>error_category</th>\n",
       "      <th>error</th>\n",
       "    </tr>\n",
       "  </thead>\n",
       "  <tbody>\n",
       "    <tr>\n",
       "      <th>428</th>\n",
       "      <td>11</td>\n",
       "      <td>1.091667</td>\n",
       "      <td>0.987200</td>\n",
       "      <td>305.8</td>\n",
       "      <td>307.7</td>\n",
       "      <td>0.993289</td>\n",
       "      <td>0.833333</td>\n",
       "      <td>8.0</td>\n",
       "      <td>39.0</td>\n",
       "      <td>56.0</td>\n",
       "      <td>0.99</td>\n",
       "      <td>6.5</td>\n",
       "      <td>195.8</td>\n",
       "      <td>1</td>\n",
       "      <td>3</td>\n",
       "      <td>1</td>\n",
       "    </tr>\n",
       "    <tr>\n",
       "      <th>429</th>\n",
       "      <td>11</td>\n",
       "      <td>1.016667</td>\n",
       "      <td>0.931600</td>\n",
       "      <td>308.6</td>\n",
       "      <td>311.0</td>\n",
       "      <td>0.993289</td>\n",
       "      <td>0.832837</td>\n",
       "      <td>7.0</td>\n",
       "      <td>40.0</td>\n",
       "      <td>56.0</td>\n",
       "      <td>0.99</td>\n",
       "      <td>4.5</td>\n",
       "      <td>196.1</td>\n",
       "      <td>1</td>\n",
       "      <td>3</td>\n",
       "      <td>1</td>\n",
       "    </tr>\n",
       "    <tr>\n",
       "      <th>430</th>\n",
       "      <td>11</td>\n",
       "      <td>1.041667</td>\n",
       "      <td>0.981450</td>\n",
       "      <td>313.5</td>\n",
       "      <td>316.0</td>\n",
       "      <td>0.993289</td>\n",
       "      <td>0.833829</td>\n",
       "      <td>7.0</td>\n",
       "      <td>41.0</td>\n",
       "      <td>57.0</td>\n",
       "      <td>0.99</td>\n",
       "      <td>4.6</td>\n",
       "      <td>196.0</td>\n",
       "      <td>1</td>\n",
       "      <td>3</td>\n",
       "      <td>1</td>\n",
       "    </tr>\n",
       "    <tr>\n",
       "      <th>497</th>\n",
       "      <td>11</td>\n",
       "      <td>1.041667</td>\n",
       "      <td>0.996450</td>\n",
       "      <td>247.6</td>\n",
       "      <td>243.7</td>\n",
       "      <td>NaN</td>\n",
       "      <td>0.833333</td>\n",
       "      <td>6.0</td>\n",
       "      <td>33.0</td>\n",
       "      <td>51.0</td>\n",
       "      <td>0.99</td>\n",
       "      <td>6.1</td>\n",
       "      <td>196.0</td>\n",
       "      <td>1</td>\n",
       "      <td>3</td>\n",
       "      <td>1</td>\n",
       "    </tr>\n",
       "    <tr>\n",
       "      <th>498</th>\n",
       "      <td>11</td>\n",
       "      <td>1.100000</td>\n",
       "      <td>0.997700</td>\n",
       "      <td>244.0</td>\n",
       "      <td>242.8</td>\n",
       "      <td>NaN</td>\n",
       "      <td>0.833829</td>\n",
       "      <td>6.0</td>\n",
       "      <td>34.0</td>\n",
       "      <td>51.0</td>\n",
       "      <td>0.99</td>\n",
       "      <td>7.0</td>\n",
       "      <td>196.1</td>\n",
       "      <td>1</td>\n",
       "      <td>3</td>\n",
       "      <td>1</td>\n",
       "    </tr>\n",
       "    <tr>\n",
       "      <th>...</th>\n",
       "      <td>...</td>\n",
       "      <td>...</td>\n",
       "      <td>...</td>\n",
       "      <td>...</td>\n",
       "      <td>...</td>\n",
       "      <td>...</td>\n",
       "      <td>...</td>\n",
       "      <td>...</td>\n",
       "      <td>...</td>\n",
       "      <td>...</td>\n",
       "      <td>...</td>\n",
       "      <td>...</td>\n",
       "      <td>...</td>\n",
       "      <td>...</td>\n",
       "      <td>...</td>\n",
       "      <td>...</td>\n",
       "    </tr>\n",
       "    <tr>\n",
       "      <th>1365699</th>\n",
       "      <td>29</td>\n",
       "      <td>0.307692</td>\n",
       "      <td>-0.004000</td>\n",
       "      <td>75.7</td>\n",
       "      <td>72.5</td>\n",
       "      <td>0.050000</td>\n",
       "      <td>0.033800</td>\n",
       "      <td>21.0</td>\n",
       "      <td>44.0</td>\n",
       "      <td>53.0</td>\n",
       "      <td>-0.50</td>\n",
       "      <td>71.0</td>\n",
       "      <td>246.9</td>\n",
       "      <td>2</td>\n",
       "      <td>2</td>\n",
       "      <td>1</td>\n",
       "    </tr>\n",
       "    <tr>\n",
       "      <th>1365796</th>\n",
       "      <td>29</td>\n",
       "      <td>0.253846</td>\n",
       "      <td>-0.006121</td>\n",
       "      <td>60.3</td>\n",
       "      <td>57.4</td>\n",
       "      <td>0.425000</td>\n",
       "      <td>0.370800</td>\n",
       "      <td>11.0</td>\n",
       "      <td>42.0</td>\n",
       "      <td>47.0</td>\n",
       "      <td>-0.80</td>\n",
       "      <td>12.3</td>\n",
       "      <td>247.2</td>\n",
       "      <td>2</td>\n",
       "      <td>4</td>\n",
       "      <td>1</td>\n",
       "    </tr>\n",
       "    <tr>\n",
       "      <th>1365797</th>\n",
       "      <td>29</td>\n",
       "      <td>0.261538</td>\n",
       "      <td>-0.007636</td>\n",
       "      <td>60.3</td>\n",
       "      <td>57.2</td>\n",
       "      <td>NaN</td>\n",
       "      <td>0.344200</td>\n",
       "      <td>12.0</td>\n",
       "      <td>42.0</td>\n",
       "      <td>47.0</td>\n",
       "      <td>-0.90</td>\n",
       "      <td>12.6</td>\n",
       "      <td>248.3</td>\n",
       "      <td>2</td>\n",
       "      <td>4</td>\n",
       "      <td>1</td>\n",
       "    </tr>\n",
       "    <tr>\n",
       "      <th>1366659</th>\n",
       "      <td>29</td>\n",
       "      <td>0.376923</td>\n",
       "      <td>0.072576</td>\n",
       "      <td>14.5</td>\n",
       "      <td>12.8</td>\n",
       "      <td>0.550000</td>\n",
       "      <td>0.488400</td>\n",
       "      <td>11.0</td>\n",
       "      <td>43.0</td>\n",
       "      <td>62.0</td>\n",
       "      <td>0.70</td>\n",
       "      <td>9.1</td>\n",
       "      <td>246.9</td>\n",
       "      <td>2</td>\n",
       "      <td>5</td>\n",
       "      <td>1</td>\n",
       "    </tr>\n",
       "    <tr>\n",
       "      <th>1366660</th>\n",
       "      <td>29</td>\n",
       "      <td>0.353846</td>\n",
       "      <td>0.025121</td>\n",
       "      <td>351.9</td>\n",
       "      <td>13.4</td>\n",
       "      <td>0.275000</td>\n",
       "      <td>0.247467</td>\n",
       "      <td>11.0</td>\n",
       "      <td>42.0</td>\n",
       "      <td>59.0</td>\n",
       "      <td>-0.10</td>\n",
       "      <td>40.7</td>\n",
       "      <td>246.8</td>\n",
       "      <td>2</td>\n",
       "      <td>5</td>\n",
       "      <td>1</td>\n",
       "    </tr>\n",
       "  </tbody>\n",
       "</table>\n",
       "<p>94581 rows × 16 columns</p>\n",
       "</div>"
      ],
      "text/plain": [
       "         turbine_id  wind_speed     power  nacelle_direction  wind_direction  \\\n",
       "428              11    1.091667  0.987200              305.8           307.7   \n",
       "429              11    1.016667  0.931600              308.6           311.0   \n",
       "430              11    1.041667  0.981450              313.5           316.0   \n",
       "497              11    1.041667  0.996450              247.6           243.7   \n",
       "498              11    1.100000  0.997700              244.0           242.8   \n",
       "...             ...         ...       ...                ...             ...   \n",
       "1365699          29    0.307692 -0.004000               75.7            72.5   \n",
       "1365796          29    0.253846 -0.006121               60.3            57.4   \n",
       "1365797          29    0.261538 -0.007636               60.3            57.2   \n",
       "1366659          29    0.376923  0.072576               14.5            12.8   \n",
       "1366660          29    0.353846  0.025121              351.9            13.4   \n",
       "\n",
       "         rotor_speed  generator_speed  temp_environment  temp_hydraulic_oil  \\\n",
       "428         0.993289         0.833333               8.0                39.0   \n",
       "429         0.993289         0.832837               7.0                40.0   \n",
       "430         0.993289         0.833829               7.0                41.0   \n",
       "497              NaN         0.833333               6.0                33.0   \n",
       "498              NaN         0.833829               6.0                34.0   \n",
       "...              ...              ...               ...                 ...   \n",
       "1365699     0.050000         0.033800              21.0                44.0   \n",
       "1365796     0.425000         0.370800              11.0                42.0   \n",
       "1365797          NaN         0.344200              12.0                42.0   \n",
       "1366659     0.550000         0.488400              11.0                43.0   \n",
       "1366660     0.275000         0.247467              11.0                42.0   \n",
       "\n",
       "         temp_gear_bearing  cosphi  blade_angle_avg  hydraulic_pressure  \\\n",
       "428                   56.0    0.99              6.5               195.8   \n",
       "429                   56.0    0.99              4.5               196.1   \n",
       "430                   57.0    0.99              4.6               196.0   \n",
       "497                   51.0    0.99              6.1               196.0   \n",
       "498                   51.0    0.99              7.0               196.1   \n",
       "...                    ...     ...              ...                 ...   \n",
       "1365699               53.0   -0.50             71.0               246.9   \n",
       "1365796               47.0   -0.80             12.3               247.2   \n",
       "1365797               47.0   -0.90             12.6               248.3   \n",
       "1366659               62.0    0.70              9.1               246.9   \n",
       "1366660               59.0   -0.10             40.7               246.8   \n",
       "\n",
       "         park_id  error_category  error  \n",
       "428            1               3      1  \n",
       "429            1               3      1  \n",
       "430            1               3      1  \n",
       "497            1               3      1  \n",
       "498            1               3      1  \n",
       "...          ...             ...    ...  \n",
       "1365699        2               2      1  \n",
       "1365796        2               4      1  \n",
       "1365797        2               4      1  \n",
       "1366659        2               5      1  \n",
       "1366660        2               5      1  \n",
       "\n",
       "[94581 rows x 16 columns]"
      ]
     },
     "execution_count": 9,
     "metadata": {},
     "output_type": "execute_result"
    }
   ],
   "source": [
    "df.query('error==1')"
   ]
  },
  {
   "cell_type": "code",
   "execution_count": 98,
   "metadata": {},
   "outputs": [],
   "source": [
    "from lightgbm import LGBMClassifier\n",
    "\n",
    "model = LGBMClassifier()\n",
    "model.set_params(**params1)\n",
    "\n",
    "X_train, X_test, y_train, y_test = train_test_split(X,\n",
    "                                                    y2,\n",
    "                                                    stratify=y2,\n",
    "                                                    test_size=0.2,\n",
    "                                                    random_state=11) "
   ]
  },
  {
   "cell_type": "code",
   "execution_count": 99,
   "metadata": {},
   "outputs": [
    {
     "ename": "LightGBMError",
     "evalue": "Multiclass objective and metrics don't match",
     "output_type": "error",
     "traceback": [
      "\u001b[1;31m---------------------------------------------------------------------------\u001b[0m",
      "\u001b[1;31mLightGBMError\u001b[0m                             Traceback (most recent call last)",
      "\u001b[1;32md:\\OneDrive\\7Temporary\\Coding\\Github\\2022_05_14_Datathon_2022_V2\\datathon\\gbm_train_multiclass.ipynb Cell 11'\u001b[0m in \u001b[0;36m<cell line: 1>\u001b[1;34m()\u001b[0m\n\u001b[1;32m----> <a href='vscode-notebook-cell:/d%3A/OneDrive/7Temporary/Coding/Github/2022_05_14_Datathon_2022_V2/datathon/gbm_train_multiclass.ipynb#ch0000010?line=0'>1</a>\u001b[0m model\u001b[39m.\u001b[39;49mfit(X_train,y_train)\n",
      "File \u001b[1;32md:\\OneDrive\\7Temporary\\Coding\\Github\\.venv_learning_python_April_2022_V2\\lib\\site-packages\\lightgbm\\sklearn.py:967\u001b[0m, in \u001b[0;36mLGBMClassifier.fit\u001b[1;34m(self, X, y, sample_weight, init_score, eval_set, eval_names, eval_sample_weight, eval_class_weight, eval_init_score, eval_metric, early_stopping_rounds, verbose, feature_name, categorical_feature, callbacks, init_model)\u001b[0m\n\u001b[0;32m    <a href='file:///d%3A/OneDrive/7Temporary/Coding/Github/.venv_learning_python_April_2022_V2/lib/site-packages/lightgbm/sklearn.py?line=963'>964</a>\u001b[0m         \u001b[39melse\u001b[39;00m:\n\u001b[0;32m    <a href='file:///d%3A/OneDrive/7Temporary/Coding/Github/.venv_learning_python_April_2022_V2/lib/site-packages/lightgbm/sklearn.py?line=964'>965</a>\u001b[0m             valid_sets[i] \u001b[39m=\u001b[39m (valid_x, \u001b[39mself\u001b[39m\u001b[39m.\u001b[39m_le\u001b[39m.\u001b[39mtransform(valid_y))\n\u001b[1;32m--> <a href='file:///d%3A/OneDrive/7Temporary/Coding/Github/.venv_learning_python_April_2022_V2/lib/site-packages/lightgbm/sklearn.py?line=966'>967</a>\u001b[0m \u001b[39msuper\u001b[39;49m()\u001b[39m.\u001b[39;49mfit(X, _y, sample_weight\u001b[39m=\u001b[39;49msample_weight, init_score\u001b[39m=\u001b[39;49minit_score, eval_set\u001b[39m=\u001b[39;49mvalid_sets,\n\u001b[0;32m    <a href='file:///d%3A/OneDrive/7Temporary/Coding/Github/.venv_learning_python_April_2022_V2/lib/site-packages/lightgbm/sklearn.py?line=967'>968</a>\u001b[0m             eval_names\u001b[39m=\u001b[39;49meval_names, eval_sample_weight\u001b[39m=\u001b[39;49meval_sample_weight,\n\u001b[0;32m    <a href='file:///d%3A/OneDrive/7Temporary/Coding/Github/.venv_learning_python_April_2022_V2/lib/site-packages/lightgbm/sklearn.py?line=968'>969</a>\u001b[0m             eval_class_weight\u001b[39m=\u001b[39;49meval_class_weight, eval_init_score\u001b[39m=\u001b[39;49meval_init_score,\n\u001b[0;32m    <a href='file:///d%3A/OneDrive/7Temporary/Coding/Github/.venv_learning_python_April_2022_V2/lib/site-packages/lightgbm/sklearn.py?line=969'>970</a>\u001b[0m             eval_metric\u001b[39m=\u001b[39;49meval_metric, early_stopping_rounds\u001b[39m=\u001b[39;49mearly_stopping_rounds,\n\u001b[0;32m    <a href='file:///d%3A/OneDrive/7Temporary/Coding/Github/.venv_learning_python_April_2022_V2/lib/site-packages/lightgbm/sklearn.py?line=970'>971</a>\u001b[0m             verbose\u001b[39m=\u001b[39;49mverbose, feature_name\u001b[39m=\u001b[39;49mfeature_name, categorical_feature\u001b[39m=\u001b[39;49mcategorical_feature,\n\u001b[0;32m    <a href='file:///d%3A/OneDrive/7Temporary/Coding/Github/.venv_learning_python_April_2022_V2/lib/site-packages/lightgbm/sklearn.py?line=971'>972</a>\u001b[0m             callbacks\u001b[39m=\u001b[39;49mcallbacks, init_model\u001b[39m=\u001b[39;49minit_model)\n\u001b[0;32m    <a href='file:///d%3A/OneDrive/7Temporary/Coding/Github/.venv_learning_python_April_2022_V2/lib/site-packages/lightgbm/sklearn.py?line=972'>973</a>\u001b[0m \u001b[39mreturn\u001b[39;00m \u001b[39mself\u001b[39m\n",
      "File \u001b[1;32md:\\OneDrive\\7Temporary\\Coding\\Github\\.venv_learning_python_April_2022_V2\\lib\\site-packages\\lightgbm\\sklearn.py:748\u001b[0m, in \u001b[0;36mLGBMModel.fit\u001b[1;34m(self, X, y, sample_weight, init_score, group, eval_set, eval_names, eval_sample_weight, eval_class_weight, eval_init_score, eval_group, eval_metric, early_stopping_rounds, verbose, feature_name, categorical_feature, callbacks, init_model)\u001b[0m\n\u001b[0;32m    <a href='file:///d%3A/OneDrive/7Temporary/Coding/Github/.venv_learning_python_April_2022_V2/lib/site-packages/lightgbm/sklearn.py?line=744'>745</a>\u001b[0m evals_result \u001b[39m=\u001b[39m {}\n\u001b[0;32m    <a href='file:///d%3A/OneDrive/7Temporary/Coding/Github/.venv_learning_python_April_2022_V2/lib/site-packages/lightgbm/sklearn.py?line=745'>746</a>\u001b[0m callbacks\u001b[39m.\u001b[39mappend(record_evaluation(evals_result))\n\u001b[1;32m--> <a href='file:///d%3A/OneDrive/7Temporary/Coding/Github/.venv_learning_python_April_2022_V2/lib/site-packages/lightgbm/sklearn.py?line=747'>748</a>\u001b[0m \u001b[39mself\u001b[39m\u001b[39m.\u001b[39m_Booster \u001b[39m=\u001b[39m train(\n\u001b[0;32m    <a href='file:///d%3A/OneDrive/7Temporary/Coding/Github/.venv_learning_python_April_2022_V2/lib/site-packages/lightgbm/sklearn.py?line=748'>749</a>\u001b[0m     params\u001b[39m=\u001b[39;49mparams,\n\u001b[0;32m    <a href='file:///d%3A/OneDrive/7Temporary/Coding/Github/.venv_learning_python_April_2022_V2/lib/site-packages/lightgbm/sklearn.py?line=749'>750</a>\u001b[0m     train_set\u001b[39m=\u001b[39;49mtrain_set,\n\u001b[0;32m    <a href='file:///d%3A/OneDrive/7Temporary/Coding/Github/.venv_learning_python_April_2022_V2/lib/site-packages/lightgbm/sklearn.py?line=750'>751</a>\u001b[0m     num_boost_round\u001b[39m=\u001b[39;49m\u001b[39mself\u001b[39;49m\u001b[39m.\u001b[39;49mn_estimators,\n\u001b[0;32m    <a href='file:///d%3A/OneDrive/7Temporary/Coding/Github/.venv_learning_python_April_2022_V2/lib/site-packages/lightgbm/sklearn.py?line=751'>752</a>\u001b[0m     valid_sets\u001b[39m=\u001b[39;49mvalid_sets,\n\u001b[0;32m    <a href='file:///d%3A/OneDrive/7Temporary/Coding/Github/.venv_learning_python_April_2022_V2/lib/site-packages/lightgbm/sklearn.py?line=752'>753</a>\u001b[0m     valid_names\u001b[39m=\u001b[39;49meval_names,\n\u001b[0;32m    <a href='file:///d%3A/OneDrive/7Temporary/Coding/Github/.venv_learning_python_April_2022_V2/lib/site-packages/lightgbm/sklearn.py?line=753'>754</a>\u001b[0m     fobj\u001b[39m=\u001b[39;49m\u001b[39mself\u001b[39;49m\u001b[39m.\u001b[39;49m_fobj,\n\u001b[0;32m    <a href='file:///d%3A/OneDrive/7Temporary/Coding/Github/.venv_learning_python_April_2022_V2/lib/site-packages/lightgbm/sklearn.py?line=754'>755</a>\u001b[0m     feval\u001b[39m=\u001b[39;49meval_metrics_callable,\n\u001b[0;32m    <a href='file:///d%3A/OneDrive/7Temporary/Coding/Github/.venv_learning_python_April_2022_V2/lib/site-packages/lightgbm/sklearn.py?line=755'>756</a>\u001b[0m     init_model\u001b[39m=\u001b[39;49minit_model,\n\u001b[0;32m    <a href='file:///d%3A/OneDrive/7Temporary/Coding/Github/.venv_learning_python_April_2022_V2/lib/site-packages/lightgbm/sklearn.py?line=756'>757</a>\u001b[0m     feature_name\u001b[39m=\u001b[39;49mfeature_name,\n\u001b[0;32m    <a href='file:///d%3A/OneDrive/7Temporary/Coding/Github/.venv_learning_python_April_2022_V2/lib/site-packages/lightgbm/sklearn.py?line=757'>758</a>\u001b[0m     callbacks\u001b[39m=\u001b[39;49mcallbacks\n\u001b[0;32m    <a href='file:///d%3A/OneDrive/7Temporary/Coding/Github/.venv_learning_python_April_2022_V2/lib/site-packages/lightgbm/sklearn.py?line=758'>759</a>\u001b[0m )\n\u001b[0;32m    <a href='file:///d%3A/OneDrive/7Temporary/Coding/Github/.venv_learning_python_April_2022_V2/lib/site-packages/lightgbm/sklearn.py?line=760'>761</a>\u001b[0m \u001b[39mif\u001b[39;00m evals_result:\n\u001b[0;32m    <a href='file:///d%3A/OneDrive/7Temporary/Coding/Github/.venv_learning_python_April_2022_V2/lib/site-packages/lightgbm/sklearn.py?line=761'>762</a>\u001b[0m     \u001b[39mself\u001b[39m\u001b[39m.\u001b[39m_evals_result \u001b[39m=\u001b[39m evals_result\n",
      "File \u001b[1;32md:\\OneDrive\\7Temporary\\Coding\\Github\\.venv_learning_python_April_2022_V2\\lib\\site-packages\\lightgbm\\engine.py:271\u001b[0m, in \u001b[0;36mtrain\u001b[1;34m(params, train_set, num_boost_round, valid_sets, valid_names, fobj, feval, init_model, feature_name, categorical_feature, early_stopping_rounds, evals_result, verbose_eval, learning_rates, keep_training_booster, callbacks)\u001b[0m\n\u001b[0;32m    <a href='file:///d%3A/OneDrive/7Temporary/Coding/Github/.venv_learning_python_April_2022_V2/lib/site-packages/lightgbm/engine.py?line=268'>269</a>\u001b[0m \u001b[39m# construct booster\u001b[39;00m\n\u001b[0;32m    <a href='file:///d%3A/OneDrive/7Temporary/Coding/Github/.venv_learning_python_April_2022_V2/lib/site-packages/lightgbm/engine.py?line=269'>270</a>\u001b[0m \u001b[39mtry\u001b[39;00m:\n\u001b[1;32m--> <a href='file:///d%3A/OneDrive/7Temporary/Coding/Github/.venv_learning_python_April_2022_V2/lib/site-packages/lightgbm/engine.py?line=270'>271</a>\u001b[0m     booster \u001b[39m=\u001b[39m Booster(params\u001b[39m=\u001b[39;49mparams, train_set\u001b[39m=\u001b[39;49mtrain_set)\n\u001b[0;32m    <a href='file:///d%3A/OneDrive/7Temporary/Coding/Github/.venv_learning_python_April_2022_V2/lib/site-packages/lightgbm/engine.py?line=271'>272</a>\u001b[0m     \u001b[39mif\u001b[39;00m is_valid_contain_train:\n\u001b[0;32m    <a href='file:///d%3A/OneDrive/7Temporary/Coding/Github/.venv_learning_python_April_2022_V2/lib/site-packages/lightgbm/engine.py?line=272'>273</a>\u001b[0m         booster\u001b[39m.\u001b[39mset_train_data_name(train_data_name)\n",
      "File \u001b[1;32md:\\OneDrive\\7Temporary\\Coding\\Github\\.venv_learning_python_April_2022_V2\\lib\\site-packages\\lightgbm\\basic.py:2605\u001b[0m, in \u001b[0;36mBooster.__init__\u001b[1;34m(self, params, train_set, model_file, model_str, silent)\u001b[0m\n\u001b[0;32m   <a href='file:///d%3A/OneDrive/7Temporary/Coding/Github/.venv_learning_python_April_2022_V2/lib/site-packages/lightgbm/basic.py?line=2597'>2598</a>\u001b[0m     \u001b[39mself\u001b[39m\u001b[39m.\u001b[39mset_network(\n\u001b[0;32m   <a href='file:///d%3A/OneDrive/7Temporary/Coding/Github/.venv_learning_python_April_2022_V2/lib/site-packages/lightgbm/basic.py?line=2598'>2599</a>\u001b[0m         machines\u001b[39m=\u001b[39mmachines,\n\u001b[0;32m   <a href='file:///d%3A/OneDrive/7Temporary/Coding/Github/.venv_learning_python_April_2022_V2/lib/site-packages/lightgbm/basic.py?line=2599'>2600</a>\u001b[0m         local_listen_port\u001b[39m=\u001b[39mparams[\u001b[39m\"\u001b[39m\u001b[39mlocal_listen_port\u001b[39m\u001b[39m\"\u001b[39m],\n\u001b[0;32m   <a href='file:///d%3A/OneDrive/7Temporary/Coding/Github/.venv_learning_python_April_2022_V2/lib/site-packages/lightgbm/basic.py?line=2600'>2601</a>\u001b[0m         listen_time_out\u001b[39m=\u001b[39mparams\u001b[39m.\u001b[39mget(\u001b[39m\"\u001b[39m\u001b[39mtime_out\u001b[39m\u001b[39m\"\u001b[39m, \u001b[39m120\u001b[39m),\n\u001b[0;32m   <a href='file:///d%3A/OneDrive/7Temporary/Coding/Github/.venv_learning_python_April_2022_V2/lib/site-packages/lightgbm/basic.py?line=2601'>2602</a>\u001b[0m         num_machines\u001b[39m=\u001b[39mparams[\u001b[39m\"\u001b[39m\u001b[39mnum_machines\u001b[39m\u001b[39m\"\u001b[39m]\n\u001b[0;32m   <a href='file:///d%3A/OneDrive/7Temporary/Coding/Github/.venv_learning_python_April_2022_V2/lib/site-packages/lightgbm/basic.py?line=2602'>2603</a>\u001b[0m     )\n\u001b[0;32m   <a href='file:///d%3A/OneDrive/7Temporary/Coding/Github/.venv_learning_python_April_2022_V2/lib/site-packages/lightgbm/basic.py?line=2603'>2604</a>\u001b[0m \u001b[39m# construct booster object\u001b[39;00m\n\u001b[1;32m-> <a href='file:///d%3A/OneDrive/7Temporary/Coding/Github/.venv_learning_python_April_2022_V2/lib/site-packages/lightgbm/basic.py?line=2604'>2605</a>\u001b[0m train_set\u001b[39m.\u001b[39;49mconstruct()\n\u001b[0;32m   <a href='file:///d%3A/OneDrive/7Temporary/Coding/Github/.venv_learning_python_April_2022_V2/lib/site-packages/lightgbm/basic.py?line=2605'>2606</a>\u001b[0m \u001b[39m# copy the parameters from train_set\u001b[39;00m\n\u001b[0;32m   <a href='file:///d%3A/OneDrive/7Temporary/Coding/Github/.venv_learning_python_April_2022_V2/lib/site-packages/lightgbm/basic.py?line=2606'>2607</a>\u001b[0m params\u001b[39m.\u001b[39mupdate(train_set\u001b[39m.\u001b[39mget_params())\n",
      "File \u001b[1;32md:\\OneDrive\\7Temporary\\Coding\\Github\\.venv_learning_python_April_2022_V2\\lib\\site-packages\\lightgbm\\basic.py:1815\u001b[0m, in \u001b[0;36mDataset.construct\u001b[1;34m(self)\u001b[0m\n\u001b[0;32m   <a href='file:///d%3A/OneDrive/7Temporary/Coding/Github/.venv_learning_python_April_2022_V2/lib/site-packages/lightgbm/basic.py?line=1811'>1812</a>\u001b[0m             \u001b[39mself\u001b[39m\u001b[39m.\u001b[39m_set_init_score_by_predictor(\u001b[39mself\u001b[39m\u001b[39m.\u001b[39m_predictor, \u001b[39mself\u001b[39m\u001b[39m.\u001b[39mdata, used_indices)\n\u001b[0;32m   <a href='file:///d%3A/OneDrive/7Temporary/Coding/Github/.venv_learning_python_April_2022_V2/lib/site-packages/lightgbm/basic.py?line=1812'>1813</a>\u001b[0m \u001b[39melse\u001b[39;00m:\n\u001b[0;32m   <a href='file:///d%3A/OneDrive/7Temporary/Coding/Github/.venv_learning_python_April_2022_V2/lib/site-packages/lightgbm/basic.py?line=1813'>1814</a>\u001b[0m     \u001b[39m# create train\u001b[39;00m\n\u001b[1;32m-> <a href='file:///d%3A/OneDrive/7Temporary/Coding/Github/.venv_learning_python_April_2022_V2/lib/site-packages/lightgbm/basic.py?line=1814'>1815</a>\u001b[0m     \u001b[39mself\u001b[39;49m\u001b[39m.\u001b[39;49m_lazy_init(\u001b[39mself\u001b[39;49m\u001b[39m.\u001b[39;49mdata, label\u001b[39m=\u001b[39;49m\u001b[39mself\u001b[39;49m\u001b[39m.\u001b[39;49mlabel,\n\u001b[0;32m   <a href='file:///d%3A/OneDrive/7Temporary/Coding/Github/.venv_learning_python_April_2022_V2/lib/site-packages/lightgbm/basic.py?line=1815'>1816</a>\u001b[0m                     weight\u001b[39m=\u001b[39;49m\u001b[39mself\u001b[39;49m\u001b[39m.\u001b[39;49mweight, group\u001b[39m=\u001b[39;49m\u001b[39mself\u001b[39;49m\u001b[39m.\u001b[39;49mgroup,\n\u001b[0;32m   <a href='file:///d%3A/OneDrive/7Temporary/Coding/Github/.venv_learning_python_April_2022_V2/lib/site-packages/lightgbm/basic.py?line=1816'>1817</a>\u001b[0m                     init_score\u001b[39m=\u001b[39;49m\u001b[39mself\u001b[39;49m\u001b[39m.\u001b[39;49minit_score, predictor\u001b[39m=\u001b[39;49m\u001b[39mself\u001b[39;49m\u001b[39m.\u001b[39;49m_predictor,\n\u001b[0;32m   <a href='file:///d%3A/OneDrive/7Temporary/Coding/Github/.venv_learning_python_April_2022_V2/lib/site-packages/lightgbm/basic.py?line=1817'>1818</a>\u001b[0m                     silent\u001b[39m=\u001b[39;49m\u001b[39mself\u001b[39;49m\u001b[39m.\u001b[39;49msilent, feature_name\u001b[39m=\u001b[39;49m\u001b[39mself\u001b[39;49m\u001b[39m.\u001b[39;49mfeature_name,\n\u001b[0;32m   <a href='file:///d%3A/OneDrive/7Temporary/Coding/Github/.venv_learning_python_April_2022_V2/lib/site-packages/lightgbm/basic.py?line=1818'>1819</a>\u001b[0m                     categorical_feature\u001b[39m=\u001b[39;49m\u001b[39mself\u001b[39;49m\u001b[39m.\u001b[39;49mcategorical_feature, params\u001b[39m=\u001b[39;49m\u001b[39mself\u001b[39;49m\u001b[39m.\u001b[39;49mparams)\n\u001b[0;32m   <a href='file:///d%3A/OneDrive/7Temporary/Coding/Github/.venv_learning_python_April_2022_V2/lib/site-packages/lightgbm/basic.py?line=1819'>1820</a>\u001b[0m \u001b[39mif\u001b[39;00m \u001b[39mself\u001b[39m\u001b[39m.\u001b[39mfree_raw_data:\n\u001b[0;32m   <a href='file:///d%3A/OneDrive/7Temporary/Coding/Github/.venv_learning_python_April_2022_V2/lib/site-packages/lightgbm/basic.py?line=1820'>1821</a>\u001b[0m     \u001b[39mself\u001b[39m\u001b[39m.\u001b[39mdata \u001b[39m=\u001b[39m \u001b[39mNone\u001b[39;00m\n",
      "File \u001b[1;32md:\\OneDrive\\7Temporary\\Coding\\Github\\.venv_learning_python_April_2022_V2\\lib\\site-packages\\lightgbm\\basic.py:1538\u001b[0m, in \u001b[0;36mDataset._lazy_init\u001b[1;34m(self, data, label, reference, weight, group, init_score, predictor, silent, feature_name, categorical_feature, params)\u001b[0m\n\u001b[0;32m   <a href='file:///d%3A/OneDrive/7Temporary/Coding/Github/.venv_learning_python_April_2022_V2/lib/site-packages/lightgbm/basic.py?line=1535'>1536</a>\u001b[0m     \u001b[39mself\u001b[39m\u001b[39m.\u001b[39m__init_from_csc(data, params_str, ref_dataset)\n\u001b[0;32m   <a href='file:///d%3A/OneDrive/7Temporary/Coding/Github/.venv_learning_python_April_2022_V2/lib/site-packages/lightgbm/basic.py?line=1536'>1537</a>\u001b[0m \u001b[39melif\u001b[39;00m \u001b[39misinstance\u001b[39m(data, np\u001b[39m.\u001b[39mndarray):\n\u001b[1;32m-> <a href='file:///d%3A/OneDrive/7Temporary/Coding/Github/.venv_learning_python_April_2022_V2/lib/site-packages/lightgbm/basic.py?line=1537'>1538</a>\u001b[0m     \u001b[39mself\u001b[39;49m\u001b[39m.\u001b[39;49m__init_from_np2d(data, params_str, ref_dataset)\n\u001b[0;32m   <a href='file:///d%3A/OneDrive/7Temporary/Coding/Github/.venv_learning_python_April_2022_V2/lib/site-packages/lightgbm/basic.py?line=1538'>1539</a>\u001b[0m \u001b[39melif\u001b[39;00m \u001b[39misinstance\u001b[39m(data, \u001b[39mlist\u001b[39m) \u001b[39mand\u001b[39;00m \u001b[39mlen\u001b[39m(data) \u001b[39m>\u001b[39m \u001b[39m0\u001b[39m:\n\u001b[0;32m   <a href='file:///d%3A/OneDrive/7Temporary/Coding/Github/.venv_learning_python_April_2022_V2/lib/site-packages/lightgbm/basic.py?line=1539'>1540</a>\u001b[0m     \u001b[39mif\u001b[39;00m \u001b[39mall\u001b[39m(\u001b[39misinstance\u001b[39m(x, np\u001b[39m.\u001b[39mndarray) \u001b[39mfor\u001b[39;00m x \u001b[39min\u001b[39;00m data):\n",
      "File \u001b[1;32md:\\OneDrive\\7Temporary\\Coding\\Github\\.venv_learning_python_April_2022_V2\\lib\\site-packages\\lightgbm\\basic.py:1659\u001b[0m, in \u001b[0;36mDataset.__init_from_np2d\u001b[1;34m(self, mat, params_str, ref_dataset)\u001b[0m\n\u001b[0;32m   <a href='file:///d%3A/OneDrive/7Temporary/Coding/Github/.venv_learning_python_April_2022_V2/lib/site-packages/lightgbm/basic.py?line=1655'>1656</a>\u001b[0m     data \u001b[39m=\u001b[39m np\u001b[39m.\u001b[39marray(mat\u001b[39m.\u001b[39mreshape(mat\u001b[39m.\u001b[39msize), dtype\u001b[39m=\u001b[39mnp\u001b[39m.\u001b[39mfloat32)\n\u001b[0;32m   <a href='file:///d%3A/OneDrive/7Temporary/Coding/Github/.venv_learning_python_April_2022_V2/lib/site-packages/lightgbm/basic.py?line=1657'>1658</a>\u001b[0m ptr_data, type_ptr_data, _ \u001b[39m=\u001b[39m c_float_array(data)\n\u001b[1;32m-> <a href='file:///d%3A/OneDrive/7Temporary/Coding/Github/.venv_learning_python_April_2022_V2/lib/site-packages/lightgbm/basic.py?line=1658'>1659</a>\u001b[0m _safe_call(_LIB\u001b[39m.\u001b[39;49mLGBM_DatasetCreateFromMat(\n\u001b[0;32m   <a href='file:///d%3A/OneDrive/7Temporary/Coding/Github/.venv_learning_python_April_2022_V2/lib/site-packages/lightgbm/basic.py?line=1659'>1660</a>\u001b[0m     ptr_data,\n\u001b[0;32m   <a href='file:///d%3A/OneDrive/7Temporary/Coding/Github/.venv_learning_python_April_2022_V2/lib/site-packages/lightgbm/basic.py?line=1660'>1661</a>\u001b[0m     ctypes\u001b[39m.\u001b[39;49mc_int(type_ptr_data),\n\u001b[0;32m   <a href='file:///d%3A/OneDrive/7Temporary/Coding/Github/.venv_learning_python_April_2022_V2/lib/site-packages/lightgbm/basic.py?line=1661'>1662</a>\u001b[0m     ctypes\u001b[39m.\u001b[39;49mc_int32(mat\u001b[39m.\u001b[39;49mshape[\u001b[39m0\u001b[39;49m]),\n\u001b[0;32m   <a href='file:///d%3A/OneDrive/7Temporary/Coding/Github/.venv_learning_python_April_2022_V2/lib/site-packages/lightgbm/basic.py?line=1662'>1663</a>\u001b[0m     ctypes\u001b[39m.\u001b[39;49mc_int32(mat\u001b[39m.\u001b[39;49mshape[\u001b[39m1\u001b[39;49m]),\n\u001b[0;32m   <a href='file:///d%3A/OneDrive/7Temporary/Coding/Github/.venv_learning_python_April_2022_V2/lib/site-packages/lightgbm/basic.py?line=1663'>1664</a>\u001b[0m     ctypes\u001b[39m.\u001b[39;49mc_int(C_API_IS_ROW_MAJOR),\n\u001b[0;32m   <a href='file:///d%3A/OneDrive/7Temporary/Coding/Github/.venv_learning_python_April_2022_V2/lib/site-packages/lightgbm/basic.py?line=1664'>1665</a>\u001b[0m     c_str(params_str),\n\u001b[0;32m   <a href='file:///d%3A/OneDrive/7Temporary/Coding/Github/.venv_learning_python_April_2022_V2/lib/site-packages/lightgbm/basic.py?line=1665'>1666</a>\u001b[0m     ref_dataset,\n\u001b[0;32m   <a href='file:///d%3A/OneDrive/7Temporary/Coding/Github/.venv_learning_python_April_2022_V2/lib/site-packages/lightgbm/basic.py?line=1666'>1667</a>\u001b[0m     ctypes\u001b[39m.\u001b[39;49mbyref(\u001b[39mself\u001b[39;49m\u001b[39m.\u001b[39;49mhandle)))\n\u001b[0;32m   <a href='file:///d%3A/OneDrive/7Temporary/Coding/Github/.venv_learning_python_April_2022_V2/lib/site-packages/lightgbm/basic.py?line=1667'>1668</a>\u001b[0m \u001b[39mreturn\u001b[39;00m \u001b[39mself\u001b[39m\n",
      "File \u001b[1;32md:\\OneDrive\\7Temporary\\Coding\\Github\\.venv_learning_python_April_2022_V2\\lib\\site-packages\\lightgbm\\basic.py:125\u001b[0m, in \u001b[0;36m_safe_call\u001b[1;34m(ret)\u001b[0m\n\u001b[0;32m    <a href='file:///d%3A/OneDrive/7Temporary/Coding/Github/.venv_learning_python_April_2022_V2/lib/site-packages/lightgbm/basic.py?line=116'>117</a>\u001b[0m \u001b[39m\"\"\"Check the return value from C API call.\u001b[39;00m\n\u001b[0;32m    <a href='file:///d%3A/OneDrive/7Temporary/Coding/Github/.venv_learning_python_April_2022_V2/lib/site-packages/lightgbm/basic.py?line=117'>118</a>\u001b[0m \n\u001b[0;32m    <a href='file:///d%3A/OneDrive/7Temporary/Coding/Github/.venv_learning_python_April_2022_V2/lib/site-packages/lightgbm/basic.py?line=118'>119</a>\u001b[0m \u001b[39mParameters\u001b[39;00m\n\u001b[1;32m   (...)\u001b[0m\n\u001b[0;32m    <a href='file:///d%3A/OneDrive/7Temporary/Coding/Github/.venv_learning_python_April_2022_V2/lib/site-packages/lightgbm/basic.py?line=121'>122</a>\u001b[0m \u001b[39m    The return value from C API calls.\u001b[39;00m\n\u001b[0;32m    <a href='file:///d%3A/OneDrive/7Temporary/Coding/Github/.venv_learning_python_April_2022_V2/lib/site-packages/lightgbm/basic.py?line=122'>123</a>\u001b[0m \u001b[39m\"\"\"\u001b[39;00m\n\u001b[0;32m    <a href='file:///d%3A/OneDrive/7Temporary/Coding/Github/.venv_learning_python_April_2022_V2/lib/site-packages/lightgbm/basic.py?line=123'>124</a>\u001b[0m \u001b[39mif\u001b[39;00m ret \u001b[39m!=\u001b[39m \u001b[39m0\u001b[39m:\n\u001b[1;32m--> <a href='file:///d%3A/OneDrive/7Temporary/Coding/Github/.venv_learning_python_April_2022_V2/lib/site-packages/lightgbm/basic.py?line=124'>125</a>\u001b[0m     \u001b[39mraise\u001b[39;00m LightGBMError(_LIB\u001b[39m.\u001b[39mLGBM_GetLastError()\u001b[39m.\u001b[39mdecode(\u001b[39m'\u001b[39m\u001b[39mutf-8\u001b[39m\u001b[39m'\u001b[39m))\n",
      "\u001b[1;31mLightGBMError\u001b[0m: Multiclass objective and metrics don't match"
     ]
    }
   ],
   "source": [
    "model.fit(X_train,y_train)"
   ]
  },
  {
   "cell_type": "code",
   "execution_count": null,
   "metadata": {},
   "outputs": [],
   "source": [
    "y_pred = model.predict_proba(X_test)"
   ]
  },
  {
   "cell_type": "code",
   "execution_count": null,
   "metadata": {},
   "outputs": [],
   "source": [
    "ind = np.argmax(y_pred, axis=1)"
   ]
  },
  {
   "cell_type": "code",
   "execution_count": null,
   "metadata": {},
   "outputs": [],
   "source": [
    "#df_err = df[df.error_category > 0]\n",
    "#y = df_err.error_category\n",
    "#X = df_err.drop(columns=['error_category'])"
   ]
  },
  {
   "cell_type": "code",
   "execution_count": null,
   "metadata": {},
   "outputs": [],
   "source": [
    "params2 = {\n",
    "            'boosting_type': 'gbdt',\n",
    "            'objective': 'multiclass',\n",
    "            'num_class':17,\n",
    "            'subsample': 0.5,\n",
    "            'subsample_freq': 1,\n",
    "            'learning_rate': 0.03,\n",
    "            #'num_leaves': 2**11-1,\n",
    "            #'min_data_in_leaf': 2**12-1,\n",
    "            'feature_fraction': 0.5,\n",
    "            #'max_bin': 100,\n",
    "            'n_estimators': 5000,\n",
    "            'boost_from_average': False,\n",
    "            \"random_seed\":42}"
   ]
  },
  {
   "cell_type": "code",
   "execution_count": null,
   "metadata": {},
   "outputs": [],
   "source": [
    "X_train2, X_val, y_train2, y_val = train_test_split(X_train,\n",
    "                                            y_train,\n",
    "                                            stratify=y_train,\n",
    "                                            test_size=0.2,\n",
    "                                            random_state=11)\n",
    "\n",
    "#X_val, X_test, y_val, y_test = train_test_split(X_,\n",
    "#                                                    y_,\n",
    "#                                                    #stratify=y_,\n",
    "#                                                    test_size=0.7,\n",
    "#                                                    random_state=11)  \n"
   ]
  },
  {
   "cell_type": "code",
   "execution_count": null,
   "metadata": {},
   "outputs": [
    {
     "data": {
      "text/plain": [
       "Index(['turbine_id', 'wind_speed', 'power', 'nacelle_direction',\n",
       "       'wind_direction', 'rotor_speed', 'generator_speed', 'temp_environment',\n",
       "       'temp_hydraulic_oil', 'temp_gear_bearing', 'cosphi', 'blade_angle_avg',\n",
       "       'hydraulic_pressure', 'park_id'],\n",
       "      dtype='object')"
      ]
     },
     "execution_count": 19,
     "metadata": {},
     "output_type": "execute_result"
    }
   ],
   "source": [
    "X_train2.columns"
   ]
  },
  {
   "cell_type": "code",
   "execution_count": null,
   "metadata": {},
   "outputs": [],
   "source": [
    "#mymodel = lgb.LGBMClassifier(n_estimators=5)\n",
    "#mymodel.fit(X_train, y_train)"
   ]
  },
  {
   "cell_type": "code",
   "execution_count": null,
   "metadata": {},
   "outputs": [],
   "source": [
    "train_data = lgb.Dataset(data=X_train2[X.columns],\n",
    "                         label=y_train2,\n",
    "                         free_raw_data=False)\n",
    "\n",
    "valid_data = lgb.Dataset(data=X_val[X.columns],\n",
    "                         label=y_val,\n",
    "                         free_raw_data=False)"
   ]
  },
  {
   "cell_type": "code",
   "execution_count": null,
   "metadata": {},
   "outputs": [
    {
     "name": "stderr",
     "output_type": "stream",
     "text": [
      "d:\\OneDrive\\7Temporary\\Coding\\Github\\.venv_learning_python_April_2022_V2\\lib\\site-packages\\lightgbm\\engine.py:177: UserWarning: Found `n_estimators` in params. Will use it instead of argument\n",
      "  _log_warning(f\"Found `{alias}` in params. Will use it instead of argument\")\n",
      "d:\\OneDrive\\7Temporary\\Coding\\Github\\.venv_learning_python_April_2022_V2\\lib\\site-packages\\lightgbm\\engine.py:181: UserWarning: 'early_stopping_rounds' argument is deprecated and will be removed in a future release of LightGBM. Pass 'early_stopping()' callback via 'callbacks' argument instead.\n",
      "  _log_warning(\"'early_stopping_rounds' argument is deprecated and will be removed in a future release of LightGBM. \"\n",
      "d:\\OneDrive\\7Temporary\\Coding\\Github\\.venv_learning_python_April_2022_V2\\lib\\site-packages\\lightgbm\\engine.py:239: UserWarning: 'verbose_eval' argument is deprecated and will be removed in a future release of LightGBM. Pass 'log_evaluation()' callback via 'callbacks' argument instead.\n",
      "  _log_warning(\"'verbose_eval' argument is deprecated and will be removed in a future release of LightGBM. \"\n"
     ]
    },
    {
     "name": "stdout",
     "output_type": "stream",
     "text": [
      "[LightGBM] [Warning] Auto-choosing row-wise multi-threading, the overhead of testing was 0.020863 seconds.\n",
      "You can set `force_row_wise=true` to remove the overhead.\n",
      "And if memory is not enough, you can set `force_col_wise=true`.\n",
      "[LightGBM] [Info] Total Bins 2164\n",
      "[LightGBM] [Info] Number of data points in the train set: 875001, number of used features: 14\n",
      "Training until validation scores don't improve for 50 rounds\n",
      "[25]\tvalid_0's multi_logloss: 0.124085\n",
      "[50]\tvalid_0's multi_logloss: 0.0465858\n",
      "[75]\tvalid_0's multi_logloss: 0.0273579\n",
      "[100]\tvalid_0's multi_logloss: 0.0215396\n",
      "[125]\tvalid_0's multi_logloss: 0.0192385\n",
      "[150]\tvalid_0's multi_logloss: 0.0181926\n",
      "[175]\tvalid_0's multi_logloss: 0.0176081\n",
      "[200]\tvalid_0's multi_logloss: 0.0172305\n",
      "[225]\tvalid_0's multi_logloss: 0.0169289\n",
      "[250]\tvalid_0's multi_logloss: 0.0166899\n",
      "[275]\tvalid_0's multi_logloss: 0.0164573\n",
      "[300]\tvalid_0's multi_logloss: 0.0162833\n",
      "[325]\tvalid_0's multi_logloss: 0.0161355\n",
      "[350]\tvalid_0's multi_logloss: 0.0160167\n",
      "[375]\tvalid_0's multi_logloss: 0.0158983\n",
      "[400]\tvalid_0's multi_logloss: 0.0157784\n",
      "[425]\tvalid_0's multi_logloss: 0.0156747\n",
      "[450]\tvalid_0's multi_logloss: 0.0155887\n",
      "[475]\tvalid_0's multi_logloss: 0.0155008\n",
      "[500]\tvalid_0's multi_logloss: 0.0154335\n",
      "[525]\tvalid_0's multi_logloss: 0.0153666\n",
      "[550]\tvalid_0's multi_logloss: 0.0152955\n",
      "[575]\tvalid_0's multi_logloss: 0.015239\n",
      "[600]\tvalid_0's multi_logloss: 0.0151925\n",
      "[625]\tvalid_0's multi_logloss: 0.0151414\n",
      "[650]\tvalid_0's multi_logloss: 0.0150842\n",
      "[675]\tvalid_0's multi_logloss: 0.0150448\n",
      "[700]\tvalid_0's multi_logloss: 0.0149948\n",
      "[725]\tvalid_0's multi_logloss: 0.0149563\n",
      "[750]\tvalid_0's multi_logloss: 0.0149234\n",
      "[775]\tvalid_0's multi_logloss: 0.0148835\n",
      "[800]\tvalid_0's multi_logloss: 0.0148689\n",
      "[825]\tvalid_0's multi_logloss: 0.0148463\n",
      "[850]\tvalid_0's multi_logloss: 0.0148301\n",
      "[875]\tvalid_0's multi_logloss: 0.0147973\n",
      "[900]\tvalid_0's multi_logloss: 0.0147661\n",
      "[925]\tvalid_0's multi_logloss: 0.0147541\n",
      "[950]\tvalid_0's multi_logloss: 0.0147318\n",
      "[975]\tvalid_0's multi_logloss: 0.014716\n",
      "[1000]\tvalid_0's multi_logloss: 0.014699\n",
      "[1025]\tvalid_0's multi_logloss: 0.0146788\n",
      "[1050]\tvalid_0's multi_logloss: 0.0146452\n",
      "[1075]\tvalid_0's multi_logloss: 0.0146253\n",
      "[1100]\tvalid_0's multi_logloss: 0.0146138\n",
      "[1125]\tvalid_0's multi_logloss: 0.0146109\n",
      "[1150]\tvalid_0's multi_logloss: 0.0146106\n",
      "[1175]\tvalid_0's multi_logloss: 0.0145914\n",
      "[1200]\tvalid_0's multi_logloss: 0.0145757\n",
      "[1225]\tvalid_0's multi_logloss: 0.014552\n",
      "[1250]\tvalid_0's multi_logloss: 0.0145448\n",
      "[1275]\tvalid_0's multi_logloss: 0.0145393\n",
      "[1300]\tvalid_0's multi_logloss: 0.0145414\n",
      "Early stopping, best iteration is:\n",
      "[1274]\tvalid_0's multi_logloss: 0.0145376\n"
     ]
    }
   ],
   "source": [
    "model_gbm = lgb.train(params2, train_data, valid_sets=[valid_data],\n",
    "                  num_boost_round=2000, early_stopping_rounds=50,\n",
    "                  verbose_eval=25)"
   ]
  },
  {
   "cell_type": "code",
   "execution_count": null,
   "metadata": {},
   "outputs": [],
   "source": [
    "y_pred = model_gbm.predict(X_test)"
   ]
  },
  {
   "cell_type": "code",
   "execution_count": null,
   "metadata": {},
   "outputs": [],
   "source": [
    "pred = np.argmax(y_pred, axis=1)"
   ]
  },
  {
   "cell_type": "code",
   "execution_count": null,
   "metadata": {},
   "outputs": [
    {
     "data": {
      "text/plain": [
       "(array([254605,      0,      0,      0,      0,      0,      0,      0,\n",
       "             0,  18833], dtype=int64),\n",
       " array([0. , 0.1, 0.2, 0.3, 0.4, 0.5, 0.6, 0.7, 0.8, 0.9, 1. ]))"
      ]
     },
     "execution_count": 97,
     "metadata": {},
     "output_type": "execute_result"
    }
   ],
   "source": [
    "np.histogram(pred)"
   ]
  },
  {
   "cell_type": "code",
   "execution_count": null,
   "metadata": {},
   "outputs": [
    {
     "data": {
      "text/plain": [
       "1044407    1\n",
       "604363     1\n",
       "703854     1\n",
       "547483     1\n",
       "335383     1\n",
       "1281906    1\n",
       "187472     1\n",
       "586513     1\n",
       "1258858    1\n",
       "1212125    1\n",
       "Name: error, dtype: int32"
      ]
     },
     "execution_count": 68,
     "metadata": {},
     "output_type": "execute_result"
    }
   ],
   "source": [
    "y2_test[:10]"
   ]
  },
  {
   "cell_type": "code",
   "execution_count": null,
   "metadata": {},
   "outputs": [
    {
     "data": {
      "text/plain": [
       "array([0, 0, 0, 0, 0, 0, 0, 0, 0, 1], dtype=int64)"
      ]
     },
     "execution_count": 69,
     "metadata": {},
     "output_type": "execute_result"
    }
   ],
   "source": [
    "pred[:10]"
   ]
  },
  {
   "cell_type": "code",
   "execution_count": null,
   "metadata": {},
   "outputs": [
    {
     "data": {
      "text/plain": [
       "0    254605\n",
       "1     18833\n",
       "dtype: int64"
      ]
     },
     "execution_count": 70,
     "metadata": {},
     "output_type": "execute_result"
    }
   ],
   "source": [
    "pd.Series(pred).value_counts()"
   ]
  },
  {
   "cell_type": "code",
   "execution_count": null,
   "metadata": {},
   "outputs": [],
   "source": [
    "y_pred2 = model_gbm.predict(X_test)"
   ]
  },
  {
   "cell_type": "code",
   "execution_count": null,
   "metadata": {},
   "outputs": [
    {
     "name": "stdout",
     "output_type": "stream",
     "text": [
      "(273438, 14)\n",
      "(273438, 17)\n",
      "(273438,)\n",
      "(273438, 17)\n"
     ]
    }
   ],
   "source": []
  },
  {
   "cell_type": "code",
   "execution_count": null,
   "metadata": {},
   "outputs": [],
   "source": [
    "pred = np.argmax(y_pred2, axis=1)"
   ]
  },
  {
   "cell_type": "code",
   "execution_count": 100,
   "metadata": {},
   "outputs": [
    {
     "name": "stdout",
     "output_type": "stream",
     "text": [
      "(273438, 14)\n",
      "(273438, 17)\n",
      "(273438,)\n",
      "(273438, 17)\n",
      "(273438,)\n"
     ]
    }
   ],
   "source": [
    "\n",
    "print(X_test.shape)\n",
    "print(y_pred2.shape)\n",
    "print(y_test.shape)\n",
    "print(y_pred.shape)\n",
    "print(pred.shape)"
   ]
  },
  {
   "cell_type": "code",
   "execution_count": 101,
   "metadata": {},
   "outputs": [
    {
     "data": {
      "text/plain": [
       "array([[9.99907261e-01, 9.27386653e-05, 8.78579493e-18, ...,\n",
       "        8.78579493e-18, 8.78579493e-18, 8.78579493e-18],\n",
       "       [9.99925613e-01, 7.43868239e-05, 4.67155255e-18, ...,\n",
       "        4.67155255e-18, 4.67155255e-18, 4.67155255e-18],\n",
       "       [9.99982907e-01, 1.70931856e-05, 2.19464151e-18, ...,\n",
       "        2.19464151e-18, 2.19464151e-18, 2.19464151e-18],\n",
       "       ...,\n",
       "       [9.99795538e-01, 2.04461847e-04, 1.22456237e-17, ...,\n",
       "        1.22456237e-17, 1.22456237e-17, 1.22456237e-17],\n",
       "       [9.99972441e-01, 2.75592368e-05, 3.69648457e-18, ...,\n",
       "        3.69648457e-18, 3.69648457e-18, 3.69648457e-18],\n",
       "       [5.99464551e-04, 9.99400535e-01, 1.52213389e-17, ...,\n",
       "        1.52213389e-17, 1.52213389e-17, 1.52213389e-17]])"
      ]
     },
     "execution_count": 101,
     "metadata": {},
     "output_type": "execute_result"
    }
   ],
   "source": [
    "y_pred2"
   ]
  },
  {
   "cell_type": "code",
   "execution_count": 102,
   "metadata": {},
   "outputs": [
    {
     "ename": "ValueError",
     "evalue": "Found input variables with inconsistent numbers of samples: [19091, 273438]",
     "output_type": "error",
     "traceback": [
      "\u001b[1;31m---------------------------------------------------------------------------\u001b[0m",
      "\u001b[1;31mValueError\u001b[0m                                Traceback (most recent call last)",
      "\u001b[1;32md:\\OneDrive\\7Temporary\\Coding\\Github\\2022_05_14_Datathon_2022_V2\\datathon\\gbm_train_multiclass.ipynb Cell 32'\u001b[0m in \u001b[0;36m<cell line: 3>\u001b[1;34m()\u001b[0m\n\u001b[0;32m      <a href='vscode-notebook-cell:/d%3A/OneDrive/7Temporary/Coding/Github/2022_05_14_Datathon_2022_V2/datathon/gbm_train_multiclass.ipynb#ch0000030?line=0'>1</a>\u001b[0m \u001b[39mfrom\u001b[39;00m \u001b[39msklearn\u001b[39;00m \u001b[39mimport\u001b[39;00m metrics \n\u001b[0;32m      <a href='vscode-notebook-cell:/d%3A/OneDrive/7Temporary/Coding/Github/2022_05_14_Datathon_2022_V2/datathon/gbm_train_multiclass.ipynb#ch0000030?line=1'>2</a>\u001b[0m \u001b[39m#print(f\"Test's ROC AUC: {metrics.roc_auc_score(y_test, y_pred):.5f}\")\u001b[39;00m\n\u001b[1;32m----> <a href='vscode-notebook-cell:/d%3A/OneDrive/7Temporary/Coding/Github/2022_05_14_Datathon_2022_V2/datathon/gbm_train_multiclass.ipynb#ch0000030?line=2'>3</a>\u001b[0m \u001b[39mprint\u001b[39m(\u001b[39mf\u001b[39m\u001b[39m\"\u001b[39m\u001b[39mTest\u001b[39m\u001b[39m'\u001b[39m\u001b[39ms f1: \u001b[39m\u001b[39m{\u001b[39;00mmetrics\u001b[39m.\u001b[39mf1_score(y2_test, pred, average\u001b[39m=\u001b[39m\u001b[39m'\u001b[39m\u001b[39mmicro\u001b[39m\u001b[39m'\u001b[39m)\u001b[39m:\u001b[39;00m\u001b[39m.5f\u001b[39m\u001b[39m}\u001b[39;00m\u001b[39m\"\u001b[39m)\n",
      "File \u001b[1;32md:\\OneDrive\\7Temporary\\Coding\\Github\\.venv_learning_python_April_2022_V2\\lib\\site-packages\\sklearn\\metrics\\_classification.py:1123\u001b[0m, in \u001b[0;36mf1_score\u001b[1;34m(y_true, y_pred, labels, pos_label, average, sample_weight, zero_division)\u001b[0m\n\u001b[0;32m    <a href='file:///d%3A/OneDrive/7Temporary/Coding/Github/.venv_learning_python_April_2022_V2/lib/site-packages/sklearn/metrics/_classification.py?line=991'>992</a>\u001b[0m \u001b[39mdef\u001b[39;00m \u001b[39mf1_score\u001b[39m(\n\u001b[0;32m    <a href='file:///d%3A/OneDrive/7Temporary/Coding/Github/.venv_learning_python_April_2022_V2/lib/site-packages/sklearn/metrics/_classification.py?line=992'>993</a>\u001b[0m     y_true,\n\u001b[0;32m    <a href='file:///d%3A/OneDrive/7Temporary/Coding/Github/.venv_learning_python_April_2022_V2/lib/site-packages/sklearn/metrics/_classification.py?line=993'>994</a>\u001b[0m     y_pred,\n\u001b[1;32m   (...)\u001b[0m\n\u001b[0;32m   <a href='file:///d%3A/OneDrive/7Temporary/Coding/Github/.venv_learning_python_April_2022_V2/lib/site-packages/sklearn/metrics/_classification.py?line=999'>1000</a>\u001b[0m     zero_division\u001b[39m=\u001b[39m\u001b[39m\"\u001b[39m\u001b[39mwarn\u001b[39m\u001b[39m\"\u001b[39m,\n\u001b[0;32m   <a href='file:///d%3A/OneDrive/7Temporary/Coding/Github/.venv_learning_python_April_2022_V2/lib/site-packages/sklearn/metrics/_classification.py?line=1000'>1001</a>\u001b[0m ):\n\u001b[0;32m   <a href='file:///d%3A/OneDrive/7Temporary/Coding/Github/.venv_learning_python_April_2022_V2/lib/site-packages/sklearn/metrics/_classification.py?line=1001'>1002</a>\u001b[0m     \u001b[39m\"\"\"Compute the F1 score, also known as balanced F-score or F-measure.\u001b[39;00m\n\u001b[0;32m   <a href='file:///d%3A/OneDrive/7Temporary/Coding/Github/.venv_learning_python_April_2022_V2/lib/site-packages/sklearn/metrics/_classification.py?line=1002'>1003</a>\u001b[0m \n\u001b[0;32m   <a href='file:///d%3A/OneDrive/7Temporary/Coding/Github/.venv_learning_python_April_2022_V2/lib/site-packages/sklearn/metrics/_classification.py?line=1003'>1004</a>\u001b[0m \u001b[39m    The F1 score can be interpreted as a harmonic mean of the precision and\u001b[39;00m\n\u001b[1;32m   (...)\u001b[0m\n\u001b[0;32m   <a href='file:///d%3A/OneDrive/7Temporary/Coding/Github/.venv_learning_python_April_2022_V2/lib/site-packages/sklearn/metrics/_classification.py?line=1120'>1121</a>\u001b[0m \u001b[39m    modified with ``zero_division``.\u001b[39;00m\n\u001b[0;32m   <a href='file:///d%3A/OneDrive/7Temporary/Coding/Github/.venv_learning_python_April_2022_V2/lib/site-packages/sklearn/metrics/_classification.py?line=1121'>1122</a>\u001b[0m \u001b[39m    \"\"\"\u001b[39;00m\n\u001b[1;32m-> <a href='file:///d%3A/OneDrive/7Temporary/Coding/Github/.venv_learning_python_April_2022_V2/lib/site-packages/sklearn/metrics/_classification.py?line=1122'>1123</a>\u001b[0m     \u001b[39mreturn\u001b[39;00m fbeta_score(\n\u001b[0;32m   <a href='file:///d%3A/OneDrive/7Temporary/Coding/Github/.venv_learning_python_April_2022_V2/lib/site-packages/sklearn/metrics/_classification.py?line=1123'>1124</a>\u001b[0m         y_true,\n\u001b[0;32m   <a href='file:///d%3A/OneDrive/7Temporary/Coding/Github/.venv_learning_python_April_2022_V2/lib/site-packages/sklearn/metrics/_classification.py?line=1124'>1125</a>\u001b[0m         y_pred,\n\u001b[0;32m   <a href='file:///d%3A/OneDrive/7Temporary/Coding/Github/.venv_learning_python_April_2022_V2/lib/site-packages/sklearn/metrics/_classification.py?line=1125'>1126</a>\u001b[0m         beta\u001b[39m=\u001b[39;49m\u001b[39m1\u001b[39;49m,\n\u001b[0;32m   <a href='file:///d%3A/OneDrive/7Temporary/Coding/Github/.venv_learning_python_April_2022_V2/lib/site-packages/sklearn/metrics/_classification.py?line=1126'>1127</a>\u001b[0m         labels\u001b[39m=\u001b[39;49mlabels,\n\u001b[0;32m   <a href='file:///d%3A/OneDrive/7Temporary/Coding/Github/.venv_learning_python_April_2022_V2/lib/site-packages/sklearn/metrics/_classification.py?line=1127'>1128</a>\u001b[0m         pos_label\u001b[39m=\u001b[39;49mpos_label,\n\u001b[0;32m   <a href='file:///d%3A/OneDrive/7Temporary/Coding/Github/.venv_learning_python_April_2022_V2/lib/site-packages/sklearn/metrics/_classification.py?line=1128'>1129</a>\u001b[0m         average\u001b[39m=\u001b[39;49maverage,\n\u001b[0;32m   <a href='file:///d%3A/OneDrive/7Temporary/Coding/Github/.venv_learning_python_April_2022_V2/lib/site-packages/sklearn/metrics/_classification.py?line=1129'>1130</a>\u001b[0m         sample_weight\u001b[39m=\u001b[39;49msample_weight,\n\u001b[0;32m   <a href='file:///d%3A/OneDrive/7Temporary/Coding/Github/.venv_learning_python_April_2022_V2/lib/site-packages/sklearn/metrics/_classification.py?line=1130'>1131</a>\u001b[0m         zero_division\u001b[39m=\u001b[39;49mzero_division,\n\u001b[0;32m   <a href='file:///d%3A/OneDrive/7Temporary/Coding/Github/.venv_learning_python_April_2022_V2/lib/site-packages/sklearn/metrics/_classification.py?line=1131'>1132</a>\u001b[0m     )\n",
      "File \u001b[1;32md:\\OneDrive\\7Temporary\\Coding\\Github\\.venv_learning_python_April_2022_V2\\lib\\site-packages\\sklearn\\metrics\\_classification.py:1261\u001b[0m, in \u001b[0;36mfbeta_score\u001b[1;34m(y_true, y_pred, beta, labels, pos_label, average, sample_weight, zero_division)\u001b[0m\n\u001b[0;32m   <a href='file:///d%3A/OneDrive/7Temporary/Coding/Github/.venv_learning_python_April_2022_V2/lib/site-packages/sklearn/metrics/_classification.py?line=1134'>1135</a>\u001b[0m \u001b[39mdef\u001b[39;00m \u001b[39mfbeta_score\u001b[39m(\n\u001b[0;32m   <a href='file:///d%3A/OneDrive/7Temporary/Coding/Github/.venv_learning_python_April_2022_V2/lib/site-packages/sklearn/metrics/_classification.py?line=1135'>1136</a>\u001b[0m     y_true,\n\u001b[0;32m   <a href='file:///d%3A/OneDrive/7Temporary/Coding/Github/.venv_learning_python_April_2022_V2/lib/site-packages/sklearn/metrics/_classification.py?line=1136'>1137</a>\u001b[0m     y_pred,\n\u001b[1;32m   (...)\u001b[0m\n\u001b[0;32m   <a href='file:///d%3A/OneDrive/7Temporary/Coding/Github/.venv_learning_python_April_2022_V2/lib/site-packages/sklearn/metrics/_classification.py?line=1143'>1144</a>\u001b[0m     zero_division\u001b[39m=\u001b[39m\u001b[39m\"\u001b[39m\u001b[39mwarn\u001b[39m\u001b[39m\"\u001b[39m,\n\u001b[0;32m   <a href='file:///d%3A/OneDrive/7Temporary/Coding/Github/.venv_learning_python_April_2022_V2/lib/site-packages/sklearn/metrics/_classification.py?line=1144'>1145</a>\u001b[0m ):\n\u001b[0;32m   <a href='file:///d%3A/OneDrive/7Temporary/Coding/Github/.venv_learning_python_April_2022_V2/lib/site-packages/sklearn/metrics/_classification.py?line=1145'>1146</a>\u001b[0m     \u001b[39m\"\"\"Compute the F-beta score.\u001b[39;00m\n\u001b[0;32m   <a href='file:///d%3A/OneDrive/7Temporary/Coding/Github/.venv_learning_python_April_2022_V2/lib/site-packages/sklearn/metrics/_classification.py?line=1146'>1147</a>\u001b[0m \n\u001b[0;32m   <a href='file:///d%3A/OneDrive/7Temporary/Coding/Github/.venv_learning_python_April_2022_V2/lib/site-packages/sklearn/metrics/_classification.py?line=1147'>1148</a>\u001b[0m \u001b[39m    The F-beta score is the weighted harmonic mean of precision and recall,\u001b[39;00m\n\u001b[1;32m   (...)\u001b[0m\n\u001b[0;32m   <a href='file:///d%3A/OneDrive/7Temporary/Coding/Github/.venv_learning_python_April_2022_V2/lib/site-packages/sklearn/metrics/_classification.py?line=1257'>1258</a>\u001b[0m \u001b[39m    array([0.71..., 0.        , 0.        ])\u001b[39;00m\n\u001b[0;32m   <a href='file:///d%3A/OneDrive/7Temporary/Coding/Github/.venv_learning_python_April_2022_V2/lib/site-packages/sklearn/metrics/_classification.py?line=1258'>1259</a>\u001b[0m \u001b[39m    \"\"\"\u001b[39;00m\n\u001b[1;32m-> <a href='file:///d%3A/OneDrive/7Temporary/Coding/Github/.venv_learning_python_April_2022_V2/lib/site-packages/sklearn/metrics/_classification.py?line=1260'>1261</a>\u001b[0m     _, _, f, _ \u001b[39m=\u001b[39m precision_recall_fscore_support(\n\u001b[0;32m   <a href='file:///d%3A/OneDrive/7Temporary/Coding/Github/.venv_learning_python_April_2022_V2/lib/site-packages/sklearn/metrics/_classification.py?line=1261'>1262</a>\u001b[0m         y_true,\n\u001b[0;32m   <a href='file:///d%3A/OneDrive/7Temporary/Coding/Github/.venv_learning_python_April_2022_V2/lib/site-packages/sklearn/metrics/_classification.py?line=1262'>1263</a>\u001b[0m         y_pred,\n\u001b[0;32m   <a href='file:///d%3A/OneDrive/7Temporary/Coding/Github/.venv_learning_python_April_2022_V2/lib/site-packages/sklearn/metrics/_classification.py?line=1263'>1264</a>\u001b[0m         beta\u001b[39m=\u001b[39;49mbeta,\n\u001b[0;32m   <a href='file:///d%3A/OneDrive/7Temporary/Coding/Github/.venv_learning_python_April_2022_V2/lib/site-packages/sklearn/metrics/_classification.py?line=1264'>1265</a>\u001b[0m         labels\u001b[39m=\u001b[39;49mlabels,\n\u001b[0;32m   <a href='file:///d%3A/OneDrive/7Temporary/Coding/Github/.venv_learning_python_April_2022_V2/lib/site-packages/sklearn/metrics/_classification.py?line=1265'>1266</a>\u001b[0m         pos_label\u001b[39m=\u001b[39;49mpos_label,\n\u001b[0;32m   <a href='file:///d%3A/OneDrive/7Temporary/Coding/Github/.venv_learning_python_April_2022_V2/lib/site-packages/sklearn/metrics/_classification.py?line=1266'>1267</a>\u001b[0m         average\u001b[39m=\u001b[39;49maverage,\n\u001b[0;32m   <a href='file:///d%3A/OneDrive/7Temporary/Coding/Github/.venv_learning_python_April_2022_V2/lib/site-packages/sklearn/metrics/_classification.py?line=1267'>1268</a>\u001b[0m         warn_for\u001b[39m=\u001b[39;49m(\u001b[39m\"\u001b[39;49m\u001b[39mf-score\u001b[39;49m\u001b[39m\"\u001b[39;49m,),\n\u001b[0;32m   <a href='file:///d%3A/OneDrive/7Temporary/Coding/Github/.venv_learning_python_April_2022_V2/lib/site-packages/sklearn/metrics/_classification.py?line=1268'>1269</a>\u001b[0m         sample_weight\u001b[39m=\u001b[39;49msample_weight,\n\u001b[0;32m   <a href='file:///d%3A/OneDrive/7Temporary/Coding/Github/.venv_learning_python_April_2022_V2/lib/site-packages/sklearn/metrics/_classification.py?line=1269'>1270</a>\u001b[0m         zero_division\u001b[39m=\u001b[39;49mzero_division,\n\u001b[0;32m   <a href='file:///d%3A/OneDrive/7Temporary/Coding/Github/.venv_learning_python_April_2022_V2/lib/site-packages/sklearn/metrics/_classification.py?line=1270'>1271</a>\u001b[0m     )\n\u001b[0;32m   <a href='file:///d%3A/OneDrive/7Temporary/Coding/Github/.venv_learning_python_April_2022_V2/lib/site-packages/sklearn/metrics/_classification.py?line=1271'>1272</a>\u001b[0m     \u001b[39mreturn\u001b[39;00m f\n",
      "File \u001b[1;32md:\\OneDrive\\7Temporary\\Coding\\Github\\.venv_learning_python_April_2022_V2\\lib\\site-packages\\sklearn\\metrics\\_classification.py:1544\u001b[0m, in \u001b[0;36mprecision_recall_fscore_support\u001b[1;34m(y_true, y_pred, beta, labels, pos_label, average, warn_for, sample_weight, zero_division)\u001b[0m\n\u001b[0;32m   <a href='file:///d%3A/OneDrive/7Temporary/Coding/Github/.venv_learning_python_April_2022_V2/lib/site-packages/sklearn/metrics/_classification.py?line=1541'>1542</a>\u001b[0m \u001b[39mif\u001b[39;00m beta \u001b[39m<\u001b[39m \u001b[39m0\u001b[39m:\n\u001b[0;32m   <a href='file:///d%3A/OneDrive/7Temporary/Coding/Github/.venv_learning_python_April_2022_V2/lib/site-packages/sklearn/metrics/_classification.py?line=1542'>1543</a>\u001b[0m     \u001b[39mraise\u001b[39;00m \u001b[39mValueError\u001b[39;00m(\u001b[39m\"\u001b[39m\u001b[39mbeta should be >=0 in the F-beta score\u001b[39m\u001b[39m\"\u001b[39m)\n\u001b[1;32m-> <a href='file:///d%3A/OneDrive/7Temporary/Coding/Github/.venv_learning_python_April_2022_V2/lib/site-packages/sklearn/metrics/_classification.py?line=1543'>1544</a>\u001b[0m labels \u001b[39m=\u001b[39m _check_set_wise_labels(y_true, y_pred, average, labels, pos_label)\n\u001b[0;32m   <a href='file:///d%3A/OneDrive/7Temporary/Coding/Github/.venv_learning_python_April_2022_V2/lib/site-packages/sklearn/metrics/_classification.py?line=1545'>1546</a>\u001b[0m \u001b[39m# Calculate tp_sum, pred_sum, true_sum ###\u001b[39;00m\n\u001b[0;32m   <a href='file:///d%3A/OneDrive/7Temporary/Coding/Github/.venv_learning_python_April_2022_V2/lib/site-packages/sklearn/metrics/_classification.py?line=1546'>1547</a>\u001b[0m samplewise \u001b[39m=\u001b[39m average \u001b[39m==\u001b[39m \u001b[39m\"\u001b[39m\u001b[39msamples\u001b[39m\u001b[39m\"\u001b[39m\n",
      "File \u001b[1;32md:\\OneDrive\\7Temporary\\Coding\\Github\\.venv_learning_python_April_2022_V2\\lib\\site-packages\\sklearn\\metrics\\_classification.py:1348\u001b[0m, in \u001b[0;36m_check_set_wise_labels\u001b[1;34m(y_true, y_pred, average, labels, pos_label)\u001b[0m\n\u001b[0;32m   <a href='file:///d%3A/OneDrive/7Temporary/Coding/Github/.venv_learning_python_April_2022_V2/lib/site-packages/sklearn/metrics/_classification.py?line=1344'>1345</a>\u001b[0m \u001b[39mif\u001b[39;00m average \u001b[39mnot\u001b[39;00m \u001b[39min\u001b[39;00m average_options \u001b[39mand\u001b[39;00m average \u001b[39m!=\u001b[39m \u001b[39m\"\u001b[39m\u001b[39mbinary\u001b[39m\u001b[39m\"\u001b[39m:\n\u001b[0;32m   <a href='file:///d%3A/OneDrive/7Temporary/Coding/Github/.venv_learning_python_April_2022_V2/lib/site-packages/sklearn/metrics/_classification.py?line=1345'>1346</a>\u001b[0m     \u001b[39mraise\u001b[39;00m \u001b[39mValueError\u001b[39;00m(\u001b[39m\"\u001b[39m\u001b[39maverage has to be one of \u001b[39m\u001b[39m\"\u001b[39m \u001b[39m+\u001b[39m \u001b[39mstr\u001b[39m(average_options))\n\u001b[1;32m-> <a href='file:///d%3A/OneDrive/7Temporary/Coding/Github/.venv_learning_python_April_2022_V2/lib/site-packages/sklearn/metrics/_classification.py?line=1347'>1348</a>\u001b[0m y_type, y_true, y_pred \u001b[39m=\u001b[39m _check_targets(y_true, y_pred)\n\u001b[0;32m   <a href='file:///d%3A/OneDrive/7Temporary/Coding/Github/.venv_learning_python_April_2022_V2/lib/site-packages/sklearn/metrics/_classification.py?line=1348'>1349</a>\u001b[0m \u001b[39m# Convert to Python primitive type to avoid NumPy type / Python str\u001b[39;00m\n\u001b[0;32m   <a href='file:///d%3A/OneDrive/7Temporary/Coding/Github/.venv_learning_python_April_2022_V2/lib/site-packages/sklearn/metrics/_classification.py?line=1349'>1350</a>\u001b[0m \u001b[39m# comparison. See https://github.com/numpy/numpy/issues/6784\u001b[39;00m\n\u001b[0;32m   <a href='file:///d%3A/OneDrive/7Temporary/Coding/Github/.venv_learning_python_April_2022_V2/lib/site-packages/sklearn/metrics/_classification.py?line=1350'>1351</a>\u001b[0m present_labels \u001b[39m=\u001b[39m unique_labels(y_true, y_pred)\u001b[39m.\u001b[39mtolist()\n",
      "File \u001b[1;32md:\\OneDrive\\7Temporary\\Coding\\Github\\.venv_learning_python_April_2022_V2\\lib\\site-packages\\sklearn\\metrics\\_classification.py:84\u001b[0m, in \u001b[0;36m_check_targets\u001b[1;34m(y_true, y_pred)\u001b[0m\n\u001b[0;32m     <a href='file:///d%3A/OneDrive/7Temporary/Coding/Github/.venv_learning_python_April_2022_V2/lib/site-packages/sklearn/metrics/_classification.py?line=56'>57</a>\u001b[0m \u001b[39mdef\u001b[39;00m \u001b[39m_check_targets\u001b[39m(y_true, y_pred):\n\u001b[0;32m     <a href='file:///d%3A/OneDrive/7Temporary/Coding/Github/.venv_learning_python_April_2022_V2/lib/site-packages/sklearn/metrics/_classification.py?line=57'>58</a>\u001b[0m     \u001b[39m\"\"\"Check that y_true and y_pred belong to the same classification task.\u001b[39;00m\n\u001b[0;32m     <a href='file:///d%3A/OneDrive/7Temporary/Coding/Github/.venv_learning_python_April_2022_V2/lib/site-packages/sklearn/metrics/_classification.py?line=58'>59</a>\u001b[0m \n\u001b[0;32m     <a href='file:///d%3A/OneDrive/7Temporary/Coding/Github/.venv_learning_python_April_2022_V2/lib/site-packages/sklearn/metrics/_classification.py?line=59'>60</a>\u001b[0m \u001b[39m    This converts multiclass or binary types to a common shape, and raises a\u001b[39;00m\n\u001b[1;32m   (...)\u001b[0m\n\u001b[0;32m     <a href='file:///d%3A/OneDrive/7Temporary/Coding/Github/.venv_learning_python_April_2022_V2/lib/site-packages/sklearn/metrics/_classification.py?line=81'>82</a>\u001b[0m \u001b[39m    y_pred : array or indicator matrix\u001b[39;00m\n\u001b[0;32m     <a href='file:///d%3A/OneDrive/7Temporary/Coding/Github/.venv_learning_python_April_2022_V2/lib/site-packages/sklearn/metrics/_classification.py?line=82'>83</a>\u001b[0m \u001b[39m    \"\"\"\u001b[39;00m\n\u001b[1;32m---> <a href='file:///d%3A/OneDrive/7Temporary/Coding/Github/.venv_learning_python_April_2022_V2/lib/site-packages/sklearn/metrics/_classification.py?line=83'>84</a>\u001b[0m     check_consistent_length(y_true, y_pred)\n\u001b[0;32m     <a href='file:///d%3A/OneDrive/7Temporary/Coding/Github/.venv_learning_python_April_2022_V2/lib/site-packages/sklearn/metrics/_classification.py?line=84'>85</a>\u001b[0m     type_true \u001b[39m=\u001b[39m type_of_target(y_true)\n\u001b[0;32m     <a href='file:///d%3A/OneDrive/7Temporary/Coding/Github/.venv_learning_python_April_2022_V2/lib/site-packages/sklearn/metrics/_classification.py?line=85'>86</a>\u001b[0m     type_pred \u001b[39m=\u001b[39m type_of_target(y_pred)\n",
      "File \u001b[1;32md:\\OneDrive\\7Temporary\\Coding\\Github\\.venv_learning_python_April_2022_V2\\lib\\site-packages\\sklearn\\utils\\validation.py:332\u001b[0m, in \u001b[0;36mcheck_consistent_length\u001b[1;34m(*arrays)\u001b[0m\n\u001b[0;32m    <a href='file:///d%3A/OneDrive/7Temporary/Coding/Github/.venv_learning_python_April_2022_V2/lib/site-packages/sklearn/utils/validation.py?line=329'>330</a>\u001b[0m uniques \u001b[39m=\u001b[39m np\u001b[39m.\u001b[39munique(lengths)\n\u001b[0;32m    <a href='file:///d%3A/OneDrive/7Temporary/Coding/Github/.venv_learning_python_April_2022_V2/lib/site-packages/sklearn/utils/validation.py?line=330'>331</a>\u001b[0m \u001b[39mif\u001b[39;00m \u001b[39mlen\u001b[39m(uniques) \u001b[39m>\u001b[39m \u001b[39m1\u001b[39m:\n\u001b[1;32m--> <a href='file:///d%3A/OneDrive/7Temporary/Coding/Github/.venv_learning_python_April_2022_V2/lib/site-packages/sklearn/utils/validation.py?line=331'>332</a>\u001b[0m     \u001b[39mraise\u001b[39;00m \u001b[39mValueError\u001b[39;00m(\n\u001b[0;32m    <a href='file:///d%3A/OneDrive/7Temporary/Coding/Github/.venv_learning_python_April_2022_V2/lib/site-packages/sklearn/utils/validation.py?line=332'>333</a>\u001b[0m         \u001b[39m\"\u001b[39m\u001b[39mFound input variables with inconsistent numbers of samples: \u001b[39m\u001b[39m%r\u001b[39;00m\u001b[39m\"\u001b[39m\n\u001b[0;32m    <a href='file:///d%3A/OneDrive/7Temporary/Coding/Github/.venv_learning_python_April_2022_V2/lib/site-packages/sklearn/utils/validation.py?line=333'>334</a>\u001b[0m         \u001b[39m%\u001b[39m [\u001b[39mint\u001b[39m(l) \u001b[39mfor\u001b[39;00m l \u001b[39min\u001b[39;00m lengths]\n\u001b[0;32m    <a href='file:///d%3A/OneDrive/7Temporary/Coding/Github/.venv_learning_python_April_2022_V2/lib/site-packages/sklearn/utils/validation.py?line=334'>335</a>\u001b[0m     )\n",
      "\u001b[1;31mValueError\u001b[0m: Found input variables with inconsistent numbers of samples: [19091, 273438]"
     ]
    }
   ],
   "source": [
    "from sklearn import metrics \n",
    "#print(f\"Test's ROC AUC: {metrics.roc_auc_score(y_test, y_pred):.5f}\")\n",
    "print(f\"Test's f1: {metrics.f1_score(y2_test, pred, average='micro'):.5f}\")\n",
    "#print(f\"Test's AUPRC: {metrics.average_precision_score(y_test, y_pred):.5f}\")"
   ]
  },
  {
   "cell_type": "code",
   "execution_count": 132,
   "metadata": {},
   "outputs": [],
   "source": [
    "from sklearn import metrics\n",
    "def confusion_matrix(y_test, y_pred):\n",
    "    df_cm = pd.DataFrame(metrics.confusion_matrix(y_test, y_pred))\n",
    "    plt.figure(figsize=(12,12))\n",
    "\n",
    "    sns.heatmap(df_cm, annot=True, cmap=\"YlGnBu\", fmt='g')\n",
    "    plt.title('Confusion matrix', y=1.1)\n",
    "    plt.ylabel('Actual label')\n",
    "    plt.xlabel('Predicted label')\n",
    "    plt.show()"
   ]
  },
  {
   "cell_type": "code",
   "execution_count": 133,
   "metadata": {},
   "outputs": [
    {
     "data": {
      "image/png": "[encoded data removed]",
      "text/plain": [
       "<Figure size 864x864 with 2 Axes>"
      ]
     },
     "metadata": {
      "needs_background": "light"
     },
     "output_type": "display_data"
    }
   ],
   "source": [
    "\n",
    "\n",
    "confusion_matrix(y_test,pred)"
   ]
  },
  {
   "cell_type": "code",
   "execution_count": null,
   "metadata": {},
   "outputs": [
    {
     "data": {
      "image/png": "[encoded data removed]",
      "text/plain": [
       "<Figure size 1440x1440 with 1 Axes>"
      ]
     },
     "metadata": {
      "needs_background": "light"
     },
     "output_type": "display_data"
    }
   ],
   "source": [
    "import matplotlib.pyplot as plt\n",
    "import seaborn as sns\n",
    "import warnings\n",
    "warnings.simplefilter(action='ignore', category=FutureWarning)\n",
    "\n",
    "# sorted(zip(clf.feature_importances_, X.columns), reverse=True)\n",
    "feature_imp = pd.DataFrame(sorted(zip(model.feature_importances_,X.columns)), columns=['Value','Feature'])\n",
    "\n",
    "plt.figure(figsize=(20, 20))\n",
    "sns.barplot(x=\"Value\", y=\"Feature\", data=feature_imp.sort_values(by=\"Value\", ascending=False))\n",
    "plt.title('LightGBM Features (avg over folds)')\n",
    "plt.tight_layout()\n",
    "plt.show()"
   ]
  },
  {
   "cell_type": "code",
   "execution_count": null,
   "metadata": {},
   "outputs": [],
   "source": []
  },
  {
   "cell_type": "code",
   "execution_count": null,
   "metadata": {},
   "outputs": [],
   "source": []
  },
  {
   "cell_type": "code",
   "execution_count": null,
   "metadata": {},
   "outputs": [],
   "source": []
  },
  {
   "cell_type": "code",
   "execution_count": null,
   "metadata": {},
   "outputs": [],
   "source": []
  },
  {
   "cell_type": "code",
   "execution_count": null,
   "metadata": {},
   "outputs": [],
   "source": []
  },
  {
   "cell_type": "code",
   "execution_count": null,
   "metadata": {},
   "outputs": [],
   "source": []
  },
  {
   "cell_type": "code",
   "execution_count": null,
   "metadata": {},
   "outputs": [],
   "source": []
  },
  {
   "cell_type": "code",
   "execution_count": null,
   "metadata": {},
   "outputs": [],
   "source": []
  },
  {
   "cell_type": "code",
   "execution_count": null,
   "metadata": {},
   "outputs": [],
   "source": []
  },
  {
   "cell_type": "code",
   "execution_count": null,
   "metadata": {},
   "outputs": [],
   "source": []
  },
  {
   "cell_type": "code",
   "execution_count": null,
   "metadata": {},
   "outputs": [],
   "source": []
  },
  {
   "cell_type": "code",
   "execution_count": null,
   "metadata": {},
   "outputs": [],
   "source": []
  },
  {
   "cell_type": "code",
   "execution_count": null,
   "metadata": {},
   "outputs": [],
   "source": []
  },
  {
   "cell_type": "code",
   "execution_count": null,
   "metadata": {},
   "outputs": [],
   "source": []
  },
  {
   "cell_type": "code",
   "execution_count": null,
   "metadata": {},
   "outputs": [],
   "source": []
  }
 ],
 "metadata": {
  "interpreter": {
   "hash": "369f2c481f4da34e4445cda3fffd2e751bd1c4d706f27375911949ba6bb62e1c"
  },
  "kernelspec": {
   "display_name": "Python 3.10.3 64-bit",
   "language": "python",
   "name": "python3"
  },
  "language_info": {
   "codemirror_mode": {
    "name": "ipython",
    "version": 3
   },
   "file_extension": ".py",
   "mimetype": "text/x-python",
   "name": "python",
   "nbconvert_exporter": "python",
   "pygments_lexer": "ipython3",
   "version": "3.10.3"
  },
  "orig_nbformat": 4
 },
 "nbformat": 4,
 "nbformat_minor": 2
}
