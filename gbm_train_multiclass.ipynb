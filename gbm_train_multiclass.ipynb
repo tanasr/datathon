{
 "cells": [
  {
   "cell_type": "code",
   "execution_count": 58,
   "metadata": {},
   "outputs": [],
   "source": [
    "import pandas as pd\n",
    "import numpy as np\n",
    "import os\n",
    "import matplotlib.pyplot as plt                   # For charts and visualizations\n",
    "from IPython.display import Image                 # For displaying images in the notebook\n",
    "from IPython.display import display \n",
    "from sklearn.model_selection import train_test_split \n",
    "import lightgbm as lgb\n"
   ]
  },
  {
   "cell_type": "code",
   "execution_count": 2,
   "metadata": {},
   "outputs": [],
   "source": [
    "def dateparse(d):\n",
    "    return pd.to_datetime(d)"
   ]
  },
  {
   "cell_type": "code",
   "execution_count": 195,
   "metadata": {},
   "outputs": [],
   "source": [
    "df = pd.read_csv(os.path.join(os.getcwd(), 'data/', 'trainset.csv'),\n",
    "                        encoding= 'unicode_escape', low_memory=False, parse_dates=['measured_at'], date_parser=dateparse)\n",
    "df = df.drop(columns=['index','measured_at'])\n",
    "#df['error'] = (df['error_category'] != 'NO_ERROR').astype(int)\n"
   ]
  },
  {
   "cell_type": "code",
   "execution_count": 196,
   "metadata": {},
   "outputs": [],
   "source": [
    "df['error'] = (df['error_category'] != 'NO_ERROR').astype(int)"
   ]
  },
  {
   "cell_type": "code",
   "execution_count": 197,
   "metadata": {},
   "outputs": [],
   "source": [
    "#df['error'] = 0\n",
    "err = {'error_category': {'ERROR=12':0, 'ERROR=17':1, 'ERROR=3':2, 'ERROR=5': 3, 'ERROR=19': 4, 'ERROR=24':5, \n",
    "                          'ERROR=28':6, 'ERROR=8': 7, 'ERROR=20':8, 'ERROR=31':9, 'ERROR=30':10, 'ERROR=22':11,\n",
    "                          'ERROR=25':12, 'ERROR=7':13, 'ERROR=27':14, 'ERROR=29':15, 'ERROR=23':16, 'NO_ERROR':-1}}\n",
    "df = df.replace(err)\n",
    "\n",
    "\n"
   ]
  },
  {
   "cell_type": "code",
   "execution_count": 198,
   "metadata": {},
   "outputs": [
    {
     "data": {
      "text/plain": [
       "-1     1272609\n",
       " 0       47724\n",
       " 1       21651\n",
       " 2       10224\n",
       " 3        4893\n",
       " 4        3743\n",
       " 5        1771\n",
       " 6        1494\n",
       " 7        1081\n",
       " 8         787\n",
       " 9         495\n",
       " 10        409\n",
       " 11        141\n",
       " 12        108\n",
       " 13         32\n",
       " 14         22\n",
       " 15          4\n",
       " 16          2\n",
       "Name: error_category, dtype: int64"
      ]
     },
     "execution_count": 198,
     "metadata": {},
     "output_type": "execute_result"
    }
   ],
   "source": [
    "df.error_category.value_counts()"
   ]
  },
  {
   "cell_type": "code",
   "execution_count": 199,
   "metadata": {},
   "outputs": [],
   "source": [
    "params1 = {\n",
    "    'n_estimators': 1000,\n",
    "    'colsample_bytree':0.8,\n",
    "    #\"early_stopping_rounds\":[10], \n",
    "    'objective': 'binary',\n",
    "    'max_depth': 10,\n",
    "    'num_leaves': 100,\n",
    "    'metric' : 'logloss',\n",
    "    #'reg_alpha': [1.1, 1.2, 1.3],\n",
    "    #'reg_lambda': [1.1, 1.2, 1.3],\n",
    "    'learning_rate':0.1,\n",
    "    #'is_unbalance': ['True']\n",
    "    'scale_pos_weight':10,\n",
    "    #'min_split_gain': [0.3, 0.4],\n",
    "    'subsample': 0.9,\n",
    "    #'subsample_freq': [20]\n",
    "}"
   ]
  },
  {
   "cell_type": "code",
   "execution_count": 200,
   "metadata": {},
   "outputs": [],
   "source": [
    "y1 = df.error\n",
    "y2 = df.error_category\n",
    "X = df.drop(columns=['error','error_category'])"
   ]
  },
  {
   "cell_type": "code",
   "execution_count": 207,
   "metadata": {},
   "outputs": [
    {
     "data": {
      "text/html": [
       "<div>\n",
       "<style scoped>\n",
       "    .dataframe tbody tr th:only-of-type {\n",
       "        vertical-align: middle;\n",
       "    }\n",
       "\n",
       "    .dataframe tbody tr th {\n",
       "        vertical-align: top;\n",
       "    }\n",
       "\n",
       "    .dataframe thead th {\n",
       "        text-align: right;\n",
       "    }\n",
       "</style>\n",
       "<table border=\"1\" class=\"dataframe\">\n",
       "  <thead>\n",
       "    <tr style=\"text-align: right;\">\n",
       "      <th></th>\n",
       "      <th>turbine_id</th>\n",
       "      <th>wind_speed</th>\n",
       "      <th>power</th>\n",
       "      <th>nacelle_direction</th>\n",
       "      <th>wind_direction</th>\n",
       "      <th>rotor_speed</th>\n",
       "      <th>generator_speed</th>\n",
       "      <th>temp_environment</th>\n",
       "      <th>temp_hydraulic_oil</th>\n",
       "      <th>temp_gear_bearing</th>\n",
       "      <th>cosphi</th>\n",
       "      <th>blade_angle_avg</th>\n",
       "      <th>hydraulic_pressure</th>\n",
       "      <th>park_id</th>\n",
       "      <th>error_category</th>\n",
       "      <th>error</th>\n",
       "    </tr>\n",
       "  </thead>\n",
       "  <tbody>\n",
       "    <tr>\n",
       "      <th>428</th>\n",
       "      <td>11</td>\n",
       "      <td>1.091667</td>\n",
       "      <td>0.987200</td>\n",
       "      <td>305.8</td>\n",
       "      <td>307.7</td>\n",
       "      <td>0.993289</td>\n",
       "      <td>0.833333</td>\n",
       "      <td>8.0</td>\n",
       "      <td>39.0</td>\n",
       "      <td>56.0</td>\n",
       "      <td>0.99</td>\n",
       "      <td>6.5</td>\n",
       "      <td>195.8</td>\n",
       "      <td>1</td>\n",
       "      <td>3</td>\n",
       "      <td>1</td>\n",
       "    </tr>\n",
       "    <tr>\n",
       "      <th>429</th>\n",
       "      <td>11</td>\n",
       "      <td>1.016667</td>\n",
       "      <td>0.931600</td>\n",
       "      <td>308.6</td>\n",
       "      <td>311.0</td>\n",
       "      <td>0.993289</td>\n",
       "      <td>0.832837</td>\n",
       "      <td>7.0</td>\n",
       "      <td>40.0</td>\n",
       "      <td>56.0</td>\n",
       "      <td>0.99</td>\n",
       "      <td>4.5</td>\n",
       "      <td>196.1</td>\n",
       "      <td>1</td>\n",
       "      <td>3</td>\n",
       "      <td>1</td>\n",
       "    </tr>\n",
       "    <tr>\n",
       "      <th>430</th>\n",
       "      <td>11</td>\n",
       "      <td>1.041667</td>\n",
       "      <td>0.981450</td>\n",
       "      <td>313.5</td>\n",
       "      <td>316.0</td>\n",
       "      <td>0.993289</td>\n",
       "      <td>0.833829</td>\n",
       "      <td>7.0</td>\n",
       "      <td>41.0</td>\n",
       "      <td>57.0</td>\n",
       "      <td>0.99</td>\n",
       "      <td>4.6</td>\n",
       "      <td>196.0</td>\n",
       "      <td>1</td>\n",
       "      <td>3</td>\n",
       "      <td>1</td>\n",
       "    </tr>\n",
       "    <tr>\n",
       "      <th>497</th>\n",
       "      <td>11</td>\n",
       "      <td>1.041667</td>\n",
       "      <td>0.996450</td>\n",
       "      <td>247.6</td>\n",
       "      <td>243.7</td>\n",
       "      <td>NaN</td>\n",
       "      <td>0.833333</td>\n",
       "      <td>6.0</td>\n",
       "      <td>33.0</td>\n",
       "      <td>51.0</td>\n",
       "      <td>0.99</td>\n",
       "      <td>6.1</td>\n",
       "      <td>196.0</td>\n",
       "      <td>1</td>\n",
       "      <td>3</td>\n",
       "      <td>1</td>\n",
       "    </tr>\n",
       "    <tr>\n",
       "      <th>498</th>\n",
       "      <td>11</td>\n",
       "      <td>1.100000</td>\n",
       "      <td>0.997700</td>\n",
       "      <td>244.0</td>\n",
       "      <td>242.8</td>\n",
       "      <td>NaN</td>\n",
       "      <td>0.833829</td>\n",
       "      <td>6.0</td>\n",
       "      <td>34.0</td>\n",
       "      <td>51.0</td>\n",
       "      <td>0.99</td>\n",
       "      <td>7.0</td>\n",
       "      <td>196.1</td>\n",
       "      <td>1</td>\n",
       "      <td>3</td>\n",
       "      <td>1</td>\n",
       "    </tr>\n",
       "    <tr>\n",
       "      <th>...</th>\n",
       "      <td>...</td>\n",
       "      <td>...</td>\n",
       "      <td>...</td>\n",
       "      <td>...</td>\n",
       "      <td>...</td>\n",
       "      <td>...</td>\n",
       "      <td>...</td>\n",
       "      <td>...</td>\n",
       "      <td>...</td>\n",
       "      <td>...</td>\n",
       "      <td>...</td>\n",
       "      <td>...</td>\n",
       "      <td>...</td>\n",
       "      <td>...</td>\n",
       "      <td>...</td>\n",
       "      <td>...</td>\n",
       "    </tr>\n",
       "    <tr>\n",
       "      <th>1365699</th>\n",
       "      <td>29</td>\n",
       "      <td>0.307692</td>\n",
       "      <td>-0.004000</td>\n",
       "      <td>75.7</td>\n",
       "      <td>72.5</td>\n",
       "      <td>0.050000</td>\n",
       "      <td>0.033800</td>\n",
       "      <td>21.0</td>\n",
       "      <td>44.0</td>\n",
       "      <td>53.0</td>\n",
       "      <td>-0.50</td>\n",
       "      <td>71.0</td>\n",
       "      <td>246.9</td>\n",
       "      <td>2</td>\n",
       "      <td>2</td>\n",
       "      <td>1</td>\n",
       "    </tr>\n",
       "    <tr>\n",
       "      <th>1365796</th>\n",
       "      <td>29</td>\n",
       "      <td>0.253846</td>\n",
       "      <td>-0.006121</td>\n",
       "      <td>60.3</td>\n",
       "      <td>57.4</td>\n",
       "      <td>0.425000</td>\n",
       "      <td>0.370800</td>\n",
       "      <td>11.0</td>\n",
       "      <td>42.0</td>\n",
       "      <td>47.0</td>\n",
       "      <td>-0.80</td>\n",
       "      <td>12.3</td>\n",
       "      <td>247.2</td>\n",
       "      <td>2</td>\n",
       "      <td>4</td>\n",
       "      <td>1</td>\n",
       "    </tr>\n",
       "    <tr>\n",
       "      <th>1365797</th>\n",
       "      <td>29</td>\n",
       "      <td>0.261538</td>\n",
       "      <td>-0.007636</td>\n",
       "      <td>60.3</td>\n",
       "      <td>57.2</td>\n",
       "      <td>NaN</td>\n",
       "      <td>0.344200</td>\n",
       "      <td>12.0</td>\n",
       "      <td>42.0</td>\n",
       "      <td>47.0</td>\n",
       "      <td>-0.90</td>\n",
       "      <td>12.6</td>\n",
       "      <td>248.3</td>\n",
       "      <td>2</td>\n",
       "      <td>4</td>\n",
       "      <td>1</td>\n",
       "    </tr>\n",
       "    <tr>\n",
       "      <th>1366659</th>\n",
       "      <td>29</td>\n",
       "      <td>0.376923</td>\n",
       "      <td>0.072576</td>\n",
       "      <td>14.5</td>\n",
       "      <td>12.8</td>\n",
       "      <td>0.550000</td>\n",
       "      <td>0.488400</td>\n",
       "      <td>11.0</td>\n",
       "      <td>43.0</td>\n",
       "      <td>62.0</td>\n",
       "      <td>0.70</td>\n",
       "      <td>9.1</td>\n",
       "      <td>246.9</td>\n",
       "      <td>2</td>\n",
       "      <td>5</td>\n",
       "      <td>1</td>\n",
       "    </tr>\n",
       "    <tr>\n",
       "      <th>1366660</th>\n",
       "      <td>29</td>\n",
       "      <td>0.353846</td>\n",
       "      <td>0.025121</td>\n",
       "      <td>351.9</td>\n",
       "      <td>13.4</td>\n",
       "      <td>0.275000</td>\n",
       "      <td>0.247467</td>\n",
       "      <td>11.0</td>\n",
       "      <td>42.0</td>\n",
       "      <td>59.0</td>\n",
       "      <td>-0.10</td>\n",
       "      <td>40.7</td>\n",
       "      <td>246.8</td>\n",
       "      <td>2</td>\n",
       "      <td>5</td>\n",
       "      <td>1</td>\n",
       "    </tr>\n",
       "  </tbody>\n",
       "</table>\n",
       "<p>94581 rows × 16 columns</p>\n",
       "</div>"
      ],
      "text/plain": [
       "         turbine_id  wind_speed     power  nacelle_direction  wind_direction  \\\n",
       "428              11    1.091667  0.987200              305.8           307.7   \n",
       "429              11    1.016667  0.931600              308.6           311.0   \n",
       "430              11    1.041667  0.981450              313.5           316.0   \n",
       "497              11    1.041667  0.996450              247.6           243.7   \n",
       "498              11    1.100000  0.997700              244.0           242.8   \n",
       "...             ...         ...       ...                ...             ...   \n",
       "1365699          29    0.307692 -0.004000               75.7            72.5   \n",
       "1365796          29    0.253846 -0.006121               60.3            57.4   \n",
       "1365797          29    0.261538 -0.007636               60.3            57.2   \n",
       "1366659          29    0.376923  0.072576               14.5            12.8   \n",
       "1366660          29    0.353846  0.025121              351.9            13.4   \n",
       "\n",
       "         rotor_speed  generator_speed  temp_environment  temp_hydraulic_oil  \\\n",
       "428         0.993289         0.833333               8.0                39.0   \n",
       "429         0.993289         0.832837               7.0                40.0   \n",
       "430         0.993289         0.833829               7.0                41.0   \n",
       "497              NaN         0.833333               6.0                33.0   \n",
       "498              NaN         0.833829               6.0                34.0   \n",
       "...              ...              ...               ...                 ...   \n",
       "1365699     0.050000         0.033800              21.0                44.0   \n",
       "1365796     0.425000         0.370800              11.0                42.0   \n",
       "1365797          NaN         0.344200              12.0                42.0   \n",
       "1366659     0.550000         0.488400              11.0                43.0   \n",
       "1366660     0.275000         0.247467              11.0                42.0   \n",
       "\n",
       "         temp_gear_bearing  cosphi  blade_angle_avg  hydraulic_pressure  \\\n",
       "428                   56.0    0.99              6.5               195.8   \n",
       "429                   56.0    0.99              4.5               196.1   \n",
       "430                   57.0    0.99              4.6               196.0   \n",
       "497                   51.0    0.99              6.1               196.0   \n",
       "498                   51.0    0.99              7.0               196.1   \n",
       "...                    ...     ...              ...                 ...   \n",
       "1365699               53.0   -0.50             71.0               246.9   \n",
       "1365796               47.0   -0.80             12.3               247.2   \n",
       "1365797               47.0   -0.90             12.6               248.3   \n",
       "1366659               62.0    0.70              9.1               246.9   \n",
       "1366660               59.0   -0.10             40.7               246.8   \n",
       "\n",
       "         park_id  error_category  error  \n",
       "428            1               3      1  \n",
       "429            1               3      1  \n",
       "430            1               3      1  \n",
       "497            1               3      1  \n",
       "498            1               3      1  \n",
       "...          ...             ...    ...  \n",
       "1365699        2               2      1  \n",
       "1365796        2               4      1  \n",
       "1365797        2               4      1  \n",
       "1366659        2               5      1  \n",
       "1366660        2               5      1  \n",
       "\n",
       "[94581 rows x 16 columns]"
      ]
     },
     "execution_count": 207,
     "metadata": {},
     "output_type": "execute_result"
    }
   ],
   "source": [
    "df.query('error==1')"
   ]
  },
  {
   "cell_type": "code",
   "execution_count": 201,
   "metadata": {},
   "outputs": [],
   "source": [
    "from lightgbm import LGBMClassifier\n",
    "\n",
    "model = LGBMClassifier()\n",
    "model.set_params(**params1)\n",
    "\n",
    "X_train, X_test, y_train, y_test = train_test_split(X,\n",
    "                                                    y1,\n",
    "                                                    stratify=y1,\n",
    "                                                    test_size=0.2,\n",
    "                                                    random_state=11) "
   ]
  },
  {
   "cell_type": "code",
   "execution_count": 202,
   "metadata": {},
   "outputs": [
    {
     "data": {
      "text/plain": [
       "LGBMClassifier(colsample_bytree=0.8, max_depth=10, metric='logloss',\n",
       "               n_estimators=1000, num_leaves=100, objective='binary',\n",
       "               scale_pos_weight=10, subsample=0.9)"
      ]
     },
     "execution_count": 202,
     "metadata": {},
     "output_type": "execute_result"
    }
   ],
   "source": [
    "model.fit(X_train,y_train)"
   ]
  },
  {
   "cell_type": "code",
   "execution_count": 208,
   "metadata": {},
   "outputs": [],
   "source": [
    "y_pred = model.predict_proba(X_test)"
   ]
  },
  {
   "cell_type": "code",
   "execution_count": 211,
   "metadata": {},
   "outputs": [],
   "source": [
    "ind = np.argmax(y_pred, axis=1)"
   ]
  },
  {
   "cell_type": "code",
   "execution_count": 212,
   "metadata": {},
   "outputs": [],
   "source": [
    "X_test = X_test[ind==1]\n"
   ]
  },
  {
   "cell_type": "code",
   "execution_count": 229,
   "metadata": {},
   "outputs": [],
   "source": [
    "y2_test = y_test[ind==1]"
   ]
  },
  {
   "cell_type": "code",
   "execution_count": 120,
   "metadata": {},
   "outputs": [],
   "source": [
    "#df_err = df[df.error_category > 0]\n",
    "#y = df_err.error_category\n",
    "#X = df_err.drop(columns=['error_category'])"
   ]
  },
  {
   "cell_type": "code",
   "execution_count": 215,
   "metadata": {},
   "outputs": [],
   "source": [
    "params2 = {\n",
    "            'boosting_type': 'gbdt',\n",
    "            'objective': 'multiclass',\n",
    "            'num_class':17,\n",
    "            'subsample': 0.5,\n",
    "            'subsample_freq': 1,\n",
    "            'learning_rate': 0.03,\n",
    "            #'num_leaves': 2**11-1,\n",
    "            #'min_data_in_leaf': 2**12-1,\n",
    "            'feature_fraction': 0.5,\n",
    "            #'max_bin': 100,\n",
    "            'n_estimators': 5000,\n",
    "            'boost_from_average': False,\n",
    "            \"random_seed\":42}"
   ]
  },
  {
   "cell_type": "code",
   "execution_count": 216,
   "metadata": {},
   "outputs": [],
   "source": [
    "X_train2, X_val, y_train2, y_val = train_test_split(X_train,\n",
    "                                            y_train,\n",
    "                                            stratify=y_train,\n",
    "                                            test_size=0.2,\n",
    "                                            random_state=11)\n",
    "\n",
    "#X_val, X_test, y_val, y_test = train_test_split(X_,\n",
    "#                                                    y_,\n",
    "#                                                    #stratify=y_,\n",
    "#                                                    test_size=0.7,\n",
    "#                                                    random_state=11)  \n"
   ]
  },
  {
   "cell_type": "code",
   "execution_count": 219,
   "metadata": {},
   "outputs": [
    {
     "data": {
      "text/plain": [
       "Index(['turbine_id', 'wind_speed', 'power', 'nacelle_direction',\n",
       "       'wind_direction', 'rotor_speed', 'generator_speed', 'temp_environment',\n",
       "       'temp_hydraulic_oil', 'temp_gear_bearing', 'cosphi', 'blade_angle_avg',\n",
       "       'hydraulic_pressure', 'park_id'],\n",
       "      dtype='object')"
      ]
     },
     "execution_count": 219,
     "metadata": {},
     "output_type": "execute_result"
    }
   ],
   "source": [
    "X_train2.columns"
   ]
  },
  {
   "cell_type": "code",
   "execution_count": 183,
   "metadata": {},
   "outputs": [
    {
     "data": {
      "text/plain": [
       "LGBMClassifier(n_estimators=5)"
      ]
     },
     "execution_count": 183,
     "metadata": {},
     "output_type": "execute_result"
    }
   ],
   "source": [
    "#mymodel = lgb.LGBMClassifier(n_estimators=5)\n",
    "#mymodel.fit(X_train, y_train)"
   ]
  },
  {
   "cell_type": "code",
   "execution_count": 220,
   "metadata": {},
   "outputs": [],
   "source": [
    "train_data = lgb.Dataset(data=X_train2[X.columns],\n",
    "                         label=y_train2,\n",
    "                         free_raw_data=False)\n",
    "\n",
    "valid_data = lgb.Dataset(data=X_val[X.columns],\n",
    "                         label=y_val,\n",
    "                         free_raw_data=False)"
   ]
  },
  {
   "cell_type": "code",
   "execution_count": 221,
   "metadata": {},
   "outputs": [
    {
     "name": "stderr",
     "output_type": "stream",
     "text": [
      "C:\\Users\\PMoes\\AppData\\Roaming\\Python\\Python310\\site-packages\\lightgbm\\engine.py:177: UserWarning: Found `n_estimators` in params. Will use it instead of argument\n",
      "  _log_warning(f\"Found `{alias}` in params. Will use it instead of argument\")\n",
      "C:\\Users\\PMoes\\AppData\\Roaming\\Python\\Python310\\site-packages\\lightgbm\\engine.py:181: UserWarning: 'early_stopping_rounds' argument is deprecated and will be removed in a future release of LightGBM. Pass 'early_stopping()' callback via 'callbacks' argument instead.\n",
      "  _log_warning(\"'early_stopping_rounds' argument is deprecated and will be removed in a future release of LightGBM. \"\n",
      "C:\\Users\\PMoes\\AppData\\Roaming\\Python\\Python310\\site-packages\\lightgbm\\engine.py:239: UserWarning: 'verbose_eval' argument is deprecated and will be removed in a future release of LightGBM. Pass 'log_evaluation()' callback via 'callbacks' argument instead.\n",
      "  _log_warning(\"'verbose_eval' argument is deprecated and will be removed in a future release of LightGBM. \"\n"
     ]
    },
    {
     "name": "stdout",
     "output_type": "stream",
     "text": [
      "[LightGBM] [Warning] Auto-choosing row-wise multi-threading, the overhead of testing was 0.004262 seconds.\n",
      "You can set `force_row_wise=true` to remove the overhead.\n",
      "And if memory is not enough, you can set `force_col_wise=true`.\n",
      "[LightGBM] [Info] Total Bins 2164\n",
      "[LightGBM] [Info] Number of data points in the train set: 875001, number of used features: 14\n",
      "Training until validation scores don't improve for 50 rounds\n",
      "[25]\tvalid_0's multi_logloss: 0.124085\n",
      "[50]\tvalid_0's multi_logloss: 0.0465858\n",
      "[75]\tvalid_0's multi_logloss: 0.0273579\n",
      "[100]\tvalid_0's multi_logloss: 0.0215396\n",
      "[125]\tvalid_0's multi_logloss: 0.0192385\n",
      "[150]\tvalid_0's multi_logloss: 0.0181926\n",
      "[175]\tvalid_0's multi_logloss: 0.0176081\n",
      "[200]\tvalid_0's multi_logloss: 0.0172305\n",
      "[225]\tvalid_0's multi_logloss: 0.0169289\n",
      "[250]\tvalid_0's multi_logloss: 0.0166899\n",
      "[275]\tvalid_0's multi_logloss: 0.0164573\n",
      "[300]\tvalid_0's multi_logloss: 0.0162833\n",
      "[325]\tvalid_0's multi_logloss: 0.0161355\n",
      "[350]\tvalid_0's multi_logloss: 0.0160167\n",
      "[375]\tvalid_0's multi_logloss: 0.0158983\n",
      "[400]\tvalid_0's multi_logloss: 0.0157784\n",
      "[425]\tvalid_0's multi_logloss: 0.0156747\n",
      "[450]\tvalid_0's multi_logloss: 0.0155887\n",
      "[475]\tvalid_0's multi_logloss: 0.0155008\n",
      "[500]\tvalid_0's multi_logloss: 0.0154335\n",
      "[525]\tvalid_0's multi_logloss: 0.0153666\n",
      "[550]\tvalid_0's multi_logloss: 0.0152955\n",
      "[575]\tvalid_0's multi_logloss: 0.015239\n",
      "[600]\tvalid_0's multi_logloss: 0.0151925\n",
      "[625]\tvalid_0's multi_logloss: 0.0151414\n",
      "[650]\tvalid_0's multi_logloss: 0.0150842\n",
      "[675]\tvalid_0's multi_logloss: 0.0150448\n",
      "[700]\tvalid_0's multi_logloss: 0.0149948\n",
      "[725]\tvalid_0's multi_logloss: 0.0149563\n",
      "[750]\tvalid_0's multi_logloss: 0.0149234\n",
      "[775]\tvalid_0's multi_logloss: 0.0148835\n",
      "[800]\tvalid_0's multi_logloss: 0.0148689\n",
      "[825]\tvalid_0's multi_logloss: 0.0148463\n",
      "[850]\tvalid_0's multi_logloss: 0.0148301\n",
      "[875]\tvalid_0's multi_logloss: 0.0147973\n",
      "[900]\tvalid_0's multi_logloss: 0.0147661\n",
      "[925]\tvalid_0's multi_logloss: 0.0147541\n",
      "[950]\tvalid_0's multi_logloss: 0.0147318\n",
      "[975]\tvalid_0's multi_logloss: 0.014716\n",
      "[1000]\tvalid_0's multi_logloss: 0.014699\n",
      "[1025]\tvalid_0's multi_logloss: 0.0146788\n",
      "[1050]\tvalid_0's multi_logloss: 0.0146452\n",
      "[1075]\tvalid_0's multi_logloss: 0.0146253\n",
      "[1100]\tvalid_0's multi_logloss: 0.0146138\n",
      "[1125]\tvalid_0's multi_logloss: 0.0146109\n",
      "[1150]\tvalid_0's multi_logloss: 0.0146106\n",
      "[1175]\tvalid_0's multi_logloss: 0.0145914\n",
      "[1200]\tvalid_0's multi_logloss: 0.0145757\n",
      "[1225]\tvalid_0's multi_logloss: 0.014552\n",
      "[1250]\tvalid_0's multi_logloss: 0.0145448\n",
      "[1275]\tvalid_0's multi_logloss: 0.0145393\n",
      "[1300]\tvalid_0's multi_logloss: 0.0145414\n",
      "Early stopping, best iteration is:\n",
      "[1274]\tvalid_0's multi_logloss: 0.0145376\n"
     ]
    }
   ],
   "source": [
    "model_gbm = lgb.train(params2, train_data, valid_sets=[valid_data],\n",
    "                  num_boost_round=2000, early_stopping_rounds=50,\n",
    "                  verbose_eval=25)"
   ]
  },
  {
   "cell_type": "code",
   "execution_count": 222,
   "metadata": {},
   "outputs": [],
   "source": [
    "y_pred = model_gbm.predict(X_test, raw_score=True)"
   ]
  },
  {
   "cell_type": "code",
   "execution_count": 224,
   "metadata": {},
   "outputs": [],
   "source": [
    "pred = np.argmax(y_pred, axis=1)"
   ]
  },
  {
   "cell_type": "code",
   "execution_count": 231,
   "metadata": {},
   "outputs": [
    {
     "data": {
      "text/plain": [
       "1044407    1\n",
       "604363     1\n",
       "703854     1\n",
       "547483     1\n",
       "335383     1\n",
       "1281906    1\n",
       "187472     1\n",
       "586513     1\n",
       "1258858    1\n",
       "1212125    1\n",
       "Name: error, dtype: int32"
      ]
     },
     "execution_count": 231,
     "metadata": {},
     "output_type": "execute_result"
    }
   ],
   "source": [
    "y2_test[:10]"
   ]
  },
  {
   "cell_type": "code",
   "execution_count": 232,
   "metadata": {},
   "outputs": [
    {
     "data": {
      "text/plain": [
       "array([1, 1, 1, 1, 1, 1, 1, 1, 1, 1], dtype=int64)"
      ]
     },
     "execution_count": 232,
     "metadata": {},
     "output_type": "execute_result"
    }
   ],
   "source": [
    "pred[:10]"
   ]
  },
  {
   "cell_type": "code",
   "execution_count": 158,
   "metadata": {},
   "outputs": [
    {
     "data": {
      "text/plain": [
       "1     4651\n",
       "2     2176\n",
       "3      996\n",
       "4      775\n",
       "5      327\n",
       "6      311\n",
       "7      212\n",
       "8      162\n",
       "9      101\n",
       "10      79\n",
       "12      24\n",
       "11      21\n",
       "13       6\n",
       "dtype: int64"
      ]
     },
     "execution_count": 158,
     "metadata": {},
     "output_type": "execute_result"
    }
   ],
   "source": [
    "pd.Series(pred).value_counts()"
   ]
  },
  {
   "cell_type": "code",
   "execution_count": 184,
   "metadata": {},
   "outputs": [],
   "source": [
    "y_pred2 = mymodel.predict(X_test)"
   ]
  },
  {
   "cell_type": "code",
   "execution_count": 170,
   "metadata": {},
   "outputs": [],
   "source": [
    "pred = np.argmax(y_pred2, axis=1)"
   ]
  },
  {
   "cell_type": "code",
   "execution_count": 189,
   "metadata": {},
   "outputs": [
    {
     "data": {
      "text/plain": [
       "array([2, 1, 1, ..., 1, 1, 1], dtype=int64)"
      ]
     },
     "execution_count": 189,
     "metadata": {},
     "output_type": "execute_result"
    }
   ],
   "source": [
    "y_pred2"
   ]
  },
  {
   "cell_type": "code",
   "execution_count": 230,
   "metadata": {},
   "outputs": [
    {
     "name": "stdout",
     "output_type": "stream",
     "text": [
      "Test's f1: 0.96789\n"
     ]
    }
   ],
   "source": [
    "from sklearn import metrics \n",
    "#print(f\"Test's ROC AUC: {metrics.roc_auc_score(y_test, y_pred):.5f}\")\n",
    "print(f\"Test's f1: {metrics.f1_score(y2_test, pred, average='micro'):.5f}\")\n",
    "#print(f\"Test's AUPRC: {metrics.average_precision_score(y_test, y_pred):.5f}\")"
   ]
  },
  {
   "cell_type": "code",
   "execution_count": 32,
   "metadata": {},
   "outputs": [],
   "source": [
    "from sklearn import metrics\n",
    "def confusion_matrix(y_test, y_pred):\n",
    "    df_cm = pd.DataFrame(metrics.confusion_matrix(y_test, y_pred), index = [0,1], columns=[0,1])\n",
    "    sns.heatmap(df_cm, annot=True, cmap=\"YlGnBu\", fmt='g')\n",
    "    plt.title('Confusion matrix', y=1.1)\n",
    "    plt.ylabel('Actual label')\n",
    "    plt.xlabel('Predicted label')\n",
    "    plt.show()"
   ]
  },
  {
   "cell_type": "code",
   "execution_count": 33,
   "metadata": {},
   "outputs": [
    {
     "data": {
      "image/png": "[encoded data removed]",
      "text/plain": [
       "<Figure size 432x288 with 2 Axes>"
      ]
     },
     "metadata": {
      "needs_background": "light"
     },
     "output_type": "display_data"
    }
   ],
   "source": [
    "confusion_matrix(y_test,y_pred2)"
   ]
  },
  {
   "cell_type": "code",
   "execution_count": 28,
   "metadata": {},
   "outputs": [
    {
     "data": {
      "image/png": "[encoded data removed]",
      "text/plain": [
       "<Figure size 1440x1440 with 1 Axes>"
      ]
     },
     "metadata": {
      "needs_background": "light"
     },
     "output_type": "display_data"
    }
   ],
   "source": [
    "import matplotlib.pyplot as plt\n",
    "import seaborn as sns\n",
    "import warnings\n",
    "warnings.simplefilter(action='ignore', category=FutureWarning)\n",
    "\n",
    "# sorted(zip(clf.feature_importances_, X.columns), reverse=True)\n",
    "feature_imp = pd.DataFrame(sorted(zip(model.feature_importances_,X.columns)), columns=['Value','Feature'])\n",
    "\n",
    "plt.figure(figsize=(20, 20))\n",
    "sns.barplot(x=\"Value\", y=\"Feature\", data=feature_imp.sort_values(by=\"Value\", ascending=False))\n",
    "plt.title('LightGBM Features (avg over folds)')\n",
    "plt.tight_layout()\n",
    "plt.show()"
   ]
  }
 ],
 "metadata": {
  "interpreter": {
   "hash": "369f2c481f4da34e4445cda3fffd2e751bd1c4d706f27375911949ba6bb62e1c"
  },
  "kernelspec": {
   "display_name": "Python 3.10.3 64-bit",
   "language": "python",
   "name": "python3"
  },
  "language_info": {
   "codemirror_mode": {
    "name": "ipython",
    "version": 3
   },
   "file_extension": ".py",
   "mimetype": "text/x-python",
   "name": "python",
   "nbconvert_exporter": "python",
   "pygments_lexer": "ipython3",
   "version": "3.10.3"
  },
  "orig_nbformat": 4
 },
 "nbformat": 4,
 "nbformat_minor": 2
}
