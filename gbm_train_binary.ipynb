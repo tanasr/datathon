{
 "cells": [
  {
   "cell_type": "code",
   "execution_count": 14,
   "metadata": {},
   "outputs": [],
   "source": [
    "import pandas as pd\n",
    "import numpy as np\n",
    "import os\n",
    "import matplotlib.pyplot as plt                   # For charts and visualizations\n",
    "from IPython.display import Image                 # For displaying images in the notebook\n",
    "from IPython.display import display \n",
    "from sklearn.model_selection import train_test_split \n"
   ]
  },
  {
   "cell_type": "code",
   "execution_count": 2,
   "metadata": {},
   "outputs": [],
   "source": [
    "def dateparse(d):\n",
    "    return pd.to_datetime(d)"
   ]
  },
  {
   "cell_type": "code",
   "execution_count": 4,
   "metadata": {},
   "outputs": [],
   "source": [
    "df = pd.read_csv(os.path.join(os.getcwd(), 'data/', 'trainset.csv'),\n",
    "                        encoding= 'unicode_escape', low_memory=False, parse_dates=['measured_at'], date_parser=dateparse)\n"
   ]
  },
  {
   "cell_type": "code",
   "execution_count": 5,
   "metadata": {},
   "outputs": [
    {
     "data": {
      "text/html": [
       "<div>\n",
       "<style scoped>\n",
       "    .dataframe tbody tr th:only-of-type {\n",
       "        vertical-align: middle;\n",
       "    }\n",
       "\n",
       "    .dataframe tbody tr th {\n",
       "        vertical-align: top;\n",
       "    }\n",
       "\n",
       "    .dataframe thead th {\n",
       "        text-align: right;\n",
       "    }\n",
       "</style>\n",
       "<table border=\"1\" class=\"dataframe\">\n",
       "  <thead>\n",
       "    <tr style=\"text-align: right;\">\n",
       "      <th></th>\n",
       "      <th>index</th>\n",
       "      <th>turbine_id</th>\n",
       "      <th>measured_at</th>\n",
       "      <th>wind_speed</th>\n",
       "      <th>power</th>\n",
       "      <th>nacelle_direction</th>\n",
       "      <th>wind_direction</th>\n",
       "      <th>rotor_speed</th>\n",
       "      <th>generator_speed</th>\n",
       "      <th>temp_environment</th>\n",
       "      <th>temp_hydraulic_oil</th>\n",
       "      <th>temp_gear_bearing</th>\n",
       "      <th>cosphi</th>\n",
       "      <th>blade_angle_avg</th>\n",
       "      <th>hydraulic_pressure</th>\n",
       "      <th>park_id</th>\n",
       "      <th>error_category</th>\n",
       "    </tr>\n",
       "  </thead>\n",
       "  <tbody>\n",
       "    <tr>\n",
       "      <th>0</th>\n",
       "      <td>0</td>\n",
       "      <td>11</td>\n",
       "      <td>2020-01-01 00:00:00+00:00</td>\n",
       "      <td>0.433333</td>\n",
       "      <td>0.12125</td>\n",
       "      <td>266.0</td>\n",
       "      <td>266.3</td>\n",
       "      <td>0.677852</td>\n",
       "      <td>0.569444</td>\n",
       "      <td>5.0</td>\n",
       "      <td>20.0</td>\n",
       "      <td>32.0</td>\n",
       "      <td>0.85</td>\n",
       "      <td>-1.9</td>\n",
       "      <td>189.2</td>\n",
       "      <td>1</td>\n",
       "      <td>NO_ERROR</td>\n",
       "    </tr>\n",
       "    <tr>\n",
       "      <th>1</th>\n",
       "      <td>1</td>\n",
       "      <td>11</td>\n",
       "      <td>2020-01-01 00:10:00+00:00</td>\n",
       "      <td>0.458333</td>\n",
       "      <td>0.13875</td>\n",
       "      <td>266.6</td>\n",
       "      <td>267.0</td>\n",
       "      <td>0.704698</td>\n",
       "      <td>0.591766</td>\n",
       "      <td>5.0</td>\n",
       "      <td>20.0</td>\n",
       "      <td>33.0</td>\n",
       "      <td>0.88</td>\n",
       "      <td>NaN</td>\n",
       "      <td>189.5</td>\n",
       "      <td>1</td>\n",
       "      <td>NO_ERROR</td>\n",
       "    </tr>\n",
       "    <tr>\n",
       "      <th>2</th>\n",
       "      <td>2</td>\n",
       "      <td>11</td>\n",
       "      <td>2020-01-01 00:20:00+00:00</td>\n",
       "      <td>0.508333</td>\n",
       "      <td>0.18295</td>\n",
       "      <td>270.7</td>\n",
       "      <td>269.4</td>\n",
       "      <td>0.771812</td>\n",
       "      <td>0.647321</td>\n",
       "      <td>5.0</td>\n",
       "      <td>20.0</td>\n",
       "      <td>34.0</td>\n",
       "      <td>0.92</td>\n",
       "      <td>-2.0</td>\n",
       "      <td>190.1</td>\n",
       "      <td>1</td>\n",
       "      <td>NO_ERROR</td>\n",
       "    </tr>\n",
       "    <tr>\n",
       "      <th>3</th>\n",
       "      <td>3</td>\n",
       "      <td>11</td>\n",
       "      <td>2020-01-01 00:30:00+00:00</td>\n",
       "      <td>0.525000</td>\n",
       "      <td>0.21810</td>\n",
       "      <td>272.1</td>\n",
       "      <td>272.7</td>\n",
       "      <td>0.805369</td>\n",
       "      <td>0.676091</td>\n",
       "      <td>5.0</td>\n",
       "      <td>20.0</td>\n",
       "      <td>38.0</td>\n",
       "      <td>0.94</td>\n",
       "      <td>-2.0</td>\n",
       "      <td>190.0</td>\n",
       "      <td>1</td>\n",
       "      <td>NO_ERROR</td>\n",
       "    </tr>\n",
       "    <tr>\n",
       "      <th>4</th>\n",
       "      <td>4</td>\n",
       "      <td>11</td>\n",
       "      <td>2020-01-01 00:40:00+00:00</td>\n",
       "      <td>0.541667</td>\n",
       "      <td>0.23430</td>\n",
       "      <td>279.5</td>\n",
       "      <td>281.1</td>\n",
       "      <td>0.832215</td>\n",
       "      <td>0.700397</td>\n",
       "      <td>5.0</td>\n",
       "      <td>20.0</td>\n",
       "      <td>41.0</td>\n",
       "      <td>0.95</td>\n",
       "      <td>-2.0</td>\n",
       "      <td>189.9</td>\n",
       "      <td>1</td>\n",
       "      <td>NO_ERROR</td>\n",
       "    </tr>\n",
       "  </tbody>\n",
       "</table>\n",
       "</div>"
      ],
      "text/plain": [
       "   index  turbine_id               measured_at  wind_speed    power  \\\n",
       "0      0          11 2020-01-01 00:00:00+00:00    0.433333  0.12125   \n",
       "1      1          11 2020-01-01 00:10:00+00:00    0.458333  0.13875   \n",
       "2      2          11 2020-01-01 00:20:00+00:00    0.508333  0.18295   \n",
       "3      3          11 2020-01-01 00:30:00+00:00    0.525000  0.21810   \n",
       "4      4          11 2020-01-01 00:40:00+00:00    0.541667  0.23430   \n",
       "\n",
       "   nacelle_direction  wind_direction  rotor_speed  generator_speed  \\\n",
       "0              266.0           266.3     0.677852         0.569444   \n",
       "1              266.6           267.0     0.704698         0.591766   \n",
       "2              270.7           269.4     0.771812         0.647321   \n",
       "3              272.1           272.7     0.805369         0.676091   \n",
       "4              279.5           281.1     0.832215         0.700397   \n",
       "\n",
       "   temp_environment  temp_hydraulic_oil  temp_gear_bearing  cosphi  \\\n",
       "0               5.0                20.0               32.0    0.85   \n",
       "1               5.0                20.0               33.0    0.88   \n",
       "2               5.0                20.0               34.0    0.92   \n",
       "3               5.0                20.0               38.0    0.94   \n",
       "4               5.0                20.0               41.0    0.95   \n",
       "\n",
       "   blade_angle_avg  hydraulic_pressure  park_id error_category  \n",
       "0             -1.9               189.2        1       NO_ERROR  \n",
       "1              NaN               189.5        1       NO_ERROR  \n",
       "2             -2.0               190.1        1       NO_ERROR  \n",
       "3             -2.0               190.0        1       NO_ERROR  \n",
       "4             -2.0               189.9        1       NO_ERROR  "
      ]
     },
     "execution_count": 5,
     "metadata": {},
     "output_type": "execute_result"
    }
   ],
   "source": [
    "df.head()"
   ]
  },
  {
   "cell_type": "code",
   "execution_count": 6,
   "metadata": {},
   "outputs": [],
   "source": [
    "df['error'] = (df['error_category'] != 'NO_ERROR').astype(int)"
   ]
  },
  {
   "cell_type": "code",
   "execution_count": 9,
   "metadata": {},
   "outputs": [],
   "source": [
    "df = df.drop(columns=['index'])"
   ]
  },
  {
   "cell_type": "code",
   "execution_count": 10,
   "metadata": {},
   "outputs": [],
   "source": [
    "y = df.error\n",
    "X = df.drop(columns=['error','error_category'])"
   ]
  },
  {
   "cell_type": "code",
   "execution_count": 12,
   "metadata": {},
   "outputs": [
    {
     "data": {
      "text/html": [
       "<div>\n",
       "<style scoped>\n",
       "    .dataframe tbody tr th:only-of-type {\n",
       "        vertical-align: middle;\n",
       "    }\n",
       "\n",
       "    .dataframe tbody tr th {\n",
       "        vertical-align: top;\n",
       "    }\n",
       "\n",
       "    .dataframe thead th {\n",
       "        text-align: right;\n",
       "    }\n",
       "</style>\n",
       "<table border=\"1\" class=\"dataframe\">\n",
       "  <thead>\n",
       "    <tr style=\"text-align: right;\">\n",
       "      <th>col_0</th>\n",
       "      <th>% observations</th>\n",
       "    </tr>\n",
       "    <tr>\n",
       "      <th>error_category</th>\n",
       "      <th></th>\n",
       "    </tr>\n",
       "  </thead>\n",
       "  <tbody>\n",
       "    <tr>\n",
       "      <th>ERROR=12</th>\n",
       "      <td>0.034907</td>\n",
       "    </tr>\n",
       "    <tr>\n",
       "      <th>ERROR=17</th>\n",
       "      <td>0.015836</td>\n",
       "    </tr>\n",
       "    <tr>\n",
       "      <th>ERROR=19</th>\n",
       "      <td>0.002738</td>\n",
       "    </tr>\n",
       "    <tr>\n",
       "      <th>ERROR=20</th>\n",
       "      <td>0.000576</td>\n",
       "    </tr>\n",
       "    <tr>\n",
       "      <th>ERROR=22</th>\n",
       "      <td>0.000103</td>\n",
       "    </tr>\n",
       "    <tr>\n",
       "      <th>ERROR=23</th>\n",
       "      <td>0.000001</td>\n",
       "    </tr>\n",
       "    <tr>\n",
       "      <th>ERROR=24</th>\n",
       "      <td>0.001295</td>\n",
       "    </tr>\n",
       "    <tr>\n",
       "      <th>ERROR=25</th>\n",
       "      <td>0.000079</td>\n",
       "    </tr>\n",
       "    <tr>\n",
       "      <th>ERROR=27</th>\n",
       "      <td>0.000016</td>\n",
       "    </tr>\n",
       "    <tr>\n",
       "      <th>ERROR=28</th>\n",
       "      <td>0.001093</td>\n",
       "    </tr>\n",
       "    <tr>\n",
       "      <th>ERROR=29</th>\n",
       "      <td>0.000003</td>\n",
       "    </tr>\n",
       "    <tr>\n",
       "      <th>ERROR=3</th>\n",
       "      <td>0.007478</td>\n",
       "    </tr>\n",
       "    <tr>\n",
       "      <th>ERROR=30</th>\n",
       "      <td>0.000299</td>\n",
       "    </tr>\n",
       "    <tr>\n",
       "      <th>ERROR=31</th>\n",
       "      <td>0.000362</td>\n",
       "    </tr>\n",
       "    <tr>\n",
       "      <th>ERROR=5</th>\n",
       "      <td>0.003579</td>\n",
       "    </tr>\n",
       "    <tr>\n",
       "      <th>ERROR=7</th>\n",
       "      <td>0.000023</td>\n",
       "    </tr>\n",
       "    <tr>\n",
       "      <th>ERROR=8</th>\n",
       "      <td>0.000791</td>\n",
       "    </tr>\n",
       "    <tr>\n",
       "      <th>NO_ERROR</th>\n",
       "      <td>0.930821</td>\n",
       "    </tr>\n",
       "  </tbody>\n",
       "</table>\n",
       "</div>"
      ],
      "text/plain": [
       "col_0           % observations\n",
       "error_category                \n",
       "ERROR=12              0.034907\n",
       "ERROR=17              0.015836\n",
       "ERROR=19              0.002738\n",
       "ERROR=20              0.000576\n",
       "ERROR=22              0.000103\n",
       "ERROR=23              0.000001\n",
       "ERROR=24              0.001295\n",
       "ERROR=25              0.000079\n",
       "ERROR=27              0.000016\n",
       "ERROR=28              0.001093\n",
       "ERROR=29              0.000003\n",
       "ERROR=3               0.007478\n",
       "ERROR=30              0.000299\n",
       "ERROR=31              0.000362\n",
       "ERROR=5               0.003579\n",
       "ERROR=7               0.000023\n",
       "ERROR=8               0.000791\n",
       "NO_ERROR              0.930821"
      ]
     },
     "metadata": {},
     "output_type": "display_data"
    },
    {
     "data": {
      "text/html": [
       "<div>\n",
       "<style scoped>\n",
       "    .dataframe tbody tr th:only-of-type {\n",
       "        vertical-align: middle;\n",
       "    }\n",
       "\n",
       "    .dataframe tbody tr th {\n",
       "        vertical-align: top;\n",
       "    }\n",
       "\n",
       "    .dataframe thead th {\n",
       "        text-align: right;\n",
       "    }\n",
       "</style>\n",
       "<table border=\"1\" class=\"dataframe\">\n",
       "  <thead>\n",
       "    <tr style=\"text-align: right;\">\n",
       "      <th></th>\n",
       "      <th>turbine_id</th>\n",
       "      <th>wind_speed</th>\n",
       "      <th>power</th>\n",
       "      <th>nacelle_direction</th>\n",
       "      <th>wind_direction</th>\n",
       "      <th>rotor_speed</th>\n",
       "      <th>generator_speed</th>\n",
       "      <th>temp_environment</th>\n",
       "      <th>temp_hydraulic_oil</th>\n",
       "      <th>temp_gear_bearing</th>\n",
       "      <th>cosphi</th>\n",
       "      <th>blade_angle_avg</th>\n",
       "      <th>hydraulic_pressure</th>\n",
       "      <th>park_id</th>\n",
       "      <th>error</th>\n",
       "    </tr>\n",
       "  </thead>\n",
       "  <tbody>\n",
       "    <tr>\n",
       "      <th>count</th>\n",
       "      <td>1.367190e+06</td>\n",
       "      <td>1.266014e+06</td>\n",
       "      <td>1.309054e+06</td>\n",
       "      <td>1.367190e+06</td>\n",
       "      <td>1.367190e+06</td>\n",
       "      <td>1.270268e+06</td>\n",
       "      <td>1.268654e+06</td>\n",
       "      <td>1.295786e+06</td>\n",
       "      <td>1.295632e+06</td>\n",
       "      <td>1.296615e+06</td>\n",
       "      <td>1.367190e+06</td>\n",
       "      <td>1.179701e+06</td>\n",
       "      <td>1.367190e+06</td>\n",
       "      <td>1.367190e+06</td>\n",
       "      <td>1.367190e+06</td>\n",
       "    </tr>\n",
       "    <tr>\n",
       "      <th>mean</th>\n",
       "      <td>2.244315e+01</td>\n",
       "      <td>4.663860e-01</td>\n",
       "      <td>2.384691e-01</td>\n",
       "      <td>1.887500e+02</td>\n",
       "      <td>1.882401e+02</td>\n",
       "      <td>6.573762e-01</td>\n",
       "      <td>5.836231e-01</td>\n",
       "      <td>1.419195e+01</td>\n",
       "      <td>3.969343e+01</td>\n",
       "      <td>5.803339e+01</td>\n",
       "      <td>6.769930e-01</td>\n",
       "      <td>4.628796e+00</td>\n",
       "      <td>2.349338e+02</td>\n",
       "      <td>1.796216e+00</td>\n",
       "      <td>6.917912e-02</td>\n",
       "    </tr>\n",
       "    <tr>\n",
       "      <th>std</th>\n",
       "      <td>5.554621e+00</td>\n",
       "      <td>2.134209e-01</td>\n",
       "      <td>2.781603e-01</td>\n",
       "      <td>9.951697e+01</td>\n",
       "      <td>9.944392e+01</td>\n",
       "      <td>3.002881e-01</td>\n",
       "      <td>2.670225e-01</td>\n",
       "      <td>6.901452e+00</td>\n",
       "      <td>7.082436e+00</td>\n",
       "      <td>1.209096e+01</td>\n",
       "      <td>6.068740e-01</td>\n",
       "      <td>1.844806e+01</td>\n",
       "      <td>2.577628e+01</td>\n",
       "      <td>4.028107e-01</td>\n",
       "      <td>2.537586e-01</td>\n",
       "    </tr>\n",
       "    <tr>\n",
       "      <th>min</th>\n",
       "      <td>1.100000e+01</td>\n",
       "      <td>7.692308e-03</td>\n",
       "      <td>-1.770000e-02</td>\n",
       "      <td>0.000000e+00</td>\n",
       "      <td>0.000000e+00</td>\n",
       "      <td>0.000000e+00</td>\n",
       "      <td>0.000000e+00</td>\n",
       "      <td>-1.100000e+01</td>\n",
       "      <td>5.000000e+00</td>\n",
       "      <td>6.000000e+00</td>\n",
       "      <td>-1.000000e+00</td>\n",
       "      <td>-5.000000e+00</td>\n",
       "      <td>-2.000000e+00</td>\n",
       "      <td>1.000000e+00</td>\n",
       "      <td>0.000000e+00</td>\n",
       "    </tr>\n",
       "    <tr>\n",
       "      <th>25%</th>\n",
       "      <td>2.100000e+01</td>\n",
       "      <td>3.153846e-01</td>\n",
       "      <td>2.669697e-02</td>\n",
       "      <td>9.180000e+01</td>\n",
       "      <td>9.130000e+01</td>\n",
       "      <td>5.250000e-01</td>\n",
       "      <td>4.669333e-01</td>\n",
       "      <td>9.000000e+00</td>\n",
       "      <td>3.900000e+01</td>\n",
       "      <td>5.000000e+01</td>\n",
       "      <td>7.700000e-01</td>\n",
       "      <td>-2.800000e+00</td>\n",
       "      <td>2.467000e+02</td>\n",
       "      <td>2.000000e+00</td>\n",
       "      <td>0.000000e+00</td>\n",
       "    </tr>\n",
       "    <tr>\n",
       "      <th>50%</th>\n",
       "      <td>2.400000e+01</td>\n",
       "      <td>4.416667e-01</td>\n",
       "      <td>1.309500e-01</td>\n",
       "      <td>2.120000e+02</td>\n",
       "      <td>2.116000e+02</td>\n",
       "      <td>6.750000e-01</td>\n",
       "      <td>5.962302e-01</td>\n",
       "      <td>1.400000e+01</td>\n",
       "      <td>4.200000e+01</td>\n",
       "      <td>6.000000e+01</td>\n",
       "      <td>1.000000e+00</td>\n",
       "      <td>-2.100000e+00</td>\n",
       "      <td>2.471000e+02</td>\n",
       "      <td>2.000000e+00</td>\n",
       "      <td>0.000000e+00</td>\n",
       "    </tr>\n",
       "    <tr>\n",
       "      <th>75%</th>\n",
       "      <td>2.700000e+01</td>\n",
       "      <td>5.846154e-01</td>\n",
       "      <td>3.501515e-01</td>\n",
       "      <td>2.603000e+02</td>\n",
       "      <td>2.598000e+02</td>\n",
       "      <td>8.916667e-01</td>\n",
       "      <td>7.904000e-01</td>\n",
       "      <td>1.900000e+01</td>\n",
       "      <td>4.400000e+01</td>\n",
       "      <td>6.700000e+01</td>\n",
       "      <td>1.000000e+00</td>\n",
       "      <td>8.000000e-01</td>\n",
       "      <td>2.472000e+02</td>\n",
       "      <td>2.000000e+00</td>\n",
       "      <td>0.000000e+00</td>\n",
       "    </tr>\n",
       "    <tr>\n",
       "      <th>max</th>\n",
       "      <td>2.900000e+01</td>\n",
       "      <td>1.950000e+00</td>\n",
       "      <td>1.001242e+00</td>\n",
       "      <td>3.599000e+02</td>\n",
       "      <td>3.599000e+02</td>\n",
       "      <td>1.116667e+00</td>\n",
       "      <td>9.981333e-01</td>\n",
       "      <td>4.100000e+01</td>\n",
       "      <td>8.900000e+01</td>\n",
       "      <td>8.600000e+01</td>\n",
       "      <td>1.000000e+00</td>\n",
       "      <td>9.030000e+01</td>\n",
       "      <td>2.617000e+02</td>\n",
       "      <td>2.000000e+00</td>\n",
       "      <td>1.000000e+00</td>\n",
       "    </tr>\n",
       "  </tbody>\n",
       "</table>\n",
       "</div>"
      ],
      "text/plain": [
       "         turbine_id    wind_speed         power  nacelle_direction  \\\n",
       "count  1.367190e+06  1.266014e+06  1.309054e+06       1.367190e+06   \n",
       "mean   2.244315e+01  4.663860e-01  2.384691e-01       1.887500e+02   \n",
       "std    5.554621e+00  2.134209e-01  2.781603e-01       9.951697e+01   \n",
       "min    1.100000e+01  7.692308e-03 -1.770000e-02       0.000000e+00   \n",
       "25%    2.100000e+01  3.153846e-01  2.669697e-02       9.180000e+01   \n",
       "50%    2.400000e+01  4.416667e-01  1.309500e-01       2.120000e+02   \n",
       "75%    2.700000e+01  5.846154e-01  3.501515e-01       2.603000e+02   \n",
       "max    2.900000e+01  1.950000e+00  1.001242e+00       3.599000e+02   \n",
       "\n",
       "       wind_direction   rotor_speed  generator_speed  temp_environment  \\\n",
       "count    1.367190e+06  1.270268e+06     1.268654e+06      1.295786e+06   \n",
       "mean     1.882401e+02  6.573762e-01     5.836231e-01      1.419195e+01   \n",
       "std      9.944392e+01  3.002881e-01     2.670225e-01      6.901452e+00   \n",
       "min      0.000000e+00  0.000000e+00     0.000000e+00     -1.100000e+01   \n",
       "25%      9.130000e+01  5.250000e-01     4.669333e-01      9.000000e+00   \n",
       "50%      2.116000e+02  6.750000e-01     5.962302e-01      1.400000e+01   \n",
       "75%      2.598000e+02  8.916667e-01     7.904000e-01      1.900000e+01   \n",
       "max      3.599000e+02  1.116667e+00     9.981333e-01      4.100000e+01   \n",
       "\n",
       "       temp_hydraulic_oil  temp_gear_bearing        cosphi  blade_angle_avg  \\\n",
       "count        1.295632e+06       1.296615e+06  1.367190e+06     1.179701e+06   \n",
       "mean         3.969343e+01       5.803339e+01  6.769930e-01     4.628796e+00   \n",
       "std          7.082436e+00       1.209096e+01  6.068740e-01     1.844806e+01   \n",
       "min          5.000000e+00       6.000000e+00 -1.000000e+00    -5.000000e+00   \n",
       "25%          3.900000e+01       5.000000e+01  7.700000e-01    -2.800000e+00   \n",
       "50%          4.200000e+01       6.000000e+01  1.000000e+00    -2.100000e+00   \n",
       "75%          4.400000e+01       6.700000e+01  1.000000e+00     8.000000e-01   \n",
       "max          8.900000e+01       8.600000e+01  1.000000e+00     9.030000e+01   \n",
       "\n",
       "       hydraulic_pressure       park_id         error  \n",
       "count        1.367190e+06  1.367190e+06  1.367190e+06  \n",
       "mean         2.349338e+02  1.796216e+00  6.917912e-02  \n",
       "std          2.577628e+01  4.028107e-01  2.537586e-01  \n",
       "min         -2.000000e+00  1.000000e+00  0.000000e+00  \n",
       "25%          2.467000e+02  2.000000e+00  0.000000e+00  \n",
       "50%          2.471000e+02  2.000000e+00  0.000000e+00  \n",
       "75%          2.472000e+02  2.000000e+00  0.000000e+00  \n",
       "max          2.617000e+02  2.000000e+00  1.000000e+00  "
      ]
     },
     "metadata": {},
     "output_type": "display_data"
    },
    {
     "data": {
      "image/png": "[encoded data removed]",
      "text/plain": [
       "<Figure size 1440x1440 with 16 Axes>"
      ]
     },
     "metadata": {
      "needs_background": "light"
     },
     "output_type": "display_data"
    }
   ],
   "source": [
    "for column in df.select_dtypes(include=['object']).columns:\n",
    "    display(pd.crosstab(index=df[column], columns='% observations', normalize='columns'))\n",
    "\n",
    "# Histograms for each numeric features\n",
    "display(df.describe()) \n",
    "%matplotlib inline\n",
    "hist = df.hist(bins=30, sharey=True, figsize=(20, 20))"
   ]
  },
  {
   "cell_type": "code",
   "execution_count": 13,
   "metadata": {},
   "outputs": [
    {
     "name": "stdout",
     "output_type": "stream",
     "text": [
      "turbine_id\n"
     ]
    },
    {
     "data": {
      "image/png": "[encoded data removed]",
      "text/plain": [
       "<Figure size 432x288 with 2 Axes>"
      ]
     },
     "metadata": {
      "needs_background": "light"
     },
     "output_type": "display_data"
    },
    {
     "name": "stdout",
     "output_type": "stream",
     "text": [
      "measured_at\n"
     ]
    },
    {
     "data": {
      "image/png": "[encoded data removed]",
      "text/plain": [
       "<Figure size 432x288 with 2 Axes>"
      ]
     },
     "metadata": {
      "needs_background": "light"
     },
     "output_type": "display_data"
    },
    {
     "name": "stdout",
     "output_type": "stream",
     "text": [
      "wind_speed\n"
     ]
    },
    {
     "data": {
      "image/png": "[encoded data removed]",
      "text/plain": [
       "<Figure size 432x288 with 2 Axes>"
      ]
     },
     "metadata": {
      "needs_background": "light"
     },
     "output_type": "display_data"
    },
    {
     "name": "stdout",
     "output_type": "stream",
     "text": [
      "power\n"
     ]
    },
    {
     "data": {
      "image/png": "[encoded data removed]",
      "text/plain": [
       "<Figure size 432x288 with 2 Axes>"
      ]
     },
     "metadata": {
      "needs_background": "light"
     },
     "output_type": "display_data"
    },
    {
     "name": "stdout",
     "output_type": "stream",
     "text": [
      "nacelle_direction\n"
     ]
    },
    {
     "data": {
      "image/png": "[encoded data removed]",
      "text/plain": [
       "<Figure size 432x288 with 2 Axes>"
      ]
     },
     "metadata": {
      "needs_background": "light"
     },
     "output_type": "display_data"
    },
    {
     "name": "stdout",
     "output_type": "stream",
     "text": [
      "wind_direction\n"
     ]
    },
    {
     "data": {
      "image/png": "[encoded data removed]",
      "text/plain": [
       "<Figure size 432x288 with 2 Axes>"
      ]
     },
     "metadata": {
      "needs_background": "light"
     },
     "output_type": "display_data"
    },
    {
     "name": "stdout",
     "output_type": "stream",
     "text": [
      "rotor_speed\n"
     ]
    },
    {
     "data": {
      "image/png": "[encoded data removed]",
      "text/plain": [
       "<Figure size 432x288 with 2 Axes>"
      ]
     },
     "metadata": {
      "needs_background": "light"
     },
     "output_type": "display_data"
    },
    {
     "name": "stdout",
     "output_type": "stream",
     "text": [
      "generator_speed\n"
     ]
    },
    {
     "data": {
      "image/png": "[encoded data removed]",
      "text/plain": [
       "<Figure size 432x288 with 2 Axes>"
      ]
     },
     "metadata": {
      "needs_background": "light"
     },
     "output_type": "display_data"
    },
    {
     "name": "stdout",
     "output_type": "stream",
     "text": [
      "temp_environment\n"
     ]
    },
    {
     "data": {
      "image/png": "[encoded data removed]",
      "text/plain": [
       "<Figure size 432x288 with 2 Axes>"
      ]
     },
     "metadata": {
      "needs_background": "light"
     },
     "output_type": "display_data"
    },
    {
     "name": "stdout",
     "output_type": "stream",
     "text": [
      "temp_hydraulic_oil\n"
     ]
    },
    {
     "data": {
      "image/png": "[encoded data removed]",
      "text/plain": [
       "<Figure size 432x288 with 2 Axes>"
      ]
     },
     "metadata": {
      "needs_background": "light"
     },
     "output_type": "display_data"
    },
    {
     "name": "stdout",
     "output_type": "stream",
     "text": [
      "temp_gear_bearing\n"
     ]
    },
    {
     "data": {
      "image/png": "[encoded data removed]",
      "text/plain": [
       "<Figure size 432x288 with 2 Axes>"
      ]
     },
     "metadata": {
      "needs_background": "light"
     },
     "output_type": "display_data"
    },
    {
     "name": "stdout",
     "output_type": "stream",
     "text": [
      "cosphi\n"
     ]
    },
    {
     "data": {
      "image/png": "[encoded data removed]",
      "text/plain": [
       "<Figure size 432x288 with 2 Axes>"
      ]
     },
     "metadata": {
      "needs_background": "light"
     },
     "output_type": "display_data"
    },
    {
     "name": "stdout",
     "output_type": "stream",
     "text": [
      "blade_angle_avg\n"
     ]
    },
    {
     "data": {
      "image/png": "[encoded data removed]",
      "text/plain": [
       "<Figure size 432x288 with 2 Axes>"
      ]
     },
     "metadata": {
      "needs_background": "light"
     },
     "output_type": "display_data"
    },
    {
     "name": "stdout",
     "output_type": "stream",
     "text": [
      "hydraulic_pressure\n"
     ]
    },
    {
     "data": {
      "image/png": "[encoded data removed]",
      "text/plain": [
       "<Figure size 432x288 with 2 Axes>"
      ]
     },
     "metadata": {
      "needs_background": "light"
     },
     "output_type": "display_data"
    },
    {
     "name": "stdout",
     "output_type": "stream",
     "text": [
      "park_id\n"
     ]
    },
    {
     "data": {
      "image/png": "[encoded data removed]",
      "text/plain": [
       "<Figure size 432x288 with 2 Axes>"
      ]
     },
     "metadata": {
      "needs_background": "light"
     },
     "output_type": "display_data"
    }
   ],
   "source": [
    "for column in X.select_dtypes(exclude=['object']).columns: \n",
    "    print(column)\n",
    "    hist = df[[column,'error']].hist(by='error', bins=10, ec='black', sharey=True)\n",
    "    plt.show()"
   ]
  },
  {
   "cell_type": "markdown",
   "metadata": {},
   "source": [
    "                                                Train with Gradient Boosting on ERROR / NO-ERROR   \n",
    "_____________________________________________________________________________________________________________________"
   ]
  },
  {
   "cell_type": "code",
   "execution_count": 15,
   "metadata": {},
   "outputs": [],
   "source": [
    "X_train, X_test, y_train, y_test = train_test_split(X,\n",
    "                                                    y,\n",
    "                                                    stratify=y,\n",
    "                                                    test_size=0.2,\n",
    "                                                    random_state=11) "
   ]
  },
  {
   "cell_type": "code",
   "execution_count": null,
   "metadata": {},
   "outputs": [],
   "source": []
  }
 ],
 "metadata": {
  "interpreter": {
   "hash": "369f2c481f4da34e4445cda3fffd2e751bd1c4d706f27375911949ba6bb62e1c"
  },
  "kernelspec": {
   "display_name": "Python 3.10.3 64-bit",
   "language": "python",
   "name": "python3"
  },
  "language_info": {
   "codemirror_mode": {
    "name": "ipython",
    "version": 3
   },
   "file_extension": ".py",
   "mimetype": "text/x-python",
   "name": "python",
   "nbconvert_exporter": "python",
   "pygments_lexer": "ipython3",
   "version": "3.10.3"
  },
  "orig_nbformat": 4
 },
 "nbformat": 4,
 "nbformat_minor": 2
}
